{
 "cells": [
  {
   "cell_type": "markdown",
   "id": "849ddded-32ae-4b2a-bf13-fd23542a83cc",
   "metadata": {},
   "source": [
    "### **S7.4 : Working with Dropdown & Multiselect**"
   ]
  },
  {
   "cell_type": "markdown",
   "id": "a03eb62a-ec65-4af7-b9bb-2a723efe5f52",
   "metadata": {},
   "source": [
    "#### **Dropdown Handling in Selenium**\n",
    "\n",
    "\n",
    "\n",
    "\n",
    "\n",
    "\n",
    "#### **Common Methods:**\n",
    "| Method                         | Description                                         |\n",
    "| ------------------------------ | --------------------------------------------------- |\n",
    "| **`select_by_index(index)`**      | Selects option by position (e.g., `0` for first)    |\n",
    "| **`select_by_value(value)`**      | Selects option by `value` attribute (e.g., `\"us\"`)  |\n",
    "| **`select_by_visible_text(text)`** | Selects by option's visible text (e.g., `\"India\"`)  |\n",
    "| **`options`**                      | Returns a list of all available `<option>` elements |\n"
   ]
  },
  {
   "cell_type": "code",
   "execution_count": null,
   "id": "2bdeeb5b-9baa-4849-814f-991e092a7620",
   "metadata": {},
   "outputs": [],
   "source": []
  },
  {
   "cell_type": "code",
   "execution_count": 20,
   "id": "87d1fd30-9ea5-423d-a1c5-e6a2aba1883c",
   "metadata": {},
   "outputs": [
    {
     "name": "stdout",
     "output_type": "stream",
     "text": [
      "✅ Opened URL: https://www.miniclip.com/careers/vacancies\n"
     ]
    }
   ],
   "source": [
    "from selenium import webdriver\n",
    "from selenium.webdriver.edge.service import Service\n",
    "import time\n",
    "from selenium.webdriver.common.by import By\n",
    "from selenium.webdriver.common.keys import Keys\n",
    "from selenium.webdriver.support.select import Select\n",
    "\n",
    "def open_url_edge(url: str):\n",
    "    # Path to msedgedriver.exe (change this path to your actual path)\n",
    "    edge_driver_path = r\"D:\\WEB SCRAPING\\S7.Selenium\\edgedriver_win64\\msedgedriver.exe\"\n",
    "    service = Service(edge_driver_path)\n",
    "\n",
    "    # Launch Edge browser\n",
    "    driver = webdriver.Edge(service=service)\n",
    "\n",
    "    # Open the URL\n",
    "    driver.get(url)\n",
    "    driver.maximize_window()\n",
    "    print(f\"✅ Opened URL: {url}\")  \n",
    "    time.sleep(3) \n",
    "    department_field = driver.find_element(by=By.XPATH, value=\"//fieldset[3]//select[1]\")\n",
    "    \n",
    "    # Scroll to make the dropdown visible\n",
    "    # driver.execute_script(\"arguments[0].scrollIntoView(true);\", department_field)\n",
    "    driver.execute_script(\"window.scrollBy(0, 500);\") \n",
    "    \n",
    "    time.sleep(2)\n",
    "    departments_dropdwon = Select(department_field) \n",
    "    time.sleep(3) \n",
    "    departments_dropdwon.select_by_index(5)\n",
    "    time.sleep(3) \n",
    "    departments_dropdwon.select_by_visible_text('IT')\n",
    "    time.sleep(10) \n",
    "    driver.quit() \n",
    "    \n",
    "open_url_edge(\"https://www.miniclip.com/careers/vacancies\")"
   ]
  },
  {
   "cell_type": "code",
   "execution_count": null,
   "id": "2bdfaacc-5d2d-485a-ac60-4889f36eba91",
   "metadata": {},
   "outputs": [],
   "source": []
  },
  {
   "cell_type": "markdown",
   "id": "23c0ee46-20e0-4eeb-b513-1bed91aed2f9",
   "metadata": {},
   "source": [
    "### **S7.5 : Working with Multiselect**\n",
    "\n",
    "\n",
    "\n",
    "#### **Multiselect methods**\n",
    "| Method                           | Purpose                                   | Type     |\n",
    "| -------------------------------- | ----------------------------------------- | -------- |\n",
    "| **`deselect_by_index(index)`**       | Deselects option by its index             | Deselect |\n",
    "| **`deselect_by_value(value)`**       | Deselects option by its `value` attribute | Deselect |\n",
    "| **`deselect_by_visible_text(text)`** | Deselects option by its visible text      | Deselect |\n",
    "| **`deselect_all()`**                 | Deselects all selected options            | Deselect |\n"
   ]
  },
  {
   "cell_type": "markdown",
   "id": "4d3207a1-ded1-4e39-821f-45cf5951ce7c",
   "metadata": {},
   "source": [
    "```html\n",
    "<select multiple=\"\" name=\"cars\" id=\"cars\">\n",
    "    <option value=\"volvo\">Volvo</option>\n",
    "    <option value=\"saab\">Saab</option>\n",
    "    <option value=\"opel\">Opel</option>\n",
    "    <option value=\"audi\">Audi</option>\n",
    "</select>\n",
    "```"
   ]
  },
  {
   "cell_type": "code",
   "execution_count": 19,
   "id": "e85d0cd5-659d-49c9-add6-4e16be2acf56",
   "metadata": {},
   "outputs": [
    {
     "name": "stdout",
     "output_type": "stream",
     "text": [
      "✅ Opened URL: https://demoqa.com/select-menu\n"
     ]
    }
   ],
   "source": [
    "from selenium import webdriver\n",
    "from selenium.webdriver.edge.service import Service\n",
    "import time\n",
    "from selenium.webdriver.common.by import By\n",
    "from selenium.webdriver.common.keys import Keys\n",
    "from selenium.webdriver.support.select import Select\n",
    "\n",
    "def open_url_edge(url: str):\n",
    "    # Path to msedgedriver.exe (change this path to your actual path)\n",
    "    edge_driver_path = r\"D:\\WEB SCRAPING\\S7.Selenium\\edgedriver_win64\\msedgedriver.exe\"\n",
    "    service = Service(edge_driver_path)\n",
    "\n",
    "    # Launch Edge browser\n",
    "    driver = webdriver.Edge(service=service)\n",
    "\n",
    "    # Open the URL\n",
    "    driver.get(url)\n",
    "    driver.maximize_window()\n",
    "    print(f\"✅ Opened URL: {url}\")  \n",
    "    time.sleep(2) \n",
    "    driver.execute_script(\"window.scrollBy(0, 500);\")\n",
    "\n",
    "    cars_element = driver.find_element(By.XPATH, '//*[@id=\"cars\"]' )\n",
    "\n",
    "    # Selecting \n",
    "    select_cars = Select(cars_element)\n",
    "    time.sleep(2) \n",
    "    select_cars.select_by_index(1)\n",
    "    time.sleep(1) \n",
    "    select_cars.select_by_visible_text(\"Volvo\")\n",
    "    time.sleep(1) \n",
    "    select_cars.select_by_value(value=\"audi\")  # <option value=\"audi\">Audi</option>\n",
    "    \n",
    "    time.sleep(5)\n",
    "\n",
    "    # Deselecting\n",
    "    select_cars.deselect_by_index(1) # deselecting Saab\n",
    "    time.sleep(1)\n",
    "    select_cars.deselect_all()\n",
    "    time.sleep(5)\n",
    "\n",
    "    driver.quit()\n",
    "\n",
    "url = \"https://demoqa.com/select-menu\"\n",
    "open_url_edge(url)"
   ]
  },
  {
   "cell_type": "code",
   "execution_count": null,
   "id": "dd68124b-ffa7-4e53-81ac-0691cdaa406f",
   "metadata": {},
   "outputs": [],
   "source": []
  },
  {
   "cell_type": "code",
   "execution_count": null,
   "id": "9ece6ade-dad8-4cbb-83ba-7a506265da7c",
   "metadata": {},
   "outputs": [],
   "source": []
  },
  {
   "cell_type": "code",
   "execution_count": null,
   "id": "e3695216-1b78-4f60-a9d2-a9d0f371ac25",
   "metadata": {},
   "outputs": [],
   "source": []
  },
  {
   "cell_type": "code",
   "execution_count": null,
   "id": "e61bc869-733e-4ce0-9e90-978f126d97c5",
   "metadata": {},
   "outputs": [],
   "source": []
  },
  {
   "cell_type": "code",
   "execution_count": null,
   "id": "1c695cb8-a066-4c9f-b81e-4c6c616dad1a",
   "metadata": {},
   "outputs": [],
   "source": []
  },
  {
   "cell_type": "code",
   "execution_count": null,
   "id": "1865d8a4-14a6-490c-8be7-0a1d0b7cde39",
   "metadata": {},
   "outputs": [],
   "source": []
  },
  {
   "cell_type": "code",
   "execution_count": null,
   "id": "4f4a67ad-229a-4231-b09a-ddb21dcf1974",
   "metadata": {},
   "outputs": [],
   "source": []
  }
 ],
 "metadata": {
  "kernelspec": {
   "display_name": "Web Scraping",
   "language": "python",
   "name": "web_scraping"
  },
  "language_info": {
   "codemirror_mode": {
    "name": "ipython",
    "version": 3
   },
   "file_extension": ".py",
   "mimetype": "text/x-python",
   "name": "python",
   "nbconvert_exporter": "python",
   "pygments_lexer": "ipython3",
   "version": "3.13.5"
  }
 },
 "nbformat": 4,
 "nbformat_minor": 5
}

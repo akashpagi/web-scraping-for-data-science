{
 "cells": [
  {
   "cell_type": "markdown",
   "id": "95386ceb-7d0b-42f0-87d6-44e883e72c57",
   "metadata": {},
   "source": [
    "## **REQUESTS LIBARARY**"
   ]
  },
  {
   "cell_type": "markdown",
   "id": "31f56f39-9532-410e-911f-0ac48f4019d0",
   "metadata": {},
   "source": [
    "#### Importing the requests library"
   ]
  },
  {
   "cell_type": "code",
   "execution_count": 1,
   "id": "144525f0-5f3b-4f2b-832b-12c7f6ff3a97",
   "metadata": {},
   "outputs": [],
   "source": [
    "import requests"
   ]
  },
  {
   "cell_type": "code",
   "execution_count": 2,
   "id": "2c9a6700-8752-40a0-8338-14fd8a120e20",
   "metadata": {},
   "outputs": [
    {
     "name": "stdout",
     "output_type": "stream",
     "text": [
      "2.32.4\n"
     ]
    }
   ],
   "source": [
    "# Check for which version we are using\n",
    "print(requests.__version__)"
   ]
  },
  {
   "cell_type": "markdown",
   "id": "e38de9c3-5e41-4707-b59f-0f6758210f79",
   "metadata": {},
   "source": [
    "#### Basic Syntax\n",
    "- **response = requests.get(\"uri\")**"
   ]
  },
  {
   "cell_type": "markdown",
   "id": "8a549e92-747f-43f2-bb06-fa1fb319fa45",
   "metadata": {},
   "source": [
    "#### **GET**\n",
    "- Send a request to GitHub API & printing the response\n",
    "- Print Status Code & Content\n",
    "- **GitHub API :** `https://api.github.com`"
   ]
  },
  {
   "cell_type": "code",
   "execution_count": 3,
   "id": "f229e485-a565-431f-8af0-be9a9272fffc",
   "metadata": {},
   "outputs": [],
   "source": [
    "# GET example\n",
    "uri = \"https://api.github.com\"\n",
    "get_response = requests.get(uri)"
   ]
  },
  {
   "cell_type": "code",
   "execution_count": 4,
   "id": "818f0d8d-ec33-4f79-8fb5-2373ae6db271",
   "metadata": {},
   "outputs": [
    {
     "name": "stdout",
     "output_type": "stream",
     "text": [
      "<Response [200]>\n"
     ]
    }
   ],
   "source": [
    "print(get_response)"
   ]
  },
  {
   "cell_type": "code",
   "execution_count": 5,
   "id": "1ad6de0e-e3d2-4765-981c-fc905a2be91f",
   "metadata": {},
   "outputs": [
    {
     "data": {
      "text/plain": [
       "200"
      ]
     },
     "execution_count": 5,
     "metadata": {},
     "output_type": "execute_result"
    }
   ],
   "source": [
    "# Status Code\n",
    "get_response.status_code"
   ]
  },
  {
   "cell_type": "code",
   "execution_count": 6,
   "id": "3f481e47-f99a-4a21-8fdc-354545bcb8fd",
   "metadata": {},
   "outputs": [
    {
     "data": {
      "text/plain": [
       "b'{\\n  \"current_user_url\": \"https://api.github.com/user\",\\n  \"current_user_authorizations_html_url\": \"https://github.com/settings/connections/applications{/client_id}\",\\n  \"authorizations_url\": \"https://api.github.com/authorizations\",\\n  \"code_search_url\": \"https://api.github.com/search/code?q={query}{&page,per_page,sort,order}\",\\n  \"commit_search_url\": \"https://api.github.com/search/commits?q={query}{&page,per_page,sort,order}\",\\n  \"emails_url\": \"https://api.github.com/user/emails\",\\n  \"emojis_url\": \"https://api.github.com/emojis\",\\n  \"events_url\": \"https://api.github.com/events\",\\n  \"feeds_url\": \"https://api.github.com/feeds\",\\n  \"followers_url\": \"https://api.github.com/user/followers\",\\n  \"following_url\": \"https://api.github.com/user/following{/target}\",\\n  \"gists_url\": \"https://api.github.com/gists{/gist_id}\",\\n  \"hub_url\": \"https://api.github.com/hub\",\\n  \"issue_search_url\": \"https://api.github.com/search/issues?q={query}{&page,per_page,sort,order}\",\\n  \"issues_url\": \"https://api.github.com/issues'"
      ]
     },
     "execution_count": 6,
     "metadata": {},
     "output_type": "execute_result"
    }
   ],
   "source": [
    "# Content\n",
    "get_response.content[:1000]"
   ]
  },
  {
   "cell_type": "markdown",
   "id": "0b1fba63-e025-458d-95d2-203b87f90d72",
   "metadata": {},
   "source": [
    "##### **Query Parameters:**\n",
    "- They are parameters which are included in the URI as part of the request message.\n",
    "- Mainly used to filter the data received from the server.\n",
    "- In a **URI**, these are placed after the **`?`** and separated by **`&`**\n",
    "- **Application:** Filter phones by a price range in an e-commerce website\n",
    "    - **`Ex. www.flipkart.com?product=phones&min_price=10000&max_price=30000`**\n",
    " "
   ]
  },
  {
   "cell_type": "markdown",
   "id": "69ce7fed-0f6d-4b5e-b965-c4d11dbf9d53",
   "metadata": {},
   "source": [
    "#### **GET using Query Parameteres:**\n",
    "- Search for Github repo that contains the word **`requests`** and the main language used is **`python`**\n",
    "- GitHub API : **`https://api.github.com/search/repositories`**"
   ]
  },
  {
   "cell_type": "code",
   "execution_count": 7,
   "id": "7ff1f3d6-b091-4269-9544-c9ff31593421",
   "metadata": {},
   "outputs": [],
   "source": [
    "uri = \"https://api.github.com/search/repositories\"\n",
    "\n",
    "# Create a dictory for queries\n",
    "params = {\n",
    "    \"q\": \"requests+language:python\"\n",
    "}"
   ]
  },
  {
   "cell_type": "code",
   "execution_count": 8,
   "id": "d7500e8b-8d3e-4968-bc87-2452c2f2cb6c",
   "metadata": {},
   "outputs": [],
   "source": [
    "get_query_response = requests.get(uri, params=params)"
   ]
  },
  {
   "cell_type": "code",
   "execution_count": 9,
   "id": "6387daae-adc9-424b-a36e-67d6cf3bf51b",
   "metadata": {},
   "outputs": [
    {
     "data": {
      "text/plain": [
       "<Response [200]>"
      ]
     },
     "execution_count": 9,
     "metadata": {},
     "output_type": "execute_result"
    }
   ],
   "source": [
    "get_query_response"
   ]
  },
  {
   "cell_type": "code",
   "execution_count": 10,
   "id": "548d542c-13ce-4204-bc83-19c29b40b732",
   "metadata": {},
   "outputs": [
    {
     "data": {
      "text/plain": [
       "200"
      ]
     },
     "execution_count": 10,
     "metadata": {},
     "output_type": "execute_result"
    }
   ],
   "source": [
    "get_query_response.status_code"
   ]
  },
  {
   "cell_type": "code",
   "execution_count": 11,
   "id": "9cce03ea-c428-48d2-8ce0-c740710e1c97",
   "metadata": {},
   "outputs": [
    {
     "data": {
      "text/plain": [
       "b'{\"total_count\":271,\"incomplete_results\":false,\"items\":[{\"id\":33210074,\"node_id\":\"MDEwOlJlcG9zaXRvcnkzMzIxMDA3NA==\",\"name\":\"secrules-language-evaluation\",\"full_name\":\"SpiderLabs/secrules-language-evaluation\",\"private\":false,\"owner\":{\"login\":\"SpiderLabs\",\"id\":508521,\"node_id\":\"MDEyOk9yZ2FuaXphdGlvbjUwODUyMQ==\",\"avatar_url\":\"https://avatars.githubusercontent.com/u/508521?v=4\",\"gravatar_id\":\"\",\"url\":\"https://api.github.com/users/SpiderLabs\",\"html_url\":\"https://github.com/SpiderLabs\",\"followers_url\":\"https://api.github.com/users/SpiderLabs/followers\",\"following_url\":\"https://api.github.com/users/SpiderLabs/following{/other_user}\",\"gists_url\":\"https://api.github.com/users/SpiderLabs/gists{/gist_id}\",\"starred_url\":\"https://api.github.com/users/SpiderLabs/starred{/owner}{/repo}\",\"subscriptions_url\":\"https://api.github.com/users/SpiderLabs/subscriptions\",\"organizations_url\":\"https://api.github.com/users/SpiderLabs/orgs\",\"repos_url\":\"https://api.github.com/users/SpiderLabs/repos\",\"events_url\":\"https://api.github.com/users/SpiderLabs/events{/privacy}\",\"received_events_url\":\"https://api.github.com/users/SpiderLabs/received_events\",\"type\":\"Organization\",\"user_view_type\":\"public\",\"site_admin\":false},\"html_url\":\"https://github.com/SpiderLabs/secrules-language-evaluation\",\"description\":\"Set of Python scripts to perform SecRules language evaluation on a given http request.\",\"fork\":false,\"url\":\"https://api.github.com/repos/SpiderLabs/secrules-language-evaluation\",\"forks_url\":\"https://api.github.com/repos/SpiderLabs/secrules-language-evaluation/forks\",\"keys_url\":\"https://api.github.com/repos/SpiderLabs/secrules-language-evaluation/keys{/key_id}\",\"collaborators_url\":\"https://api.github.com/repos/SpiderLabs/secrules-language-evaluation/collaborators{/collaborator}\",\"teams_url\":\"https://api.github.com/repos/SpiderLabs/secrules-language-evaluation/teams\",\"hooks_url\":\"https://api.github.com/repos/SpiderLabs/secrules-language-evaluation/hooks\",\"issue_events_url\":\"https://api.github.com/repo'"
      ]
     },
     "execution_count": 11,
     "metadata": {},
     "output_type": "execute_result"
    }
   ],
   "source": [
    "get_query_response.content[:2000]"
   ]
  },
  {
   "cell_type": "markdown",
   "id": "86f3e2ab-daeb-4d8f-af36-592aac976461",
   "metadata": {},
   "source": [
    "##### **POST**\n",
    "- Send some data to test server\n",
    "- **Server Address** : `https://httpbin.org/post`\n",
    "- **`NOTE:`** Data sends in a form format"
   ]
  },
  {
   "cell_type": "code",
   "execution_count": 12,
   "id": "6d561b22-fd80-4c96-b89b-880d9a6386ec",
   "metadata": {},
   "outputs": [],
   "source": [
    "post_uri = \"https://httpbin.org/post\""
   ]
  },
  {
   "cell_type": "code",
   "execution_count": 13,
   "id": "a512d5cc-f8b2-45ab-947a-66b5c7cb2278",
   "metadata": {},
   "outputs": [],
   "source": [
    "data = {\n",
    "    'username' : \"akashpagi\",\n",
    "    'password' : \"ASP123!@#\"\n",
    "}"
   ]
  },
  {
   "cell_type": "code",
   "execution_count": 14,
   "id": "1fa6d827-b34c-40b0-aef2-5a5fddc8c728",
   "metadata": {},
   "outputs": [],
   "source": [
    "post_response = requests.post(post_uri, data=data)"
   ]
  },
  {
   "cell_type": "raw",
   "id": "37c2ddec-9155-4511-b2cf-2479a7dbd9f9",
   "metadata": {},
   "source": [
    "print(post_response)"
   ]
  },
  {
   "cell_type": "code",
   "execution_count": 15,
   "id": "5d9826d6-e6f2-45be-89e7-bc2d87225cfa",
   "metadata": {},
   "outputs": [
    {
     "name": "stdout",
     "output_type": "stream",
     "text": [
      "<Response [200]>\n"
     ]
    }
   ],
   "source": [
    "print(post_response)"
   ]
  },
  {
   "cell_type": "code",
   "execution_count": 16,
   "id": "62f4e991-3f46-4bbe-806e-77b4f32ef37d",
   "metadata": {},
   "outputs": [
    {
     "data": {
      "text/plain": [
       "200"
      ]
     },
     "execution_count": 16,
     "metadata": {},
     "output_type": "execute_result"
    }
   ],
   "source": [
    "post_response.status_code"
   ]
  },
  {
   "cell_type": "code",
   "execution_count": 17,
   "id": "c11ea4e4-6d0c-4843-bc6c-ee5b88eea956",
   "metadata": {},
   "outputs": [
    {
     "data": {
      "text/plain": [
       "{'args': {},\n",
       " 'data': '',\n",
       " 'files': {},\n",
       " 'form': {'password': 'ASP123!@#', 'username': 'akashpagi'},\n",
       " 'headers': {'Accept': '*/*',\n",
       "  'Accept-Encoding': 'gzip, deflate, br',\n",
       "  'Content-Length': '43',\n",
       "  'Content-Type': 'application/x-www-form-urlencoded',\n",
       "  'Host': 'httpbin.org',\n",
       "  'User-Agent': 'python-requests/2.32.4',\n",
       "  'X-Amzn-Trace-Id': 'Root=1-6875d29d-1461c3265c2dd9c07adae9e8'},\n",
       " 'json': None,\n",
       " 'origin': '103.196.78.23',\n",
       " 'url': 'https://httpbin.org/post'}"
      ]
     },
     "execution_count": 17,
     "metadata": {},
     "output_type": "execute_result"
    }
   ],
   "source": [
    "post_response.json()"
   ]
  },
  {
   "cell_type": "markdown",
   "id": "196a2053-7df5-4adb-b82c-c2d37260df44",
   "metadata": {},
   "source": [
    "##### **Creating conveient function that takes response object and give us content-types**"
   ]
  },
  {
   "cell_type": "code",
   "execution_count": 18,
   "id": "6727c377-5d59-4195-bfb8-2dfb8ad9df02",
   "metadata": {},
   "outputs": [
    {
     "data": {
      "text/plain": [
       "'x-www-form-urlencoded'"
      ]
     },
     "execution_count": 18,
     "metadata": {},
     "output_type": "execute_result"
    }
   ],
   "source": [
    "post_response.json()['headers']['Content-Type'].split('/')[1]"
   ]
  },
  {
   "cell_type": "code",
   "execution_count": 19,
   "id": "67e1c825-bdb9-43d9-a0ef-48447b6a774c",
   "metadata": {},
   "outputs": [],
   "source": [
    "def get_request_data_format(received_response):\n",
    "    json_response = received_response.json()\n",
    "    content_type = json_response['headers']['Content-Type']\n",
    "    data_format = content_type.split('/')[1]\n",
    "    print(f'Response data format: {data_format}')\n",
    "    return data_format\n"
   ]
  },
  {
   "cell_type": "code",
   "execution_count": 20,
   "id": "8719f5b1-2fff-4753-853c-e300b1ab1793",
   "metadata": {},
   "outputs": [
    {
     "name": "stdout",
     "output_type": "stream",
     "text": [
      "Response data format: x-www-form-urlencoded\n"
     ]
    },
    {
     "data": {
      "text/plain": [
       "'x-www-form-urlencoded'"
      ]
     },
     "execution_count": 20,
     "metadata": {},
     "output_type": "execute_result"
    }
   ],
   "source": [
    "get_request_data_format(post_response)    "
   ]
  },
  {
   "cell_type": "markdown",
   "id": "20f1b868-8e1c-4354-b0b0-1ffdb13d73a6",
   "metadata": {},
   "source": [
    "##### **WORKING WITH `JSON` FORMAT:**\n",
    "- APIs usually excepted data in **`JSON`** format\n",
    "- Send data in **`JSON`** format using **`POST`**  message"
   ]
  },
  {
   "cell_type": "code",
   "execution_count": 21,
   "id": "b5367872-ef8f-4650-ac2d-19c086c95b6f",
   "metadata": {},
   "outputs": [
    {
     "name": "stdout",
     "output_type": "stream",
     "text": [
      "https://httpbin.org/post\n"
     ]
    }
   ],
   "source": [
    "print(post_uri)"
   ]
  },
  {
   "cell_type": "code",
   "execution_count": 22,
   "id": "c830ee9d-614b-42c1-ba74-d71e406d03e4",
   "metadata": {},
   "outputs": [
    {
     "data": {
      "text/plain": [
       "{'username': 'akashpagi', 'password': 'ASP123!@#'}"
      ]
     },
     "execution_count": 22,
     "metadata": {},
     "output_type": "execute_result"
    }
   ],
   "source": [
    "data"
   ]
  },
  {
   "cell_type": "code",
   "execution_count": 23,
   "id": "a55933cd-ad1d-4fbe-9821-6e8710a07015",
   "metadata": {},
   "outputs": [],
   "source": [
    "post_response_2 = requests.post(post_uri, json=data)"
   ]
  },
  {
   "cell_type": "code",
   "execution_count": 24,
   "id": "1205bfd4-5935-42fc-92e4-c461b3433a70",
   "metadata": {},
   "outputs": [
    {
     "name": "stdout",
     "output_type": "stream",
     "text": [
      "<Response [200]>\n"
     ]
    }
   ],
   "source": [
    "print(post_response_2)"
   ]
  },
  {
   "cell_type": "code",
   "execution_count": 25,
   "id": "db7db379-67da-407f-8dd9-7a83bb4286ca",
   "metadata": {},
   "outputs": [
    {
     "data": {
      "text/plain": [
       "200"
      ]
     },
     "execution_count": 25,
     "metadata": {},
     "output_type": "execute_result"
    }
   ],
   "source": [
    "post_response_2.status_code"
   ]
  },
  {
   "cell_type": "code",
   "execution_count": 26,
   "id": "226670da-38ec-419c-b0ee-b80a12f44d90",
   "metadata": {},
   "outputs": [
    {
     "data": {
      "text/plain": [
       "{'args': {},\n",
       " 'data': '{\"username\": \"akashpagi\", \"password\": \"ASP123!@#\"}',\n",
       " 'files': {},\n",
       " 'form': {},\n",
       " 'headers': {'Accept': '*/*',\n",
       "  'Accept-Encoding': 'gzip, deflate, br',\n",
       "  'Content-Length': '50',\n",
       "  'Content-Type': 'application/json',\n",
       "  'Host': 'httpbin.org',\n",
       "  'User-Agent': 'python-requests/2.32.4',\n",
       "  'X-Amzn-Trace-Id': 'Root=1-6875d29f-3b47004d33c1b32923d843a8'},\n",
       " 'json': {'password': 'ASP123!@#', 'username': 'akashpagi'},\n",
       " 'origin': '103.196.78.23',\n",
       " 'url': 'https://httpbin.org/post'}"
      ]
     },
     "execution_count": 26,
     "metadata": {},
     "output_type": "execute_result"
    }
   ],
   "source": [
    "post_response_2.json()"
   ]
  },
  {
   "cell_type": "code",
   "execution_count": 27,
   "id": "06b9b6c9-9b38-44ec-95bf-ab17eaf79a66",
   "metadata": {},
   "outputs": [
    {
     "name": "stdout",
     "output_type": "stream",
     "text": [
      "Response data format: json\n"
     ]
    },
    {
     "data": {
      "text/plain": [
       "'json'"
      ]
     },
     "execution_count": 27,
     "metadata": {},
     "output_type": "execute_result"
    }
   ],
   "source": [
    "get_request_data_format(post_response_2)"
   ]
  },
  {
   "cell_type": "markdown",
   "id": "a5b0f1f2-1a16-40aa-b2bf-e0252cfa1e81",
   "metadata": {},
   "source": [
    "#### **PUT**\n",
    "- **Use:** Replace a resource entirely, or create if it doesn’t exist\n",
    "- **Server Address** : `https://httpbin.org/put`"
   ]
  },
  {
   "cell_type": "code",
   "execution_count": 28,
   "id": "6ba61848-b13a-4c98-a9f0-2afc0bcea99c",
   "metadata": {},
   "outputs": [],
   "source": [
    "put_uri = 'https://httpbin.org/put'\n",
    "\n",
    "data = {\n",
    "  \"name\": \"Akash\",\n",
    "  \"role\": \"Intern\"\n",
    "}"
   ]
  },
  {
   "cell_type": "code",
   "execution_count": 29,
   "id": "492e3691-cda8-4f36-b8e4-69c5a9ea92f1",
   "metadata": {},
   "outputs": [
    {
     "data": {
      "text/plain": [
       "200"
      ]
     },
     "execution_count": 29,
     "metadata": {},
     "output_type": "execute_result"
    }
   ],
   "source": [
    "put_response = requests.put(put_uri, data=data)\n",
    "put_response.status_code"
   ]
  },
  {
   "cell_type": "code",
   "execution_count": 30,
   "id": "51dcce39-688b-48e0-9f5e-779028254020",
   "metadata": {},
   "outputs": [
    {
     "data": {
      "text/plain": [
       "{'args': {},\n",
       " 'data': '',\n",
       " 'files': {},\n",
       " 'form': {'name': 'Akash', 'role': 'Intern'},\n",
       " 'headers': {'Accept': '*/*',\n",
       "  'Accept-Encoding': 'gzip, deflate, br',\n",
       "  'Content-Length': '22',\n",
       "  'Content-Type': 'application/x-www-form-urlencoded',\n",
       "  'Host': 'httpbin.org',\n",
       "  'User-Agent': 'python-requests/2.32.4',\n",
       "  'X-Amzn-Trace-Id': 'Root=1-6875d2a0-26ad96417664ef230bb8e541'},\n",
       " 'json': None,\n",
       " 'origin': '103.196.78.23',\n",
       " 'url': 'https://httpbin.org/put'}"
      ]
     },
     "execution_count": 30,
     "metadata": {},
     "output_type": "execute_result"
    }
   ],
   "source": [
    "put_response.json()"
   ]
  },
  {
   "cell_type": "markdown",
   "id": "3b41fc2f-50cc-46a2-8f1c-2da16ea4a704",
   "metadata": {},
   "source": [
    "#### **DELETE**\n",
    "- **Use:** Remove a resource\n",
    "- **Address** : `https://httpbin.org/delete`"
   ]
  },
  {
   "cell_type": "code",
   "execution_count": 31,
   "id": "49b37950-7f7d-401a-af30-e42ce4c2671a",
   "metadata": {},
   "outputs": [
    {
     "data": {
      "text/plain": [
       "200"
      ]
     },
     "execution_count": 31,
     "metadata": {},
     "output_type": "execute_result"
    }
   ],
   "source": [
    "delete_uri = 'https://httpbin.org/delete'\n",
    "\n",
    "delete_response = requests.delete(delete_uri)\n",
    "delete_response.status_code"
   ]
  },
  {
   "cell_type": "code",
   "execution_count": 32,
   "id": "d587ebc6-53bd-4e1d-aec2-3d59d3652d91",
   "metadata": {},
   "outputs": [
    {
     "data": {
      "text/plain": [
       "{'args': {},\n",
       " 'data': '',\n",
       " 'files': {},\n",
       " 'form': {},\n",
       " 'headers': {'Accept': '*/*',\n",
       "  'Accept-Encoding': 'gzip, deflate, br',\n",
       "  'Content-Length': '0',\n",
       "  'Host': 'httpbin.org',\n",
       "  'User-Agent': 'python-requests/2.32.4',\n",
       "  'X-Amzn-Trace-Id': 'Root=1-6875d2a0-23f8c5193c4c3efa5895a316'},\n",
       " 'json': None,\n",
       " 'origin': '103.196.78.23',\n",
       " 'url': 'https://httpbin.org/delete'}"
      ]
     },
     "execution_count": 32,
     "metadata": {},
     "output_type": "execute_result"
    }
   ],
   "source": [
    "delete_response.json()"
   ]
  },
  {
   "cell_type": "markdown",
   "id": "4c5b1b86-76d0-4a51-8c90-4f943b826130",
   "metadata": {},
   "source": [
    "#### ✅ **`Headers`**\n",
    "- **HTTP headers are key-value pairs sent between client and server to:**\n",
    "    - ✅ Provide metadata about a request or response\n",
    "    - ✅ Control how data is handled\n",
    "    - ✅ Send additional info like authentication, content types, and caching rules\n",
    "- **They appear in both:**\n",
    "    - **Request headers** (sent by the client)\n",
    "    - **Response headers** (sent by the server)\n",
    "\n",
    "- **Address** : `https://httpbin.org/headers`\n"
   ]
  },
  {
   "cell_type": "code",
   "execution_count": 33,
   "id": "348f7012-6ace-471a-932e-25be2acb2a05",
   "metadata": {},
   "outputs": [],
   "source": [
    "headers = {\n",
    "    'User-Agent': 'Mozilla/5.0 (Windows NT 10.0; Win64; x64)',\n",
    "    'Accept': 'application/json',\n",
    "    'Authorization': 'Bearer YOUR_ACCESS_TOKEN',\n",
    "    'Content-Type': 'application/json',\n",
    "    'X-Custom-Header': 'CustomValue',\n",
    "}\n"
   ]
  },
  {
   "cell_type": "code",
   "execution_count": 34,
   "id": "77791131-5a96-4ce8-9111-8f144a5cbc41",
   "metadata": {},
   "outputs": [
    {
     "data": {
      "text/plain": [
       "200"
      ]
     },
     "execution_count": 34,
     "metadata": {},
     "output_type": "execute_result"
    }
   ],
   "source": [
    "\n",
    "headers_uri = \"https://httpbin.org/headers\"\n",
    "\n",
    "headers_response = requests.get(headers_uri, headers=headers)\n",
    "\n",
    "headers_response.status_code"
   ]
  },
  {
   "cell_type": "code",
   "execution_count": 35,
   "id": "2b115c9e-2b57-4dc2-b10a-5766a1ad89f8",
   "metadata": {},
   "outputs": [
    {
     "data": {
      "text/plain": [
       "{'Date': 'Tue, 15 Jul 2025 04:01:37 GMT', 'Content-Type': 'application/json', 'Content-Length': '391', 'Connection': 'keep-alive', 'Server': 'gunicorn/19.9.0', 'Access-Control-Allow-Origin': '*', 'Access-Control-Allow-Credentials': 'true'}"
      ]
     },
     "execution_count": 35,
     "metadata": {},
     "output_type": "execute_result"
    }
   ],
   "source": [
    "headers_response.headers"
   ]
  },
  {
   "cell_type": "code",
   "execution_count": 36,
   "id": "e4ec6b0f-8d53-4950-be9b-2b6c5f38a8f4",
   "metadata": {},
   "outputs": [
    {
     "data": {
      "text/plain": [
       "requests.structures.CaseInsensitiveDict"
      ]
     },
     "execution_count": 36,
     "metadata": {},
     "output_type": "execute_result"
    }
   ],
   "source": [
    "type(headers_response.headers)"
   ]
  },
  {
   "cell_type": "code",
   "execution_count": 37,
   "id": "b15d58de-3d2c-44ab-bafb-eb98b425a117",
   "metadata": {},
   "outputs": [
    {
     "data": {
      "text/plain": [
       "{'Date': 'Tue, 15 Jul 2025 04:01:37 GMT',\n",
       " 'Content-Type': 'application/json',\n",
       " 'Content-Length': '391',\n",
       " 'Connection': 'keep-alive',\n",
       " 'Server': 'gunicorn/19.9.0',\n",
       " 'Access-Control-Allow-Origin': '*',\n",
       " 'Access-Control-Allow-Credentials': 'true'}"
      ]
     },
     "execution_count": 37,
     "metadata": {},
     "output_type": "execute_result"
    }
   ],
   "source": [
    "# Wrapping with python dictinory\n",
    "dict(headers_response.headers)"
   ]
  },
  {
   "cell_type": "code",
   "execution_count": 38,
   "id": "4e4ac9cc-6bdb-4a05-b8d4-31c6c8105096",
   "metadata": {},
   "outputs": [
    {
     "data": {
      "text/plain": [
       "{'headers': {'Accept': 'application/json',\n",
       "  'Accept-Encoding': 'gzip, deflate, br',\n",
       "  'Authorization': 'Bearer YOUR_ACCESS_TOKEN',\n",
       "  'Content-Type': 'application/json',\n",
       "  'Host': 'httpbin.org',\n",
       "  'User-Agent': 'Mozilla/5.0 (Windows NT 10.0; Win64; x64)',\n",
       "  'X-Amzn-Trace-Id': 'Root=1-6875d2a1-095f9e23677fb6af05379cc4',\n",
       "  'X-Custom-Header': 'CustomValue'}}"
      ]
     },
     "execution_count": 38,
     "metadata": {},
     "output_type": "execute_result"
    }
   ],
   "source": [
    "headers_response.json()"
   ]
  },
  {
   "cell_type": "code",
   "execution_count": 39,
   "id": "a82d07ff-f71c-4b83-898c-b97b33c63de6",
   "metadata": {},
   "outputs": [
    {
     "data": {
      "text/plain": [
       "dict_items([('Accept', 'application/json'), ('Accept-Encoding', 'gzip, deflate, br'), ('Authorization', 'Bearer YOUR_ACCESS_TOKEN'), ('Content-Type', 'application/json'), ('Host', 'httpbin.org'), ('User-Agent', 'Mozilla/5.0 (Windows NT 10.0; Win64; x64)'), ('X-Amzn-Trace-Id', 'Root=1-6875d2a1-095f9e23677fb6af05379cc4'), ('X-Custom-Header', 'CustomValue')])"
      ]
     },
     "execution_count": 39,
     "metadata": {},
     "output_type": "execute_result"
    }
   ],
   "source": [
    "headers_response.json()['headers'].items()"
   ]
  },
  {
   "cell_type": "code",
   "execution_count": 40,
   "id": "2122a05d-50d2-43ce-8631-5da219a074ad",
   "metadata": {},
   "outputs": [
    {
     "name": "stdout",
     "output_type": "stream",
     "text": [
      "Accept            : application/json\n",
      "Accept-Encoding   : gzip, deflate, br\n",
      "Authorization     : Bearer YOUR_ACCESS_TOKEN\n",
      "Content-Type      : application/json\n",
      "Host              : httpbin.org\n",
      "User-Agent        : Mozilla/5.0 (Windows NT 10.0; Win64; x64)\n",
      "X-Amzn-Trace-Id   : Root=1-6875d2a1-095f9e23677fb6af05379cc4\n",
      "X-Custom-Header   : CustomValue\n"
     ]
    }
   ],
   "source": [
    "headers_dictionaries = headers_response.json()['headers'].items()\n",
    "\n",
    "for headers, values in headers_dictionaries:\n",
    "    print(f\"{headers:<17} : {values}\")"
   ]
  },
  {
   "cell_type": "markdown",
   "id": "97ae7fd2-2ff4-4d06-bed9-5bf904ca58a3",
   "metadata": {},
   "source": [
    "#### ✅ Response Object\n",
    "- **Address:** `https://api.github.com`\n",
    "- The most common attributes of the response object are:\n",
    "    - **`status_code`** → Shows the HTTP status code of the request\n",
    "e.g. 200, 404, 500\n",
    "\n",
    "    - **`text`** → Shows the content of the response as a string e.g. HTML, JSON string\n",
    "\n",
    "    - **`content`** → Shows the content of the response as binary data e.g. images, files\n",
    "\n",
    "    - **`headers`** → Shows all the response headers (returns a dictionary-like object)\n",
    "\n",
    "    - **`json()`** → Parses the server’s response as JSON (returns a Python dictionary if JSON is valid)"
   ]
  },
  {
   "cell_type": "code",
   "execution_count": 41,
   "id": "365ff984-4af4-43e0-bccb-f9e345a820c5",
   "metadata": {},
   "outputs": [],
   "source": [
    "res_uri = \"https://api.github.com\""
   ]
  },
  {
   "cell_type": "code",
   "execution_count": 42,
   "id": "2553cae3-f895-4ffb-bb60-e9415905747c",
   "metadata": {},
   "outputs": [],
   "source": [
    "response_object = requests.get(res_uri)"
   ]
  },
  {
   "cell_type": "code",
   "execution_count": 43,
   "id": "75181c20-78fd-46fa-af2f-347ee0280bb8",
   "metadata": {},
   "outputs": [
    {
     "data": {
      "text/plain": [
       "<Response [200]>"
      ]
     },
     "execution_count": 43,
     "metadata": {},
     "output_type": "execute_result"
    }
   ],
   "source": [
    "response_object"
   ]
  },
  {
   "cell_type": "code",
   "execution_count": 44,
   "id": "fce4287b-40f5-4ec4-bcbe-3c8f2fc625f2",
   "metadata": {},
   "outputs": [
    {
     "data": {
      "text/plain": [
       "200"
      ]
     },
     "execution_count": 44,
     "metadata": {},
     "output_type": "execute_result"
    }
   ],
   "source": [
    "response_object.status_code"
   ]
  },
  {
   "cell_type": "code",
   "execution_count": 45,
   "id": "621665ce-2ae0-42a6-b84f-158cac306019",
   "metadata": {},
   "outputs": [
    {
     "data": {
      "text/plain": [
       "int"
      ]
     },
     "execution_count": 45,
     "metadata": {},
     "output_type": "execute_result"
    }
   ],
   "source": [
    "type(response_object.status_code)"
   ]
  },
  {
   "cell_type": "code",
   "execution_count": 46,
   "id": "f944056d-a82b-4ab6-a0ad-c3cf809e784d",
   "metadata": {},
   "outputs": [],
   "source": [
    "url = \"https://api.github.com\"\n",
    "\n",
    "def check_request(url):\n",
    "    try:\n",
    "        response_object = requests.get(url)\n",
    "        if response_object.status_code == 200:\n",
    "            print(f\"{response_object.status_code}: Successful Request \")\n",
    "        else:\n",
    "            print(f\"Unsuccessful Request !\")\n",
    "    except requests.exceptions.RequestsException as e:\n",
    "        print(e)"
   ]
  },
  {
   "cell_type": "code",
   "execution_count": 47,
   "id": "980fafa1-cd02-4032-a823-b9cab5eec1e8",
   "metadata": {},
   "outputs": [
    {
     "name": "stdout",
     "output_type": "stream",
     "text": [
      "200: Successful Request \n"
     ]
    }
   ],
   "source": [
    "check_request(url)"
   ]
  },
  {
   "cell_type": "code",
   "execution_count": 48,
   "id": "e852dbca-6e7c-4829-bee2-7a6d9bbe5705",
   "metadata": {},
   "outputs": [
    {
     "data": {
      "text/plain": [
       "'{\\n  \"current_user_url\": \"https://api.github.com/user\",\\n  \"current_user_authorizations_html_url\": \"https://github.com/settings/connections/applications{/client_id}\",\\n  \"authorizations_url\": \"https://api.github.com/authorizations\",\\n  \"code_search_url\": \"https://api.github.com/search/code?q={query}{&page,per_page,sort,order}\",\\n  \"commit_search_url\": \"https://api.github.com/search/commits?q={query}{&page,per_page,sort,order}\",\\n  \"emails_url\": \"https://api.github.com/user/emails\",\\n  \"emojis_url\": \"https://api.github.com/emojis\",\\n  \"events_url\": \"https://api.github.com/events\",\\n  \"feeds_url\": \"https://api.github.com/feeds\",\\n  \"followers_url\": \"https://api.github.com/user/followers\",\\n  \"following_url\": \"https://api.github.com/user/following{/target}\",\\n  \"gists_url\": \"https://api.github.com/gists{/gist_id}\",\\n  \"hub_url\": \"https://api.github.com/hub\",\\n  \"issue_search_url\": \"https://api.github.com/search/issues?q={query}{&page,per_page,sort,order}\",\\n  \"issues_url\": \"https://api.github.com/issues\",\\n  \"keys_url\": \"https://api.github.com/user/keys\",\\n  \"label_search_url\": \"https://api.github.com/search/labels?q={query}&repository_id={repository_id}{&page,per_page}\",\\n  \"notifications_url\": \"https://api.github.com/notifications\",\\n  \"organization_url\": \"https://api.github.com/orgs/{org}\",\\n  \"organization_repositories_url\": \"https://api.github.com/orgs/{org}/repos{?type,page,per_page,sort}\",\\n  \"organization_teams_url\": \"https://api.github.com/orgs/{org}/teams\",\\n  \"public_gists_url\": \"https://api.github.com/gists/public\",\\n  \"rate_limit_url\": \"https://api.github.com/rate_limit\",\\n  \"repository_url\": \"https://api.github.com/repos/{owner}/{repo}\",\\n  \"repository_search_url\": \"https://api.github.com/search/repositories?q={query}{&page,per_page,sort,order}\",\\n  \"current_user_repositories_url\": \"https://api.github.com/user/repos{?type,page,per_page,sort}\",\\n  \"starred_url\": \"https://api.github.com/user/starred{/owner}{/repo}\",\\n  \"starred_gists_url\": \"https://api.github.com/gists/starred\",\\n  \"topic_search_url\": \"https://api.github.com/search/topics?q={query}{&page,per_page}\",\\n  \"user_url\": \"https://api.github.com/users/{user}\",\\n  \"user_organizations_url\": \"https://api.github.com/user/orgs\",\\n  \"user_repositories_url\": \"https://api.github.com/users/{user}/repos{?type,page,per_page,sort}\",\\n  \"user_search_url\": \"https://api.github.com/search/users?q={query}{&page,per_page,sort,order}\"\\n}\\n'"
      ]
     },
     "execution_count": 48,
     "metadata": {},
     "output_type": "execute_result"
    }
   ],
   "source": [
    "# text\n",
    "response_object.text"
   ]
  },
  {
   "cell_type": "code",
   "execution_count": 49,
   "id": "c5c54797-66c4-4f3a-b1b7-d66c1694a5d5",
   "metadata": {},
   "outputs": [
    {
     "data": {
      "text/plain": [
       "str"
      ]
     },
     "execution_count": 49,
     "metadata": {},
     "output_type": "execute_result"
    }
   ],
   "source": [
    "type(response_object.text)"
   ]
  },
  {
   "cell_type": "code",
   "execution_count": 50,
   "id": "c279182e-b575-4f79-9d27-8cd7b6e9a050",
   "metadata": {},
   "outputs": [],
   "source": [
    "json_str = '''\n",
    "    \n",
    "'{\"current_user_url\":\"https://api.github.com/user\",\"current_user_authorizations_html_url\":\"https://github.com/settings/connections/applications{/client_id}\",\"authorizations_url\":\"https://api.github.com/authorizations\",\"code_search_url\":\"https://api.github.com/search/code?q={query}{&page,per_page,sort,order}\",\"commit_search_url\":\"https://api.github.com/search/commits?q={query}{&page,per_page,sort,order}\",\"emails_url\":\"https://api.github.com/user/emails\",\"emojis_url\":\"https://api.github.com/emojis\",\"events_url\":\"https://api.github.com/events\",\"feeds_url\":\"https://api.github.com/feeds\",\"followers_url\":\"https://api.github.com/user/followers\",\"following_url\":\"https://api.github.com/user/following{/target}\",\"gists_url\":\"https://api.github.com/gists{/gist_id}\",\"hub_url\":\"https://api.github.com/hub\",\"issue_search_url\":\"https://api.github.com/search/issues?q={query}{&page,per_page,sort,order}\",\"issues_url\":\"https://api.github.com/issues\",\"keys_url\":\"https://api.github.com/user/keys\",\"label_search_url\":\"https://api.github.com/search/labels?q={query}&repository_id={repository_id}{&page,per_page}\",\"notifications_url\":\"https://api.github.com/notifications\",\"organization_url\":\"https://api.github.com/orgs/{org}\",\"organization_repositories_url\":\"https://api.github.com/orgs/{org}/repos{?type,page,per_page,sort}\",\"organization_teams_url\":\"https://api.github.com/orgs/{org}/teams\",\"public_gists_url\":\"https://api.github.com/gists/public\",\"rate_limit_url\":\"https://api.github.com/rate_limit\",\"repository_url\":\"https://api.github.com/repos/{owner}/{repo}\",\"repository_search_url\":\"https://api.github.com/search/repositories?q={query}{&page,per_page,sort,order}\",\"current_user_repositories_url\":\"https://api.github.com/user/repos{?type,page,per_page,sort}\",\"starred_url\":\"https://api.github.com/user/starred{/owner}{/repo}\",\"starred_gists_url\":\"https://api.github.com/gists/starred\",\"topic_search_url\":\"https://api.github.com/search/topics?q={query}{&page,per_page}\",\"user_url\":\"https://api.github.com/users/{user}\",\"user_organizations_url\":\"https://api.github.com/user/orgs\",\"user_repositories_url\":\"https://api.github.com/users/{user}/repos{?type,page,per_page,sort}\",\"user_search_url\":\"https://api.github.com/search/users?q={query}{&page,per_page,sort,order}\"}'\n",
    "'''"
   ]
  },
  {
   "cell_type": "code",
   "execution_count": 51,
   "id": "abf7e155-529f-4894-8695-6cce22bf8c42",
   "metadata": {},
   "outputs": [
    {
     "name": "stdout",
     "output_type": "stream",
     "text": [
      "https://api.github.com/user\n",
      "https://github.com/settings/connections/applications{/client_id\n",
      "https://api.github.com/authorizations\n",
      "https://api.github.com/search/code?q={query}{&page\n",
      "https://api.github.com/search/commits?q={query}{&page\n",
      "https://api.github.com/user/emails\n",
      "https://api.github.com/emojis\n",
      "https://api.github.com/events\n",
      "https://api.github.com/feeds\n",
      "https://api.github.com/user/followers\n",
      "https://api.github.com/user/following{/target\n",
      "https://api.github.com/gists{/gist_id\n",
      "https://api.github.com/hub\n",
      "https://api.github.com/search/issues?q={query}{&page\n",
      "https://api.github.com/issues\n",
      "https://api.github.com/user/keys\n",
      "https://api.github.com/search/labels?q={query}&repository_id={repository_id}{&page\n",
      "https://api.github.com/notifications\n",
      "https://api.github.com/orgs/{org\n",
      "https://api.github.com/orgs/{org}/repos{?type\n",
      "https://api.github.com/orgs/{org}/teams\n",
      "https://api.github.com/gists/public\n",
      "https://api.github.com/rate_limit\n",
      "https://api.github.com/repos/{owner}/{repo\n",
      "https://api.github.com/search/repositories?q={query}{&page\n",
      "https://api.github.com/user/repos{?type\n",
      "https://api.github.com/user/starred{/owner}{/repo\n",
      "https://api.github.com/gists/starred\n",
      "https://api.github.com/search/topics?q={query}{&page\n",
      "https://api.github.com/users/{user\n",
      "https://api.github.com/user/orgs\n",
      "https://api.github.com/users/{user}/repos{?type\n",
      "https://api.github.com/search/users?q={query}{&page\n"
     ]
    }
   ],
   "source": [
    "# Step 1: Split by comma\n",
    "parts = json_str.split(',')\n",
    "\n",
    "# Step 2: Loop and extract URLs\n",
    "for part in parts:\n",
    "    if 'http' in part:\n",
    "        # Split by colon and take the last part (after the key)\n",
    "        url = part.split(':', 1)[1]  # gives part after first colon\n",
    "        # If there are multiple colons (e.g., in https://), add them back\n",
    "        if not url.startswith('\"http'):\n",
    "            url = part.split(':', 1)[1] + ':' + part.split(':', 2)[2]\n",
    "        # Clean quotes and extra characters\n",
    "        url = url.strip().strip('\"').strip('}')\n",
    "        print(url)\n"
   ]
  },
  {
   "cell_type": "code",
   "execution_count": 52,
   "id": "086aee35-ade0-48c0-9bc0-c6462e654192",
   "metadata": {},
   "outputs": [
    {
     "name": "stdout",
     "output_type": "stream",
     "text": [
      "{\n",
      "  \"current_user_url\": \"https://api.github.com/user\",\n",
      "  \"current_user_authorizations_html_url\": \"https://github.com/settings/connections/applications{/client_id}\",\n",
      "  \"authorizations_url\": \"https://api.github.com/authorizations\",\n",
      "  \"code_search_url\": \"https://api.github.com/search/code?q={query}{&page,per_page,sort,order}\",\n",
      "  \"commit_search_url\": \"https://api.github.com/search/commits?q={query}{&page,per_page,sort,order}\",\n",
      "  \"emails_url\": \"https://api.github.com/user/emails\",\n",
      "  \"emojis_url\": \"https://api.github.com/emojis\",\n",
      "  \"events_url\": \"https://api.github.com/events\",\n",
      "  \"feeds_url\": \"https://api.github.com/feeds\",\n",
      "  \"followers_url\": \"https://api.github.com/user/followers\",\n",
      "  \"following_url\": \"https://api.github.com/user/following{/target}\",\n",
      "  \"gists_url\": \"https://api.github.com/gists{/gist_id}\",\n",
      "  \"hub_url\": \"https://api.github.com/hub\",\n",
      "  \"issue_search_url\": \"https://api.github.com/search/issues?q={query}{&page,per_page,sort,order}\",\n",
      "  \"issues_url\": \"https://api.github.com/issues\",\n",
      "  \"keys_url\": \"https://api.github.com/user/keys\",\n",
      "  \"label_search_url\": \"https://api.github.com/search/labels?q={query}&repository_id={repository_id}{&page,per_page}\",\n",
      "  \"notifications_url\": \"https://api.github.com/notifications\",\n",
      "  \"organization_url\": \"https://api.github.com/orgs/{org}\",\n",
      "  \"organization_repositories_url\": \"https://api.github.com/orgs/{org}/repos{?type,page,per_page,sort}\",\n",
      "  \"organization_teams_url\": \"https://api.github.com/orgs/{org}/teams\",\n",
      "  \"public_gists_url\": \"https://api.github.com/gists/public\",\n",
      "  \"rate_limit_url\": \"https://api.github.com/rate_limit\",\n",
      "  \"repository_url\": \"https://api.github.com/repos/{owner}/{repo}\",\n",
      "  \"repository_search_url\": \"https://api.github.com/search/repositories?q={query}{&page,per_page,sort,order}\",\n",
      "  \"current_user_repositories_url\": \"https://api.github.com/user/repos{?type,page,per_page,sort}\",\n",
      "  \"starred_url\": \"https://api.github.com/user/starred{/owner}{/repo}\",\n",
      "  \"starred_gists_url\": \"https://api.github.com/gists/starred\",\n",
      "  \"topic_search_url\": \"https://api.github.com/search/topics?q={query}{&page,per_page}\",\n",
      "  \"user_url\": \"https://api.github.com/users/{user}\",\n",
      "  \"user_organizations_url\": \"https://api.github.com/user/orgs\",\n",
      "  \"user_repositories_url\": \"https://api.github.com/users/{user}/repos{?type,page,per_page,sort}\",\n",
      "  \"user_search_url\": \"https://api.github.com/search/users?q={query}{&page,per_page,sort,order}\"\n",
      "}\n",
      "\n"
     ]
    }
   ],
   "source": [
    "import requests\n",
    "import json\n",
    "\n",
    "url = \"https://api.github.com\"\n",
    "\n",
    "# Step 1 — Send the request\n",
    "response = requests.get(url)\n",
    "\n",
    "# Step 2 — Get the text\n",
    "text_data = response.text\n",
    "\n",
    "# text_data is a string (JSON string)\n",
    "# print(\"Type of text_data:\", type(text_data))\n",
    "print(text_data)\n"
   ]
  },
  {
   "cell_type": "code",
   "execution_count": 53,
   "id": "eb1b51a7-00bc-4e48-89f8-366ddb527732",
   "metadata": {},
   "outputs": [],
   "source": [
    "# Step 3 — Convert JSON string to dictionary\n",
    "data_dict = json.loads(text_data)\n"
   ]
  },
  {
   "cell_type": "code",
   "execution_count": 54,
   "id": "7ee7c088-0b0f-4644-a5b0-a3b2203b1b2f",
   "metadata": {},
   "outputs": [
    {
     "name": "stdout",
     "output_type": "stream",
     "text": [
      "Extracted URLs:\n",
      "https://api.github.com/user\n",
      "https://github.com/settings/connections/applications{/client_id}\n",
      "https://api.github.com/authorizations\n",
      "https://api.github.com/search/code?q={query}{&page,per_page,sort,order}\n",
      "https://api.github.com/search/commits?q={query}{&page,per_page,sort,order}\n",
      "https://api.github.com/user/emails\n",
      "https://api.github.com/emojis\n",
      "https://api.github.com/events\n",
      "https://api.github.com/feeds\n",
      "https://api.github.com/user/followers\n",
      "https://api.github.com/user/following{/target}\n",
      "https://api.github.com/gists{/gist_id}\n",
      "https://api.github.com/hub\n",
      "https://api.github.com/search/issues?q={query}{&page,per_page,sort,order}\n",
      "https://api.github.com/issues\n",
      "https://api.github.com/user/keys\n",
      "https://api.github.com/search/labels?q={query}&repository_id={repository_id}{&page,per_page}\n",
      "https://api.github.com/notifications\n",
      "https://api.github.com/orgs/{org}\n",
      "https://api.github.com/orgs/{org}/repos{?type,page,per_page,sort}\n",
      "https://api.github.com/orgs/{org}/teams\n",
      "https://api.github.com/gists/public\n",
      "https://api.github.com/rate_limit\n",
      "https://api.github.com/repos/{owner}/{repo}\n",
      "https://api.github.com/search/repositories?q={query}{&page,per_page,sort,order}\n",
      "https://api.github.com/user/repos{?type,page,per_page,sort}\n",
      "https://api.github.com/user/starred{/owner}{/repo}\n",
      "https://api.github.com/gists/starred\n",
      "https://api.github.com/search/topics?q={query}{&page,per_page}\n",
      "https://api.github.com/users/{user}\n",
      "https://api.github.com/user/orgs\n",
      "https://api.github.com/users/{user}/repos{?type,page,per_page,sort}\n",
      "https://api.github.com/search/users?q={query}{&page,per_page,sort,order}\n"
     ]
    }
   ],
   "source": [
    "urls = []\n",
    "\n",
    "for key, value in data_dict.items():\n",
    "    if isinstance(value, str) and value.startswith(\"https://\"):\n",
    "        urls.append(value)\n",
    "\n",
    "print(\"Extracted URLs:\")\n",
    "for u in urls:\n",
    "    print(u)\n"
   ]
  },
  {
   "cell_type": "code",
   "execution_count": 55,
   "id": "e60d7e52-9dae-400e-ac93-5216e9af4b08",
   "metadata": {},
   "outputs": [
    {
     "data": {
      "text/plain": [
       "'{\\n  \"CURRENT_USER_URL\": \"HTTPS://API.GITHUB.COM/USER\",\\n  \"CURRENT_USER_AUTHORIZATIONS_HTML_URL\": \"HTTPS://GITHUB.COM/SETTINGS/CONNECTIONS/APPLICATIONS{/CLIENT_ID}\",\\n  \"AUTHORIZATIONS_URL\": \"HTTPS://API.GITHUB.COM/AUTHORIZATIONS\",\\n  \"CODE_SEARCH_URL\": \"HTTPS://API.GITHUB.COM/SEARCH/CODE?Q={QUERY}{&PAGE,PER_PAGE,SORT,ORDER}\",\\n  \"COMMIT_SEARCH_URL\": \"HTTPS://API.GITHUB.COM/SEARCH/COMMITS?Q={QUERY}{&PAGE,PER_PAGE,SORT,ORDER}\",\\n  \"EMAILS_URL\": \"HTTPS://API.GITHUB.COM/USER/EMAILS\",\\n  \"EMOJIS_URL\": \"HTTPS://API.GITHUB.COM/EMOJIS\",\\n  \"EVENTS_URL\": \"HTTPS://API.GITHUB.COM/EVENTS\",\\n  \"FEEDS_URL\": \"HTTPS://API.GITHUB.COM/FEEDS\",\\n  \"FOLLOWERS_URL\": \"HTTPS://API.GITHUB.COM/USER/FOLLOWERS\",\\n  \"FOLLOWING_URL\": \"HTTPS://API.GITHUB.COM/USER/FOLLOWING{/TARGET}\",\\n  \"GISTS_URL\": \"HTTPS://API.GITHUB.COM/GISTS{/GIST_ID}\",\\n  \"HUB_URL\": \"HTTPS://API.GITHUB.COM/HUB\",\\n  \"ISSUE_SEARCH_URL\": \"HTTPS://API.GITHUB.COM/SEARCH/ISSUES?Q={QUERY}{&PAGE,PER_PAGE,SORT,ORDER}\",\\n  \"ISSUES_URL\": \"HTTPS://API.GITHUB.COM/ISSUES\",\\n  \"KEYS_URL\": \"HTTPS://API.GITHUB.COM/USER/KEYS\",\\n  \"LABEL_SEARCH_URL\": \"HTTPS://API.GITHUB.COM/SEARCH/LABELS?Q={QUERY}&REPOSITORY_ID={REPOSITORY_ID}{&PAGE,PER_PAGE}\",\\n  \"NOTIFICATIONS_URL\": \"HTTPS://API.GITHUB.COM/NOTIFICATIONS\",\\n  \"ORGANIZATION_URL\": \"HTTPS://API.GITHUB.COM/ORGS/{ORG}\",\\n  \"ORGANIZATION_REPOSITORIES_URL\": \"HTTPS://API.GITHUB.COM/ORGS/{ORG}/REPOS{?TYPE,PAGE,PER_PAGE,SORT}\",\\n  \"ORGANIZATION_TEAMS_URL\": \"HTTPS://API.GITHUB.COM/ORGS/{ORG}/TEAMS\",\\n  \"PUBLIC_GISTS_URL\": \"HTTPS://API.GITHUB.COM/GISTS/PUBLIC\",\\n  \"RATE_LIMIT_URL\": \"HTTPS://API.GITHUB.COM/RATE_LIMIT\",\\n  \"REPOSITORY_URL\": \"HTTPS://API.GITHUB.COM/REPOS/{OWNER}/{REPO}\",\\n  \"REPOSITORY_SEARCH_URL\": \"HTTPS://API.GITHUB.COM/SEARCH/REPOSITORIES?Q={QUERY}{&PAGE,PER_PAGE,SORT,ORDER}\",\\n  \"CURRENT_USER_REPOSITORIES_URL\": \"HTTPS://API.GITHUB.COM/USER/REPOS{?TYPE,PAGE,PER_PAGE,SORT}\",\\n  \"STARRED_URL\": \"HTTPS://API.GITHUB.COM/USER/STARRED{/OWNER}{/REPO}\",\\n  \"STARRED_GISTS_URL\": \"HTTPS://API.GITHUB.COM/GISTS/STARRED\",\\n  \"TOPIC_SEARCH_URL\": \"HTTPS://API.GITHUB.COM/SEARCH/TOPICS?Q={QUERY}{&PAGE,PER_PAGE}\",\\n  \"USER_URL\": \"HTTPS://API.GITHUB.COM/USERS/{USER}\",\\n  \"USER_ORGANIZATIONS_URL\": \"HTTPS://API.GITHUB.COM/USER/ORGS\",\\n  \"USER_REPOSITORIES_URL\": \"HTTPS://API.GITHUB.COM/USERS/{USER}/REPOS{?TYPE,PAGE,PER_PAGE,SORT}\",\\n  \"USER_SEARCH_URL\": \"HTTPS://API.GITHUB.COM/SEARCH/USERS?Q={QUERY}{&PAGE,PER_PAGE,SORT,ORDER}\"\\n}\\n'"
      ]
     },
     "execution_count": 55,
     "metadata": {},
     "output_type": "execute_result"
    }
   ],
   "source": [
    "response_object.text.upper()"
   ]
  },
  {
   "cell_type": "code",
   "execution_count": 56,
   "id": "c49f103b-3521-405e-b1bb-793bc41ef4fb",
   "metadata": {},
   "outputs": [
    {
     "data": {
      "text/plain": [
       "b'{\\n  \"current_user_url\": \"https://api.github.com/user\",\\n  \"current_user_authorizations_html_url\": \"https://github.com/settings/connections/applications{/client_id}\",\\n  \"authorizations_url\": \"https://api.github.com/authorizations\",\\n  \"code_search_url\": \"https://api.github.com/search/code?q={query}{&page,per_page,sort,order}\",\\n  \"commit_search_url\": \"https://api.github.com/search/commits?q={query}{&page,per_page,sort,order}\",\\n  \"emails_url\": \"https://api.github.com/user/emails\",\\n  \"emojis_url\": \"https://api.github.com/emojis\",\\n  \"events_url\": \"https://api.github.com/events\",\\n  \"feeds_url\": \"https://api.github.com/feeds\",\\n  \"followers_url\": \"https://api.github.com/user/followers\",\\n  \"following_url\": \"https://api.github.com/user/following{/target}\",\\n  \"gists_url\": \"https://api.github.com/gists{/gist_id}\",\\n  \"hub_url\": \"https://api.github.com/hub\",\\n  \"issue_search_url\": \"https://api.github.com/search/issues?q={query}{&page,per_page,sort,order}\",\\n  \"issues_url\": \"https://api.github.com/issues\",\\n  \"keys_url\": \"https://api.github.com/user/keys\",\\n  \"label_search_url\": \"https://api.github.com/search/labels?q={query}&repository_id={repository_id}{&page,per_page}\",\\n  \"notifications_url\": \"https://api.github.com/notifications\",\\n  \"organization_url\": \"https://api.github.com/orgs/{org}\",\\n  \"organization_repositories_url\": \"https://api.github.com/orgs/{org}/repos{?type,page,per_page,sort}\",\\n  \"organization_teams_url\": \"https://api.github.com/orgs/{org}/teams\",\\n  \"public_gists_url\": \"https://api.github.com/gists/public\",\\n  \"rate_limit_url\": \"https://api.github.com/rate_limit\",\\n  \"repository_url\": \"https://api.github.com/repos/{owner}/{repo}\",\\n  \"repository_search_url\": \"https://api.github.com/search/repositories?q={query}{&page,per_page,sort,order}\",\\n  \"current_user_repositories_url\": \"https://api.github.com/user/repos{?type,page,per_page,sort}\",\\n  \"starred_url\": \"https://api.github.com/user/starred{/owner}{/repo}\",\\n  \"starred_gists_url\": \"https://api.github.com/gists/starred\",\\n  \"topic_search_url\": \"https://api.github.com/search/topics?q={query}{&page,per_page}\",\\n  \"user_url\": \"https://api.github.com/users/{user}\",\\n  \"user_organizations_url\": \"https://api.github.com/user/orgs\",\\n  \"user_repositories_url\": \"https://api.github.com/users/{user}/repos{?type,page,per_page,sort}\",\\n  \"user_search_url\": \"https://api.github.com/search/users?q={query}{&page,per_page,sort,order}\"\\n}\\n'"
      ]
     },
     "execution_count": 56,
     "metadata": {},
     "output_type": "execute_result"
    }
   ],
   "source": [
    "response_object.content"
   ]
  },
  {
   "cell_type": "code",
   "execution_count": 57,
   "id": "60a333f6-2480-4c0a-83d2-0cb7787bd8e7",
   "metadata": {},
   "outputs": [
    {
     "data": {
      "text/plain": [
       "bytes"
      ]
     },
     "execution_count": 57,
     "metadata": {},
     "output_type": "execute_result"
    }
   ],
   "source": [
    "type(response_object.content) # binary format"
   ]
  },
  {
   "cell_type": "code",
   "execution_count": 58,
   "id": "5cb93fb7-0b45-4cba-897a-e0ddb7e3b222",
   "metadata": {},
   "outputs": [
    {
     "data": {
      "text/plain": [
       "{'Date': 'Tue, 15 Jul 2025 04:01:25 GMT', 'Content-Type': 'application/json; charset=utf-8', 'Cache-Control': 'public, max-age=60, s-maxage=60', 'Vary': 'Accept,Accept-Encoding, Accept, X-Requested-With', 'ETag': 'W/\"4f825cc84e1c733059d46e76e6df9db557ae5254f9625dfe8e1b09499c449438\"', 'X-GitHub-Media-Type': 'github.v3; format=json', 'x-github-api-version-selected': '2022-11-28', 'Access-Control-Expose-Headers': 'ETag, Link, Location, Retry-After, X-GitHub-OTP, X-RateLimit-Limit, X-RateLimit-Remaining, X-RateLimit-Used, X-RateLimit-Resource, X-RateLimit-Reset, X-OAuth-Scopes, X-Accepted-OAuth-Scopes, X-Poll-Interval, X-GitHub-Media-Type, X-GitHub-SSO, X-GitHub-Request-Id, Deprecation, Sunset', 'Access-Control-Allow-Origin': '*', 'Strict-Transport-Security': 'max-age=31536000; includeSubdomains; preload', 'X-Frame-Options': 'deny', 'X-Content-Type-Options': 'nosniff', 'X-XSS-Protection': '0', 'Referrer-Policy': 'origin-when-cross-origin, strict-origin-when-cross-origin', 'Content-Security-Policy': \"default-src 'none'\", 'Content-Encoding': 'gzip', 'Server': 'github.com', 'Accept-Ranges': 'bytes', 'X-RateLimit-Limit': '60', 'X-RateLimit-Remaining': '58', 'X-RateLimit-Reset': '1752555692', 'X-RateLimit-Resource': 'core', 'X-RateLimit-Used': '2', 'Content-Length': '530', 'X-GitHub-Request-Id': 'FD15:A632:396C9:4A33E:6875D2A2'}"
      ]
     },
     "execution_count": 58,
     "metadata": {},
     "output_type": "execute_result"
    }
   ],
   "source": [
    "response_object.headers"
   ]
  },
  {
   "cell_type": "code",
   "execution_count": 59,
   "id": "6a7e6b86-2da8-4e2e-b8c7-1f5cab05b848",
   "metadata": {},
   "outputs": [
    {
     "data": {
      "text/plain": [
       "{'Date': 'Tue, 15 Jul 2025 04:01:25 GMT',\n",
       " 'Content-Type': 'application/json; charset=utf-8',\n",
       " 'Cache-Control': 'public, max-age=60, s-maxage=60',\n",
       " 'Vary': 'Accept,Accept-Encoding, Accept, X-Requested-With',\n",
       " 'ETag': 'W/\"4f825cc84e1c733059d46e76e6df9db557ae5254f9625dfe8e1b09499c449438\"',\n",
       " 'X-GitHub-Media-Type': 'github.v3; format=json',\n",
       " 'x-github-api-version-selected': '2022-11-28',\n",
       " 'Access-Control-Expose-Headers': 'ETag, Link, Location, Retry-After, X-GitHub-OTP, X-RateLimit-Limit, X-RateLimit-Remaining, X-RateLimit-Used, X-RateLimit-Resource, X-RateLimit-Reset, X-OAuth-Scopes, X-Accepted-OAuth-Scopes, X-Poll-Interval, X-GitHub-Media-Type, X-GitHub-SSO, X-GitHub-Request-Id, Deprecation, Sunset',\n",
       " 'Access-Control-Allow-Origin': '*',\n",
       " 'Strict-Transport-Security': 'max-age=31536000; includeSubdomains; preload',\n",
       " 'X-Frame-Options': 'deny',\n",
       " 'X-Content-Type-Options': 'nosniff',\n",
       " 'X-XSS-Protection': '0',\n",
       " 'Referrer-Policy': 'origin-when-cross-origin, strict-origin-when-cross-origin',\n",
       " 'Content-Security-Policy': \"default-src 'none'\",\n",
       " 'Content-Encoding': 'gzip',\n",
       " 'Server': 'github.com',\n",
       " 'Accept-Ranges': 'bytes',\n",
       " 'X-RateLimit-Limit': '60',\n",
       " 'X-RateLimit-Remaining': '58',\n",
       " 'X-RateLimit-Reset': '1752555692',\n",
       " 'X-RateLimit-Resource': 'core',\n",
       " 'X-RateLimit-Used': '2',\n",
       " 'Content-Length': '530',\n",
       " 'X-GitHub-Request-Id': 'FD15:A632:396C9:4A33E:6875D2A2'}"
      ]
     },
     "execution_count": 59,
     "metadata": {},
     "output_type": "execute_result"
    }
   ],
   "source": [
    "dict(response_object.headers)"
   ]
  },
  {
   "cell_type": "code",
   "execution_count": 60,
   "id": "d86c7122-9f64-45fb-9340-55eb0a8d58d5",
   "metadata": {},
   "outputs": [
    {
     "data": {
      "text/plain": [
       "{'Date': 'Tue, 15 Jul 2025 04:01:25 GMT',\n",
       " 'Content-Type': 'application/json; charset=utf-8',\n",
       " 'Cache-Control': 'public, max-age=60, s-maxage=60',\n",
       " 'Vary': 'Accept,Accept-Encoding, Accept, X-Requested-With',\n",
       " 'ETag': 'W/\"4f825cc84e1c733059d46e76e6df9db557ae5254f9625dfe8e1b09499c449438\"',\n",
       " 'X-GitHub-Media-Type': 'github.v3; format=json',\n",
       " 'x-github-api-version-selected': '2022-11-28',\n",
       " 'Access-Control-Expose-Headers': 'ETag, Link, Location, Retry-After, X-GitHub-OTP, X-RateLimit-Limit, X-RateLimit-Remaining, X-RateLimit-Used, X-RateLimit-Resource, X-RateLimit-Reset, X-OAuth-Scopes, X-Accepted-OAuth-Scopes, X-Poll-Interval, X-GitHub-Media-Type, X-GitHub-SSO, X-GitHub-Request-Id, Deprecation, Sunset',\n",
       " 'Access-Control-Allow-Origin': '*',\n",
       " 'Strict-Transport-Security': 'max-age=31536000; includeSubdomains; preload',\n",
       " 'X-Frame-Options': 'deny',\n",
       " 'X-Content-Type-Options': 'nosniff',\n",
       " 'X-XSS-Protection': '0',\n",
       " 'Referrer-Policy': 'origin-when-cross-origin, strict-origin-when-cross-origin',\n",
       " 'Content-Security-Policy': \"default-src 'none'\",\n",
       " 'Content-Encoding': 'gzip',\n",
       " 'Server': 'github.com',\n",
       " 'Accept-Ranges': 'bytes',\n",
       " 'X-RateLimit-Limit': '60',\n",
       " 'X-RateLimit-Remaining': '58',\n",
       " 'X-RateLimit-Reset': '1752555692',\n",
       " 'X-RateLimit-Resource': 'core',\n",
       " 'X-RateLimit-Used': '2',\n",
       " 'Content-Length': '530',\n",
       " 'X-GitHub-Request-Id': 'FD15:A632:396C9:4A33E:6875D2A2'}"
      ]
     },
     "execution_count": 60,
     "metadata": {},
     "output_type": "execute_result"
    }
   ],
   "source": [
    "headers = dict(response_object.headers)\n",
    "headers"
   ]
  },
  {
   "cell_type": "code",
   "execution_count": 61,
   "id": "c6bea208-a4ce-4a36-bb07-f14e61e009a7",
   "metadata": {},
   "outputs": [
    {
     "name": "stdout",
     "output_type": "stream",
     "text": [
      "Date                           : Tue, 15 Jul 2025 04:01:25 GMT\n",
      "Content-Type                   : application/json; charset=utf-8\n",
      "Cache-Control                  : public, max-age=60, s-maxage=60\n",
      "Vary                           : Accept,Accept-Encoding, Accept, X-Requested-With\n",
      "ETag                           : W/\"4f825cc84e1c733059d46e76e6df9db557ae5254f9625dfe8e1b09499c449438\"\n",
      "X-GitHub-Media-Type            : github.v3; format=json\n",
      "x-github-api-version-selected  : 2022-11-28\n",
      "Access-Control-Expose-Headers  : ETag, Link, Location, Retry-After, X-GitHub-OTP, X-RateLimit-Limit, X-RateLimit-Remaining, X-RateLimit-Used, X-RateLimit-Resource, X-RateLimit-Reset, X-OAuth-Scopes, X-Accepted-OAuth-Scopes, X-Poll-Interval, X-GitHub-Media-Type, X-GitHub-SSO, X-GitHub-Request-Id, Deprecation, Sunset\n",
      "Access-Control-Allow-Origin    : *\n",
      "Strict-Transport-Security      : max-age=31536000; includeSubdomains; preload\n",
      "X-Frame-Options                : deny\n",
      "X-Content-Type-Options         : nosniff\n",
      "X-XSS-Protection               : 0\n",
      "Referrer-Policy                : origin-when-cross-origin, strict-origin-when-cross-origin\n",
      "Content-Security-Policy        : default-src 'none'\n",
      "Content-Encoding               : gzip\n",
      "Server                         : github.com\n",
      "Accept-Ranges                  : bytes\n",
      "X-RateLimit-Limit              : 60\n",
      "X-RateLimit-Remaining          : 58\n",
      "X-RateLimit-Reset              : 1752555692\n",
      "X-RateLimit-Resource           : core\n",
      "X-RateLimit-Used               : 2\n",
      "Content-Length                 : 530\n",
      "X-GitHub-Request-Id            : FD15:A632:396C9:4A33E:6875D2A2\n"
     ]
    }
   ],
   "source": [
    "headers = dict(response_object.headers)\n",
    "for headers, values in headers.items():\n",
    "    print(f\"{headers:<30} : {values}\")"
   ]
  },
  {
   "cell_type": "code",
   "execution_count": 62,
   "id": "9f2ca3ec-61a8-4d2d-9cfd-f6a388e6908b",
   "metadata": {},
   "outputs": [
    {
     "data": {
      "text/html": [
       "<div>\n",
       "<style scoped>\n",
       "    .dataframe tbody tr th:only-of-type {\n",
       "        vertical-align: middle;\n",
       "    }\n",
       "\n",
       "    .dataframe tbody tr th {\n",
       "        vertical-align: top;\n",
       "    }\n",
       "\n",
       "    .dataframe thead th {\n",
       "        text-align: right;\n",
       "    }\n",
       "</style>\n",
       "<table border=\"1\" class=\"dataframe\">\n",
       "  <thead>\n",
       "    <tr style=\"text-align: right;\">\n",
       "      <th></th>\n",
       "      <th>headers</th>\n",
       "      <th>values</th>\n",
       "    </tr>\n",
       "  </thead>\n",
       "  <tbody>\n",
       "    <tr>\n",
       "      <th>0</th>\n",
       "      <td>Date</td>\n",
       "      <td>Tue, 15 Jul 2025 04:01:25 GMT</td>\n",
       "    </tr>\n",
       "    <tr>\n",
       "      <th>1</th>\n",
       "      <td>Content-Type</td>\n",
       "      <td>application/json; charset=utf-8</td>\n",
       "    </tr>\n",
       "    <tr>\n",
       "      <th>2</th>\n",
       "      <td>Cache-Control</td>\n",
       "      <td>public, max-age=60, s-maxage=60</td>\n",
       "    </tr>\n",
       "    <tr>\n",
       "      <th>3</th>\n",
       "      <td>Vary</td>\n",
       "      <td>Accept,Accept-Encoding, Accept, X-Requested-With</td>\n",
       "    </tr>\n",
       "    <tr>\n",
       "      <th>4</th>\n",
       "      <td>ETag</td>\n",
       "      <td>W/\"4f825cc84e1c733059d46e76e6df9db557ae5254f96...</td>\n",
       "    </tr>\n",
       "    <tr>\n",
       "      <th>5</th>\n",
       "      <td>X-GitHub-Media-Type</td>\n",
       "      <td>github.v3; format=json</td>\n",
       "    </tr>\n",
       "    <tr>\n",
       "      <th>6</th>\n",
       "      <td>x-github-api-version-selected</td>\n",
       "      <td>2022-11-28</td>\n",
       "    </tr>\n",
       "    <tr>\n",
       "      <th>7</th>\n",
       "      <td>Access-Control-Expose-Headers</td>\n",
       "      <td>ETag, Link, Location, Retry-After, X-GitHub-OT...</td>\n",
       "    </tr>\n",
       "    <tr>\n",
       "      <th>8</th>\n",
       "      <td>Access-Control-Allow-Origin</td>\n",
       "      <td>*</td>\n",
       "    </tr>\n",
       "    <tr>\n",
       "      <th>9</th>\n",
       "      <td>Strict-Transport-Security</td>\n",
       "      <td>max-age=31536000; includeSubdomains; preload</td>\n",
       "    </tr>\n",
       "    <tr>\n",
       "      <th>10</th>\n",
       "      <td>X-Frame-Options</td>\n",
       "      <td>deny</td>\n",
       "    </tr>\n",
       "    <tr>\n",
       "      <th>11</th>\n",
       "      <td>X-Content-Type-Options</td>\n",
       "      <td>nosniff</td>\n",
       "    </tr>\n",
       "    <tr>\n",
       "      <th>12</th>\n",
       "      <td>X-XSS-Protection</td>\n",
       "      <td>0</td>\n",
       "    </tr>\n",
       "    <tr>\n",
       "      <th>13</th>\n",
       "      <td>Referrer-Policy</td>\n",
       "      <td>origin-when-cross-origin, strict-origin-when-c...</td>\n",
       "    </tr>\n",
       "    <tr>\n",
       "      <th>14</th>\n",
       "      <td>Content-Security-Policy</td>\n",
       "      <td>default-src 'none'</td>\n",
       "    </tr>\n",
       "    <tr>\n",
       "      <th>15</th>\n",
       "      <td>Content-Encoding</td>\n",
       "      <td>gzip</td>\n",
       "    </tr>\n",
       "    <tr>\n",
       "      <th>16</th>\n",
       "      <td>Server</td>\n",
       "      <td>github.com</td>\n",
       "    </tr>\n",
       "    <tr>\n",
       "      <th>17</th>\n",
       "      <td>Accept-Ranges</td>\n",
       "      <td>bytes</td>\n",
       "    </tr>\n",
       "    <tr>\n",
       "      <th>18</th>\n",
       "      <td>X-RateLimit-Limit</td>\n",
       "      <td>60</td>\n",
       "    </tr>\n",
       "    <tr>\n",
       "      <th>19</th>\n",
       "      <td>X-RateLimit-Remaining</td>\n",
       "      <td>58</td>\n",
       "    </tr>\n",
       "    <tr>\n",
       "      <th>20</th>\n",
       "      <td>X-RateLimit-Reset</td>\n",
       "      <td>1752555692</td>\n",
       "    </tr>\n",
       "    <tr>\n",
       "      <th>21</th>\n",
       "      <td>X-RateLimit-Resource</td>\n",
       "      <td>core</td>\n",
       "    </tr>\n",
       "    <tr>\n",
       "      <th>22</th>\n",
       "      <td>X-RateLimit-Used</td>\n",
       "      <td>2</td>\n",
       "    </tr>\n",
       "    <tr>\n",
       "      <th>23</th>\n",
       "      <td>Content-Length</td>\n",
       "      <td>530</td>\n",
       "    </tr>\n",
       "    <tr>\n",
       "      <th>24</th>\n",
       "      <td>X-GitHub-Request-Id</td>\n",
       "      <td>FD15:A632:396C9:4A33E:6875D2A2</td>\n",
       "    </tr>\n",
       "  </tbody>\n",
       "</table>\n",
       "</div>"
      ],
      "text/plain": [
       "                          headers  \\\n",
       "0                            Date   \n",
       "1                    Content-Type   \n",
       "2                   Cache-Control   \n",
       "3                            Vary   \n",
       "4                            ETag   \n",
       "5             X-GitHub-Media-Type   \n",
       "6   x-github-api-version-selected   \n",
       "7   Access-Control-Expose-Headers   \n",
       "8     Access-Control-Allow-Origin   \n",
       "9       Strict-Transport-Security   \n",
       "10                X-Frame-Options   \n",
       "11         X-Content-Type-Options   \n",
       "12               X-XSS-Protection   \n",
       "13                Referrer-Policy   \n",
       "14        Content-Security-Policy   \n",
       "15               Content-Encoding   \n",
       "16                         Server   \n",
       "17                  Accept-Ranges   \n",
       "18              X-RateLimit-Limit   \n",
       "19          X-RateLimit-Remaining   \n",
       "20              X-RateLimit-Reset   \n",
       "21           X-RateLimit-Resource   \n",
       "22               X-RateLimit-Used   \n",
       "23                 Content-Length   \n",
       "24            X-GitHub-Request-Id   \n",
       "\n",
       "                                               values  \n",
       "0                       Tue, 15 Jul 2025 04:01:25 GMT  \n",
       "1                     application/json; charset=utf-8  \n",
       "2                     public, max-age=60, s-maxage=60  \n",
       "3    Accept,Accept-Encoding, Accept, X-Requested-With  \n",
       "4   W/\"4f825cc84e1c733059d46e76e6df9db557ae5254f96...  \n",
       "5                              github.v3; format=json  \n",
       "6                                          2022-11-28  \n",
       "7   ETag, Link, Location, Retry-After, X-GitHub-OT...  \n",
       "8                                                   *  \n",
       "9        max-age=31536000; includeSubdomains; preload  \n",
       "10                                               deny  \n",
       "11                                            nosniff  \n",
       "12                                                  0  \n",
       "13  origin-when-cross-origin, strict-origin-when-c...  \n",
       "14                                 default-src 'none'  \n",
       "15                                               gzip  \n",
       "16                                         github.com  \n",
       "17                                              bytes  \n",
       "18                                                 60  \n",
       "19                                                 58  \n",
       "20                                         1752555692  \n",
       "21                                               core  \n",
       "22                                                  2  \n",
       "23                                                530  \n",
       "24                     FD15:A632:396C9:4A33E:6875D2A2  "
      ]
     },
     "execution_count": 62,
     "metadata": {},
     "output_type": "execute_result"
    }
   ],
   "source": [
    "import pandas as pd\n",
    "\n",
    "headers = dict(response_object.headers)\n",
    "# Convert dict to DataFrame\n",
    "df = pd.DataFrame(list(headers.items()), columns=[\"headers\", \"values\"])\n",
    "\n",
    "df.style.hide(axis=\"index\")\n",
    "df"
   ]
  },
  {
   "cell_type": "markdown",
   "id": "0c9d3833-a2bb-45c1-a45d-8fe2a4dd7b71",
   "metadata": {},
   "source": [
    "#### ✅ Working with a Public API\n",
    "- **Practice url for Public API:** → https://jsonplaceholder.typicode.com/\n",
    "- Endpoint → /posts\n",
    "- Error handling → use raise_for_status()"
   ]
  },
  {
   "cell_type": "code",
   "execution_count": 63,
   "id": "cca8a892-0d10-4f46-92c4-e255d6f7805f",
   "metadata": {},
   "outputs": [],
   "source": [
    "url = \"https://jsonplaceholder.typicode.com/posts\""
   ]
  },
  {
   "cell_type": "markdown",
   "id": "410e2b6b-85c5-4095-9539-231cc4dededf",
   "metadata": {},
   "source": [
    "##### **GET**\n",
    "- **Task** → Make a GET request to retrieve a list of posts"
   ]
  },
  {
   "cell_type": "code",
   "execution_count": 64,
   "id": "0592b4f6-ec5a-431c-9f27-b8f472478ca7",
   "metadata": {},
   "outputs": [],
   "source": [
    "response = requests.get(url)\n",
    "# response.status_code"
   ]
  },
  {
   "cell_type": "markdown",
   "id": "d1c0edfb-bf51-4b37-808a-af0a9d1567bd",
   "metadata": {},
   "source": [
    "#### **requests.raise_for_status()**\n",
    "- **`raise_for_status()`** is a **method of the Response object** in the `requests` library.\n",
    "- **`Purpose:`**\n",
    "    - To raise an exception (error) if the HTTP request returned an unsuccessful status code (like 404, 500, etc.)."
   ]
  },
  {
   "cell_type": "code",
   "execution_count": 89,
   "id": "7cdc8443-bdb5-46c2-bec9-45c480837931",
   "metadata": {},
   "outputs": [
    {
     "name": "stdout",
     "output_type": "stream",
     "text": [
      "Status Code: 200\n",
      "Successful GET request !\n",
      "\n",
      "Post 1:\n",
      "{'userId': 1, 'id': 1, 'title': 'sunt aut facere repellat provident occaecati excepturi optio reprehenderit', 'body': 'quia et suscipit\\nsuscipit recusandae consequuntur expedita et cum\\nreprehenderit molestiae ut ut quas totam\\nnostrum rerum est autem sunt rem eveniet architecto'}\n",
      "\n",
      "Post 2:\n",
      "{'userId': 1, 'id': 2, 'title': 'qui est esse', 'body': 'est rerum tempore vitae\\nsequi sint nihil reprehenderit dolor beatae ea dolores neque\\nfugiat blanditiis voluptate porro vel nihil molestiae ut reiciendis\\nqui aperiam non debitis possimus qui neque nisi nulla'}\n",
      "\n",
      "Post 3:\n",
      "{'userId': 1, 'id': 3, 'title': 'ea molestias quasi exercitationem repellat qui ipsa sit aut', 'body': 'et iusto sed quo iure\\nvoluptatem occaecati omnis eligendi aut ad\\nvoluptatem doloribus vel accusantium quis pariatur\\nmolestiae porro eius odio et labore et velit aut'}\n"
     ]
    }
   ],
   "source": [
    "try:\n",
    "    response = requests.get(\"https://jsonplaceholder.typicode.com/posts\")\n",
    "    response.raise_for_status()\n",
    "except requests.exceptions.HTTPError as e:\n",
    "    print(f\"HTTP Server: {e}\")\n",
    "except requests.exceptions.RequestException as e:\n",
    "    print(\"Other error:\", e)\n",
    "else:\n",
    "    status_code = response.status_code\n",
    "    print(f\"Status Code: {status_code}\")\n",
    "    if status_code == 200:\n",
    "        print(f\"Successful GET request !\")\n",
    "        post = response.json()\n",
    "        for i in range(3):\n",
    "            print(f\"\\nPost {i + 1}:\")\n",
    "            print(post[i])\n",
    "    else:\n",
    "        print(f\"Unsuccessful GET request !\")\n",
    "    "
   ]
  },
  {
   "cell_type": "markdown",
   "id": "05dbb0be-ddaf-45bb-b270-fbb45a66621c",
   "metadata": {},
   "source": [
    "##### **POST**\n",
    "- Make a **POST** request to submit a post\n",
    "- Invlude the following parameters:\n",
    "    - **`title`**\n",
    "    - **`body`**\n",
    "    - **`userId`**"
   ]
  },
  {
   "cell_type": "code",
   "execution_count": 123,
   "id": "edd6f60d-30db-4d91-9cea-bb5018fe5a53",
   "metadata": {},
   "outputs": [],
   "source": [
    "# Make function and send to  post request\n",
    "\n",
    "def send_post_request(url, data):\n",
    "    try:\n",
    "        post_response = requests.post(post_url, data=post)\n",
    "        post_response.raise_for_status()\n",
    "    except requests.exceptions.HTTPError as e:\n",
    "        print(f\"HTTP Server: {e}\")\n",
    "    except requests.exceptions.RequestException as e:\n",
    "        print(\"Other error:\", e)\n",
    "    else:\n",
    "        status_code = post_response.status_code\n",
    "        print(f\"Status Code: {status_code}\")\n",
    "        if status_code == 201:\n",
    "            print(f\"POST request successful !\")\n",
    "            post_data = post_response.json()\n",
    "            print(f\"\\nPost:\\n {post_data}\")\n",
    "        else:\n",
    "            print(f\"Status Code: {status_code}\")\n",
    "            print(f\"POST request unsuccessful !\")\n",
    "            "
   ]
  },
  {
   "cell_type": "code",
   "execution_count": 122,
   "id": "41a76716-1fb3-46a4-9690-3efd175845a2",
   "metadata": {},
   "outputs": [
    {
     "name": "stdout",
     "output_type": "stream",
     "text": [
      "Status Code: 201\n",
      "POST request successful !\n"
     ]
    },
    {
     "ename": "AttributeError",
     "evalue": "'dict' object has no attribute 'json'",
     "output_type": "error",
     "traceback": [
      "\u001b[1;31m---------------------------------------------------------------------------\u001b[0m",
      "\u001b[1;31mAttributeError\u001b[0m                            Traceback (most recent call last)",
      "Cell \u001b[1;32mIn[122], line 9\u001b[0m\n\u001b[0;32m      1\u001b[0m post_url \u001b[38;5;241m=\u001b[39m \u001b[38;5;124m\"\u001b[39m\u001b[38;5;124mhttps://jsonplaceholder.typicode.com/posts\u001b[39m\u001b[38;5;124m\"\u001b[39m\n\u001b[0;32m      3\u001b[0m post \u001b[38;5;241m=\u001b[39m {\n\u001b[0;32m      4\u001b[0m     \u001b[38;5;124m'\u001b[39m\u001b[38;5;124mtitle\u001b[39m\u001b[38;5;124m'\u001b[39m:\u001b[38;5;124m'\u001b[39m\u001b[38;5;124mSample Post\u001b[39m\u001b[38;5;124m'\u001b[39m,\n\u001b[0;32m      5\u001b[0m     \u001b[38;5;124m'\u001b[39m\u001b[38;5;124mbody\u001b[39m\u001b[38;5;124m'\u001b[39m:\u001b[38;5;124m'\u001b[39m\u001b[38;5;124mThis is sample post\u001b[39m\u001b[38;5;124m'\u001b[39m,\n\u001b[0;32m      6\u001b[0m     \u001b[38;5;124m'\u001b[39m\u001b[38;5;124muserId\u001b[39m\u001b[38;5;124m'\u001b[39m: \u001b[38;5;241m101\u001b[39m,\n\u001b[0;32m      7\u001b[0m }\n\u001b[1;32m----> 9\u001b[0m \u001b[43msend_post_request\u001b[49m\u001b[43m(\u001b[49m\u001b[43mpost_url\u001b[49m\u001b[43m,\u001b[49m\u001b[43m \u001b[49m\u001b[43mpost\u001b[49m\u001b[43m)\u001b[49m\n",
      "Cell \u001b[1;32mIn[121], line 17\u001b[0m, in \u001b[0;36msend_post_request\u001b[1;34m(url, data)\u001b[0m\n\u001b[0;32m     15\u001b[0m     \u001b[38;5;28mprint\u001b[39m(\u001b[38;5;124mf\u001b[39m\u001b[38;5;124m\"\u001b[39m\u001b[38;5;124mPOST request successful !\u001b[39m\u001b[38;5;124m\"\u001b[39m)\n\u001b[0;32m     16\u001b[0m     post_data \u001b[38;5;241m=\u001b[39m post_response\u001b[38;5;241m.\u001b[39mjson()\n\u001b[1;32m---> 17\u001b[0m     \u001b[38;5;28mprint\u001b[39m(\u001b[38;5;124mf\u001b[39m\u001b[38;5;124m\"\u001b[39m\u001b[38;5;130;01m\\n\u001b[39;00m\u001b[38;5;124mPost:\u001b[39m\u001b[38;5;130;01m\\n\u001b[39;00m\u001b[38;5;124m \u001b[39m\u001b[38;5;132;01m{\u001b[39;00m\u001b[43mpost_data\u001b[49m\u001b[38;5;241;43m.\u001b[39;49m\u001b[43mjson\u001b[49m()\u001b[38;5;132;01m}\u001b[39;00m\u001b[38;5;124m\"\u001b[39m)\n\u001b[0;32m     18\u001b[0m \u001b[38;5;28;01melse\u001b[39;00m:\n\u001b[0;32m     19\u001b[0m     \u001b[38;5;28mprint\u001b[39m(\u001b[38;5;124mf\u001b[39m\u001b[38;5;124m\"\u001b[39m\u001b[38;5;124mStatus Code: \u001b[39m\u001b[38;5;132;01m{\u001b[39;00mstatus_code\u001b[38;5;132;01m}\u001b[39;00m\u001b[38;5;124m\"\u001b[39m)\n",
      "\u001b[1;31mAttributeError\u001b[0m: 'dict' object has no attribute 'json'"
     ]
    }
   ],
   "source": [
    "post_url = \"https://jsonplaceholder.typicode.com/posts\"\n",
    "\n",
    "post = {\n",
    "    'title':'Sample Post',\n",
    "    'body':'This is sample post',\n",
    "    'userId': 101,\n",
    "}\n",
    "\n",
    "send_post_request(post_url, post)"
   ]
  },
  {
   "cell_type": "code",
   "execution_count": 111,
   "id": "03bbf7ac-b666-4310-9e91-08b38fd43d36",
   "metadata": {
    "scrolled": true
   },
   "outputs": [
    {
     "name": "stdout",
     "output_type": "stream",
     "text": [
      "Status Code: 201\n",
      "POST request successful!\n",
      "\n",
      "Post:\n",
      "{'title': 'My New Post', 'body': 'This is a new post created via API.', 'userId': '1', 'id': 101}\n"
     ]
    }
   ],
   "source": [
    "import requests\n",
    "\n",
    "post_url = \"https://jsonplaceholder.typicode.com/posts\"\n",
    "\n",
    "# Data to send\n",
    "post = {\n",
    "    \"title\": \"My New Post\",\n",
    "    \"body\": \"This is a new post created via API.\",\n",
    "    \"userId\": 1\n",
    "}\n",
    "\n",
    "try:\n",
    "    post_response = requests.post(post_url, data=post)\n",
    "    post_response.raise_for_status()\n",
    "\n",
    "except requests.exceptions.HTTPError as e:\n",
    "    print(f\"HTTP Server: {e}\")\n",
    "\n",
    "except requests.exceptions.RequestException as e:\n",
    "    print(\"Other error:\", e)\n",
    "\n",
    "else:\n",
    "    status_code = post_response.status_code\n",
    "    print(f\"Status Code: {status_code}\")\n",
    "\n",
    "    if status_code == 201:\n",
    "        print(\"POST request successful!\")\n",
    "        post_data = post_response.json()\n",
    "        print(\"\\nPost:\")\n",
    "        print(post_data)\n",
    "\n",
    "    else:\n",
    "        print(f\"Status Code: {status_code}\")\n",
    "        print(\"POST request unsuccessful!\")\n"
   ]
  },
  {
   "cell_type": "code",
   "execution_count": null,
   "id": "19b15acf-c874-4fac-b4b7-d9b6197e1cf9",
   "metadata": {},
   "outputs": [],
   "source": []
  },
  {
   "cell_type": "code",
   "execution_count": null,
   "id": "f2d05dd5-04ff-4fc6-a9cf-2b0fdd490ce1",
   "metadata": {},
   "outputs": [],
   "source": []
  },
  {
   "cell_type": "code",
   "execution_count": null,
   "id": "e9e7a99a-590c-4cc0-acd3-f65fc77c71ad",
   "metadata": {},
   "outputs": [],
   "source": []
  },
  {
   "cell_type": "code",
   "execution_count": null,
   "id": "6e0bdf07-0d48-408e-b763-20c9fd40316a",
   "metadata": {},
   "outputs": [],
   "source": []
  },
  {
   "cell_type": "code",
   "execution_count": null,
   "id": "b7591495-ff72-45ff-8c31-d937b98aa147",
   "metadata": {},
   "outputs": [],
   "source": []
  },
  {
   "cell_type": "code",
   "execution_count": null,
   "id": "e497e238-caa2-4814-a1ab-d884e2ce2fb0",
   "metadata": {},
   "outputs": [],
   "source": []
  },
  {
   "cell_type": "code",
   "execution_count": null,
   "id": "04d08249-d6b4-4761-8e31-af3c923b7afc",
   "metadata": {},
   "outputs": [],
   "source": []
  }
 ],
 "metadata": {
  "kernelspec": {
   "display_name": "Web Scraping",
   "language": "python",
   "name": "web_scraping"
  },
  "language_info": {
   "codemirror_mode": {
    "name": "ipython",
    "version": 3
   },
   "file_extension": ".py",
   "mimetype": "text/x-python",
   "name": "python",
   "nbconvert_exporter": "python",
   "pygments_lexer": "ipython3",
   "version": "3.13.5"
  }
 },
 "nbformat": 4,
 "nbformat_minor": 5
}

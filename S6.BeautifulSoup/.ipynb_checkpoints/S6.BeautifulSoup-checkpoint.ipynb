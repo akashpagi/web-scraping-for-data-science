{
 "cells": [
  {
   "cell_type": "markdown",
   "id": "9fe60f27-b2f5-43e4-b5a4-5e8f7641bf4b",
   "metadata": {},
   "source": [
    "#### **Beautiful Soup**\n",
    "- Used to parse HTML and XML documents\n",
    "    - **`parse`**:\n",
    "        - Take messy, unstructured data → turn it into structured data you can easily use.\n",
    "  -  **`HTML parsing`** → extract data from web pages\n",
    "  -  **`XML parsing`** → extract data from structured XML documents"
   ]
  },
  {
   "cell_type": "markdown",
   "id": "2fefc2c2-dfcc-4a5d-9f13-fb21cbfcadb5",
   "metadata": {},
   "source": [
    "##### Importing a BeautifulSoup"
   ]
  },
  {
   "cell_type": "code",
   "execution_count": 1,
   "id": "4309c005-7783-49c6-a556-53add7b351c9",
   "metadata": {},
   "outputs": [],
   "source": [
    "from bs4 import BeautifulSoup"
   ]
  },
  {
   "cell_type": "markdown",
   "id": "54c05bac-894f-4570-80fc-f998bc5cd77a",
   "metadata": {},
   "source": [
    "#### **Create a `soup` object:**\n",
    "-  A **`soup object`** is how BeautifulSoup stores HTML or XML so you can easily search and extract parts of it.\n",
    "-  **In Simple Words**\n",
    "   - HTML = messy text\n",
    "   - BeautifulSoup reads it → **creates a “soup object.”**\n",
    "   - That object turns the HTML into a **tree structure** you can work with."
   ]
  },
  {
   "cell_type": "code",
   "execution_count": 2,
   "id": "14064b10-6c36-4e9b-a8a2-c6ba414c0600",
   "metadata": {},
   "outputs": [],
   "source": [
    "with open('db/html-doc.html') as file:\n",
    "    soup = BeautifulSoup(file, 'html.parser')"
   ]
  },
  {
   "cell_type": "code",
   "execution_count": 3,
   "id": "5b2525ef-c2a2-4c44-b91b-09a11bcfc0b0",
   "metadata": {},
   "outputs": [
    {
     "data": {
      "text/plain": [
       "bs4.BeautifulSoup"
      ]
     },
     "execution_count": 3,
     "metadata": {},
     "output_type": "execute_result"
    }
   ],
   "source": [
    "type(soup)"
   ]
  },
  {
   "cell_type": "code",
   "execution_count": 4,
   "id": "93a1de40-15fb-4b10-bff3-4ce7e715e553",
   "metadata": {},
   "outputs": [
    {
     "name": "stdout",
     "output_type": "stream",
     "text": [
      "<html><head><title>The Dormouse's story</title></head>\n",
      "<body>\n",
      "<p class=\"title\"><b>The Dormouse's story</b></p>\n",
      "<p class=\"story\">Once upon a time there were three little sisters; and their names were\n",
      "<a class=\"sister\" href=\"http://example.com/elsie\" id=\"link1\">Elsie</a>,\n",
      "<a class=\"sister\" href=\"http://example.com/lacie\" id=\"link2\">Lacie</a> and\n",
      "<a class=\"sister\" href=\"http://example.com/tillie\" id=\"link3\">Tillie</a>;\n",
      "and they lived at the bottom of a well.</p>\n",
      "<p class=\"story\">...</p></body></html>\n"
     ]
    }
   ],
   "source": [
    "print(soup)"
   ]
  },
  {
   "cell_type": "markdown",
   "id": "715de49b-d9fb-4e88-9f67-b8d7ba0449cc",
   "metadata": {},
   "source": [
    "\n",
    "#### **Common BeautifulSoup Attributes**\n",
    "\n",
    "| **Attribute**              | **Description**                              |\n",
    "|-----------------------------|---------------------------------------------|\n",
    "| **soup.tagname**           | Accesses the first occurrence of a tag      |\n",
    "| **.name**                  |Returns the tag’s name as a string           |\n",
    "| **.text**                  | Gets the text inside a tag                  |\n",
    "| **.attrs**                 | Dictionary of a tag’s attributes            |\n",
    "| **.tag['attribute']**       | Accesses a specific attribute value         |\n",
    "| **.parent**                | The parent tag                              |\n",
    "| **.parents**               | Generator for all ancestors up the tree     |\n",
    "| **.children** / **.contents** | Direct child tags of a tag            |\n",
    "| **.descendants**           | All child tags recursively                  |\n",
    "| **.next_sibling**          | Next sibling tag or string                  |\n",
    "| **.previous_sibling**      | Previous sibling tag or string              |\n",
    "| **.string**                | Tag’s text if it has only one text child    |\n",
    "\n"
   ]
  },
  {
   "cell_type": "code",
   "execution_count": 5,
   "id": "a2ce66f1-8e2f-4a9b-88dd-e5e8f31144e7",
   "metadata": {},
   "outputs": [
    {
     "name": "stdout",
     "output_type": "stream",
     "text": [
      "<html>\n",
      " <head>\n",
      "  <title>\n",
      "   The Dormouse's story\n",
      "  </title>\n",
      " </head>\n",
      " <body>\n",
      "  <p class=\"title\">\n",
      "   <b>\n",
      "    The Dormouse's story\n",
      "   </b>\n",
      "  </p>\n",
      "  <p class=\"story\">\n",
      "   Once upon a time there were three little sisters; and their names were\n",
      "   <a class=\"sister\" href=\"http://example.com/elsie\" id=\"link1\">\n",
      "    Elsie\n",
      "   </a>\n",
      "   ,\n",
      "   <a class=\"sister\" href=\"http://example.com/lacie\" id=\"link2\">\n",
      "    Lacie\n",
      "   </a>\n",
      "   and\n",
      "   <a class=\"sister\" href=\"http://example.com/tillie\" id=\"link3\">\n",
      "    Tillie\n",
      "   </a>\n",
      "   ;\n",
      "and they lived at the bottom of a well.\n",
      "  </p>\n",
      "  <p class=\"story\">\n",
      "   ...\n",
      "  </p>\n",
      " </body>\n",
      "</html>\n",
      "\n"
     ]
    }
   ],
   "source": [
    "#pretify\n",
    "print(soup.prettify())"
   ]
  },
  {
   "cell_type": "markdown",
   "id": "1fdc8675-061b-4db0-b660-1d5a8ee78374",
   "metadata": {},
   "source": [
    "#### Navigating using tag names:\n",
    "- Directly access tags as attributes of the soup object\n",
    "- **Syntax:** **`soup.tagname`**\n",
    "- **NOTE:** Direct attribute access only returns the first occurrence.\n"
   ]
  },
  {
   "cell_type": "code",
   "execution_count": 6,
   "id": "c6ca7cff-e3cd-4232-bd08-5b7f754c9bd2",
   "metadata": {},
   "outputs": [
    {
     "name": "stdout",
     "output_type": "stream",
     "text": [
      "<html><head><title>The Dormouse's story</title></head>\n",
      "<body>\n",
      "<p class=\"title\"><b>The Dormouse's story</b></p>\n",
      "<p class=\"story\">Once upon a time there were three little sisters; and their names were\n",
      "<a class=\"sister\" href=\"http://example.com/elsie\" id=\"link1\">Elsie</a>,\n",
      "<a class=\"sister\" href=\"http://example.com/lacie\" id=\"link2\">Lacie</a> and\n",
      "<a class=\"sister\" href=\"http://example.com/tillie\" id=\"link3\">Tillie</a>;\n",
      "and they lived at the bottom of a well.</p>\n",
      "<p class=\"story\">...</p></body></html>\n"
     ]
    }
   ],
   "source": [
    "print(soup.html)"
   ]
  },
  {
   "cell_type": "code",
   "execution_count": 7,
   "id": "d5114998-24d3-409d-bb21-6acc6c7152f7",
   "metadata": {},
   "outputs": [
    {
     "name": "stdout",
     "output_type": "stream",
     "text": [
      "<body>\n",
      "<p class=\"title\"><b>The Dormouse's story</b></p>\n",
      "<p class=\"story\">Once upon a time there were three little sisters; and their names were\n",
      "<a class=\"sister\" href=\"http://example.com/elsie\" id=\"link1\">Elsie</a>,\n",
      "<a class=\"sister\" href=\"http://example.com/lacie\" id=\"link2\">Lacie</a> and\n",
      "<a class=\"sister\" href=\"http://example.com/tillie\" id=\"link3\">Tillie</a>;\n",
      "and they lived at the bottom of a well.</p>\n",
      "<p class=\"story\">...</p></body>\n"
     ]
    }
   ],
   "source": [
    "print(soup.body)"
   ]
  },
  {
   "cell_type": "code",
   "execution_count": 8,
   "id": "756cea0d-95ff-4ccb-bb81-5a92513b70a1",
   "metadata": {},
   "outputs": [
    {
     "name": "stdout",
     "output_type": "stream",
     "text": [
      "None\n"
     ]
    }
   ],
   "source": [
    "# If tag doesn't exsits\n",
    "print(soup.div)"
   ]
  },
  {
   "cell_type": "markdown",
   "id": "6e967788-5dcb-4260-9776-70d3f6eae5c0",
   "metadata": {},
   "source": [
    "#### Navigating Deeper\n",
    "- You can chain tags together:"
   ]
  },
  {
   "cell_type": "code",
   "execution_count": 9,
   "id": "58e3c302-a54c-453f-967e-2b0309d8f6a8",
   "metadata": {},
   "outputs": [
    {
     "name": "stdout",
     "output_type": "stream",
     "text": [
      "<a class=\"sister\" href=\"http://example.com/elsie\" id=\"link1\">Elsie</a>\n"
     ]
    }
   ],
   "source": [
    "print(soup.body.a)"
   ]
  },
  {
   "cell_type": "code",
   "execution_count": 10,
   "id": "58278e37-18b2-4de7-b1fe-58dd7ae1c478",
   "metadata": {},
   "outputs": [
    {
     "name": "stdout",
     "output_type": "stream",
     "text": [
      "The Dormouse's story\n"
     ]
    }
   ],
   "source": [
    "print(soup.title.text)"
   ]
  },
  {
   "cell_type": "code",
   "execution_count": 11,
   "id": "12f0ad36-7f20-4fbd-9036-a885d6eecb74",
   "metadata": {},
   "outputs": [
    {
     "data": {
      "text/plain": [
       "str"
      ]
     },
     "execution_count": 11,
     "metadata": {},
     "output_type": "execute_result"
    }
   ],
   "source": [
    "type(soup.title.text)"
   ]
  },
  {
   "cell_type": "code",
   "execution_count": 12,
   "id": "dcc8831b-e16f-4684-aef8-ed3828b3834b",
   "metadata": {},
   "outputs": [
    {
     "name": "stdout",
     "output_type": "stream",
     "text": [
      "The Dormouse's story\n",
      "Upper() Method: THE DORMOUSE'S STORY\n",
      "Split() Method: ['The', \"Dormouse's\", 'story']\n"
     ]
    }
   ],
   "source": [
    "# Applying string methods\n",
    "title = soup.title.text\n",
    "print(title)\n",
    "print(f'Upper() Method: {title.upper()}')\n",
    "print(f'Split() Method: {title.split()}')"
   ]
  },
  {
   "cell_type": "code",
   "execution_count": 13,
   "id": "3931cb9d-741e-45cb-94cb-e6ede0e730ee",
   "metadata": {},
   "outputs": [
    {
     "data": {
      "text/plain": [
       "'[document]'"
      ]
     },
     "execution_count": 13,
     "metadata": {},
     "output_type": "execute_result"
    }
   ],
   "source": [
    "# name tag\n",
    "soup.name"
   ]
  },
  {
   "cell_type": "code",
   "execution_count": 14,
   "id": "bed587b1-4e9a-4dea-81aa-8077705cfd39",
   "metadata": {},
   "outputs": [
    {
     "data": {
      "text/plain": [
       "<p class=\"story\">Once upon a time there were three little sisters; and their names were\n",
       "<a class=\"sister\" href=\"http://example.com/elsie\" id=\"link1\">Elsie</a>,\n",
       "<a class=\"sister\" href=\"http://example.com/lacie\" id=\"link2\">Lacie</a> and\n",
       "<a class=\"sister\" href=\"http://example.com/tillie\" id=\"link3\">Tillie</a>;\n",
       "and they lived at the bottom of a well.</p>"
      ]
     },
     "execution_count": 14,
     "metadata": {},
     "output_type": "execute_result"
    }
   ],
   "source": [
    "# parent tag : Display the parent tag\n",
    "soup.a.parent"
   ]
  },
  {
   "cell_type": "markdown",
   "id": "0824b6c7-68f7-4bb2-b637-e118d7a5eef9",
   "metadata": {},
   "source": [
    "#### **`.children vs .descendants`** attributes\n",
    "\n",
    "\n",
    "| **Attribute**    | **Description**                                     | **Returns**                                  | **Example Output**                             |\n",
    "|------------------|-----------------------------------------------------|----------------------------------------------|------------------------------------------------|\n",
    "| **.children**    | Only the **immediate child** tags or strings.       | Iterator of direct children (1 level deep)   | `<p>First paragraph</p>`<br>`<p>Second...</p>` |\n",
    "| **.descendants** | **All tags and strings recursively** inside a tag.  | Iterator of all nested content at any depth  | `<p>First paragraph</p>`<br>`First paragraph`<br>`<b>bold</b>`<br>`bold` |\n"
   ]
  },
  {
   "cell_type": "code",
   "execution_count": 15,
   "id": "37e7569b-e42d-4ec6-8042-05be5fa510b9",
   "metadata": {},
   "outputs": [
    {
     "data": {
      "text/plain": [
       "<list_iterator at 0x1d3ea697760>"
      ]
     },
     "execution_count": 15,
     "metadata": {},
     "output_type": "execute_result"
    }
   ],
   "source": [
    "# children tag\n",
    "childrens = soup.body.children\n",
    "childrens"
   ]
  },
  {
   "cell_type": "code",
   "execution_count": 16,
   "id": "b02634ab-7911-4ad9-9db2-4bfc6f5a0ff8",
   "metadata": {},
   "outputs": [
    {
     "name": "stdout",
     "output_type": "stream",
     "text": [
      "\n",
      "\n",
      "<p class=\"title\"><b>The Dormouse's story</b></p>\n",
      "\n",
      "\n",
      "<p class=\"story\">Once upon a time there were three little sisters; and their names were\n",
      "<a class=\"sister\" href=\"http://example.com/elsie\" id=\"link1\">Elsie</a>,\n",
      "<a class=\"sister\" href=\"http://example.com/lacie\" id=\"link2\">Lacie</a> and\n",
      "<a class=\"sister\" href=\"http://example.com/tillie\" id=\"link3\">Tillie</a>;\n",
      "and they lived at the bottom of a well.</p>\n",
      "\n",
      "\n",
      "<p class=\"story\">...</p>\n"
     ]
    }
   ],
   "source": [
    "for child in childrens:\n",
    "    print(child)"
   ]
  },
  {
   "cell_type": "code",
   "execution_count": 17,
   "id": "0532127c-89b5-4cc6-b966-955d126c272b",
   "metadata": {},
   "outputs": [
    {
     "name": "stdout",
     "output_type": "stream",
     "text": [
      "<title>The Dormouse's story</title>\n"
     ]
    }
   ],
   "source": [
    "for child in soup.head.children:\n",
    "    print(child)"
   ]
  },
  {
   "cell_type": "code",
   "execution_count": 18,
   "id": "796082f9-7db3-4ba2-a792-6f6535873deb",
   "metadata": {},
   "outputs": [
    {
     "data": {
      "text/plain": [
       "<generator object Tag.descendants at 0x000001D3EA6A2400>"
      ]
     },
     "execution_count": 18,
     "metadata": {},
     "output_type": "execute_result"
    }
   ],
   "source": [
    "# descendants tag\n",
    "soup.body.descendants"
   ]
  },
  {
   "cell_type": "code",
   "execution_count": 19,
   "id": "85b1e469-a230-44c0-a28a-3125e9d4f8f7",
   "metadata": {},
   "outputs": [
    {
     "name": "stdout",
     "output_type": "stream",
     "text": [
      "\n",
      "\n",
      "<p class=\"title\"><b>The Dormouse's story</b></p>\n",
      "<b>The Dormouse's story</b>\n",
      "The Dormouse's story\n",
      "\n",
      "\n",
      "<p class=\"story\">Once upon a time there were three little sisters; and their names were\n",
      "<a class=\"sister\" href=\"http://example.com/elsie\" id=\"link1\">Elsie</a>,\n",
      "<a class=\"sister\" href=\"http://example.com/lacie\" id=\"link2\">Lacie</a> and\n",
      "<a class=\"sister\" href=\"http://example.com/tillie\" id=\"link3\">Tillie</a>;\n",
      "and they lived at the bottom of a well.</p>\n",
      "Once upon a time there were three little sisters; and their names were\n",
      "\n",
      "<a class=\"sister\" href=\"http://example.com/elsie\" id=\"link1\">Elsie</a>\n",
      "Elsie\n",
      ",\n",
      "\n",
      "<a class=\"sister\" href=\"http://example.com/lacie\" id=\"link2\">Lacie</a>\n",
      "Lacie\n",
      " and\n",
      "\n",
      "<a class=\"sister\" href=\"http://example.com/tillie\" id=\"link3\">Tillie</a>\n",
      "Tillie\n",
      ";\n",
      "and they lived at the bottom of a well.\n",
      "\n",
      "\n",
      "<p class=\"story\">...</p>\n",
      "...\n"
     ]
    }
   ],
   "source": [
    "for descendant in soup.body.descendants:\n",
    "    print(descendant)"
   ]
  },
  {
   "cell_type": "markdown",
   "id": "bb3f12d2-6fae-4803-b6e8-dc88338f2ac7",
   "metadata": {},
   "source": [
    "#### **Common BeautifulSoup Methods**\n",
    "\n",
    "| **Method**            | **Description**                                 |\n",
    "|-----------------------|-------------------------------------------------|\n",
    "| **.prettify()**       | Pretty-prints the HTML tree                     |\n",
    "| **.find()**           | Finds the first matching tag                    |\n",
    "| **.find_all()**       | Finds all matching tags (returns list)          |\n",
    "| **.get_text()**       | Extracts text inside a tag                      |\n",
    "| **.get()**            | Retrieves an attribute value from a tag         |\n",
    "| **.select()**         | Finds tags using CSS selectors                  |\n",
    "| **.select_one()**     | Finds a single tag using a CSS selector         |\n",
    "| **.decode()**         | Converts a tag or soup object back to HTML text |\n",
    "\n"
   ]
  },
  {
   "cell_type": "code",
   "execution_count": 20,
   "id": "236e54be-e3b3-4abf-bd2c-fd321bbcd24a",
   "metadata": {},
   "outputs": [
    {
     "data": {
      "text/plain": [
       "\"\\nThe Dormouse's story\\nOnce upon a time there were three little sisters; and their names were\\nElsie,\\nLacie and\\nTillie;\\nand they lived at the bottom of a well.\\n...\""
      ]
     },
     "execution_count": 20,
     "metadata": {},
     "output_type": "execute_result"
    }
   ],
   "source": [
    "#get_text() method: extract the plain text of tags\n",
    "soup.body.get_text()"
   ]
  },
  {
   "cell_type": "code",
   "execution_count": 21,
   "id": "8848f522-1872-485f-aad0-12a1b07fbbdb",
   "metadata": {},
   "outputs": [
    {
     "name": "stdout",
     "output_type": "stream",
     "text": [
      "The Dormouse's story\n",
      "Once upon a time there were three little sisters; and their names were\n",
      "Elsie,\n",
      "Lacie and\n",
      "Tillie;\n",
      "and they lived at the bottom of a well.\n",
      "...\n"
     ]
    }
   ],
   "source": [
    "print(soup.body.get_text().strip())"
   ]
  },
  {
   "cell_type": "code",
   "execution_count": 22,
   "id": "9bf551e7-9806-40c8-81ea-4105f8e86425",
   "metadata": {},
   "outputs": [
    {
     "data": {
      "text/plain": [
       "\"The Dormouse's story\""
      ]
     },
     "execution_count": 22,
     "metadata": {},
     "output_type": "execute_result"
    }
   ],
   "source": [
    "soup.title.get_text()"
   ]
  },
  {
   "cell_type": "markdown",
   "id": "4e704b62-8249-4df4-9258-073f20c05f39",
   "metadata": {},
   "source": [
    "### **Searching the tree**"
   ]
  },
  {
   "cell_type": "code",
   "execution_count": 23,
   "id": "6b5fb33e-d4bd-4080-a5fd-a51ca25ae395",
   "metadata": {},
   "outputs": [
    {
     "data": {
      "text/plain": [
       "<a class=\"sister\" href=\"http://example.com/elsie\" id=\"link1\">Elsie</a>"
      ]
     },
     "execution_count": 23,
     "metadata": {},
     "output_type": "execute_result"
    }
   ],
   "source": [
    "soup.a"
   ]
  },
  {
   "cell_type": "markdown",
   "id": "5826e117-17f5-4d1c-a36b-abf538f4390c",
   "metadata": {},
   "source": [
    "#### **find() Method:**\n",
    "- The **`.find()`** method searches the HTML document and returns the `first` tag that matches your search criteria.\n",
    "- **Syntax:** **`soup.find(name=None, attrs={}, recursive=True, string=None, **kwargs)`**\n",
    "    - **Parameters:**\n",
    "        - **`name:`** Tag name to search for `(e.g. \"div\", \"a\", \"span\")`\n",
    "        - **`attrs:`** Dictionary of HTML attributes to match `(e.g. {\"class\": \"player\"})`\n",
    "        - **`recursive:`** Whether to search inside all child elements `(True by default)`\n",
    "        - **`string:`** Search tag contents that exactly match a given string\n",
    "        - **`**kwargs:`** Shorthand for filtering attributes directly `(e.g., class_=\"info\")`"
   ]
  },
  {
   "cell_type": "code",
   "execution_count": 24,
   "id": "e6d8e72e-8ffa-4677-80f7-34051f4fba8b",
   "metadata": {},
   "outputs": [
    {
     "data": {
      "text/plain": [
       "<a class=\"sister\" href=\"http://example.com/elsie\" id=\"link1\">Elsie</a>"
      ]
     },
     "execution_count": 24,
     "metadata": {},
     "output_type": "execute_result"
    }
   ],
   "source": [
    "# name\n",
    "soup.find('a')"
   ]
  },
  {
   "cell_type": "code",
   "execution_count": 25,
   "id": "e669783a-dfa1-41f5-80b5-a8a761938978",
   "metadata": {},
   "outputs": [
    {
     "data": {
      "text/plain": [
       "<a class=\"sister\" href=\"http://example.com/elsie\" id=\"link1\">Elsie</a>"
      ]
     },
     "execution_count": 25,
     "metadata": {},
     "output_type": "execute_result"
    }
   ],
   "source": [
    "# Find the anchor tag with class:\n",
    "soup.find(\"a\", class_=\"sister\")\n",
    "\n",
    "# OR r using attrs:\n",
    "# soup.find('a', attrs={'class': 'sister'})"
   ]
  },
  {
   "cell_type": "code",
   "execution_count": 26,
   "id": "6260d6b9-f459-4552-8a56-9c9f8c8ec209",
   "metadata": {},
   "outputs": [
    {
     "data": {
      "text/plain": [
       "<a class=\"sister\" href=\"http://example.com/lacie\" id=\"link2\">Lacie</a>"
      ]
     },
     "execution_count": 26,
     "metadata": {},
     "output_type": "execute_result"
    }
   ],
   "source": [
    "# Find by ID\n",
    "soup.find('a', id=\"link2\")"
   ]
  },
  {
   "cell_type": "code",
   "execution_count": 27,
   "id": "dce1f919-147d-4641-94bc-0c25a91fbe2d",
   "metadata": {},
   "outputs": [
    {
     "data": {
      "text/plain": [
       "<a class=\"sister\" href=\"http://example.com/lacie\" id=\"link2\">Lacie</a>"
      ]
     },
     "execution_count": 27,
     "metadata": {},
     "output_type": "execute_result"
    }
   ],
   "source": [
    "# Find element containing exact text\n",
    "soup.find('a', string=\"Lacie\")"
   ]
  },
  {
   "cell_type": "markdown",
   "id": "874b6a8c-e0c8-4de5-bc89-1acf29e70377",
   "metadata": {},
   "source": [
    "#### **find_all() Method:**\n",
    "- The **`.find_all()`** method searches the parsed HTML and **returns a list of tags** that match the criteria you specify.\n",
    "- **Syntax:** **`soup.find_all(name=None, attrs={}, recursive=True, string=None, limit=None, **kwargs)`**\n",
    "    - **Parameters:**\n",
    "        - **`name:`** Tag name to search for `(e.g. \"div\", \"a\", \"span\")`\n",
    "        - **`attrs:`** Dictionary of HTML attributes to match `(e.g. {\"class\": \"player\"})`\n",
    "        - **`recursive:`** Whether to search all levels or only direct children  `(True by default)`\n",
    "        - **`string:`** Search tag contents that exactly match a given string\n",
    "        - **`limit`** Maximum number of results to return\n",
    "        - **`**kwargs:`** Shortcut for filtering by attributes `(like class_, id, href, etc.)`"
   ]
  },
  {
   "cell_type": "code",
   "execution_count": 28,
   "id": "086010d6-e396-48aa-b143-3b77e6bfd09a",
   "metadata": {},
   "outputs": [
    {
     "data": {
      "text/plain": [
       "[<a class=\"sister\" href=\"http://example.com/elsie\" id=\"link1\">Elsie</a>,\n",
       " <a class=\"sister\" href=\"http://example.com/lacie\" id=\"link2\">Lacie</a>,\n",
       " <a class=\"sister\" href=\"http://example.com/tillie\" id=\"link3\">Tillie</a>]"
      ]
     },
     "execution_count": 28,
     "metadata": {},
     "output_type": "execute_result"
    }
   ],
   "source": [
    "# name\n",
    "soup.find_all('a')"
   ]
  },
  {
   "cell_type": "code",
   "execution_count": 29,
   "id": "5048d843-31fe-4624-a694-27f35c27574e",
   "metadata": {},
   "outputs": [
    {
     "data": {
      "text/plain": [
       "[<a class=\"sister\" href=\"http://example.com/elsie\" id=\"link1\">Elsie</a>,\n",
       " <a class=\"sister\" href=\"http://example.com/lacie\" id=\"link2\">Lacie</a>,\n",
       " <a class=\"sister\" href=\"http://example.com/tillie\" id=\"link3\">Tillie</a>]"
      ]
     },
     "execution_count": 29,
     "metadata": {},
     "output_type": "execute_result"
    }
   ],
   "source": [
    "# Find the anchor tag with class:\n",
    "# soup.find_all(\"a\", class_=\"sister\")\n",
    "\n",
    "# OR r using attrs:\n",
    "soup.find_all('a', attrs={'class': 'sister'})"
   ]
  },
  {
   "cell_type": "code",
   "execution_count": 30,
   "id": "c1c2c980-4a2c-45b5-a590-85bafffc61f9",
   "metadata": {},
   "outputs": [
    {
     "data": {
      "text/plain": [
       "[<title>The Dormouse's story</title>,\n",
       " <p class=\"title\"><b>The Dormouse's story</b></p>,\n",
       " <p class=\"story\">Once upon a time there were three little sisters; and their names were\n",
       " <a class=\"sister\" href=\"http://example.com/elsie\" id=\"link1\">Elsie</a>,\n",
       " <a class=\"sister\" href=\"http://example.com/lacie\" id=\"link2\">Lacie</a> and\n",
       " <a class=\"sister\" href=\"http://example.com/tillie\" id=\"link3\">Tillie</a>;\n",
       " and they lived at the bottom of a well.</p>,\n",
       " <a class=\"sister\" href=\"http://example.com/elsie\" id=\"link1\">Elsie</a>,\n",
       " <a class=\"sister\" href=\"http://example.com/lacie\" id=\"link2\">Lacie</a>,\n",
       " <a class=\"sister\" href=\"http://example.com/tillie\" id=\"link3\">Tillie</a>,\n",
       " <p class=\"story\">...</p>]"
      ]
     },
     "execution_count": 30,
     "metadata": {},
     "output_type": "execute_result"
    }
   ],
   "source": [
    "# Find all tags by multiple tag names\n",
    "soup.find_all([\"a\", \"title\", \"p\"])\n"
   ]
  },
  {
   "cell_type": "code",
   "execution_count": 31,
   "id": "8235a3bc-f4c1-4cc6-a456-5f22673a0d5d",
   "metadata": {},
   "outputs": [
    {
     "data": {
      "text/plain": [
       "[<p class=\"title\"><b>The Dormouse's story</b></p>]"
      ]
     },
     "execution_count": 31,
     "metadata": {},
     "output_type": "execute_result"
    }
   ],
   "source": [
    "# Find a p tag that contains an exact string\n",
    "soup.find_all(\"p\", string=\"The Dormouse's story\")"
   ]
  },
  {
   "cell_type": "code",
   "execution_count": 32,
   "id": "f4fe327a-25a8-451f-834d-60160396ba8d",
   "metadata": {},
   "outputs": [
    {
     "data": {
      "text/plain": [
       "[<a class=\"sister\" href=\"http://example.com/elsie\" id=\"link1\">Elsie</a>,\n",
       " <a class=\"sister\" href=\"http://example.com/lacie\" id=\"link2\">Lacie</a>]"
      ]
     },
     "execution_count": 32,
     "metadata": {},
     "output_type": "execute_result"
    }
   ],
   "source": [
    "# Limit results to first 3 matches\n",
    "soup.find_all(\"a\", class_=\"sister\", limit=2)"
   ]
  },
  {
   "cell_type": "code",
   "execution_count": 33,
   "id": "83178159-1a3f-4c18-aea1-645ec9bbecf7",
   "metadata": {},
   "outputs": [
    {
     "data": {
      "text/plain": [
       "[<a class=\"sister\" href=\"http://example.com/elsie\" id=\"link1\">Elsie</a>,\n",
       " <a class=\"sister\" href=\"http://example.com/lacie\" id=\"link2\">Lacie</a>,\n",
       " <a class=\"sister\" href=\"http://example.com/tillie\" id=\"link3\">Tillie</a>]"
      ]
     },
     "execution_count": 33,
     "metadata": {},
     "output_type": "execute_result"
    }
   ],
   "source": [
    "#  Bonus: Custom filtering using a function\n",
    "def has_id_and_has_class(tag):\n",
    "    return tag.has_attr('id') and tag.has_attr('class')\n",
    "\n",
    "soup.find_all(has_id_and_has_class)"
   ]
  },
  {
   "cell_type": "code",
   "execution_count": 34,
   "id": "4ab7e7da-076f-4ab1-8775-39f4d54b1f30",
   "metadata": {},
   "outputs": [
    {
     "data": {
      "text/plain": [
       "bs4.element.ResultSet"
      ]
     },
     "execution_count": 34,
     "metadata": {},
     "output_type": "execute_result"
    }
   ],
   "source": [
    "type(soup.find_all('a'))"
   ]
  },
  {
   "cell_type": "markdown",
   "id": "c17d53c5-759a-400f-81c9-79f162d146d4",
   "metadata": {},
   "source": [
    "#### **Access Attributes of an Anchor Tag**\n",
    "- **`Access Single Attribute:`**\n",
    "    - **Bracket notation**:\n",
    "        - **Ex.** print(a_tag[\"class\"]) \n",
    "    - **.get() Method**\n",
    "        - **Ex.** print(a_tag.get(\"href\"))   \n",
    "        - If the attribute **does not exist**, **.get()** returns `None` instead of throwing an error:\n",
    "    - **`Access All Attributes:`**\n",
    "        - **Ex.** print(a_tag.attrs)\n",
    "\n",
    "\n",
    "-  Use **`tag[\"attr\"]`** or **`tag.get(\"attr\")`** to access anchor tag attributes\n",
    "- Use **`tag.attrs`** for all attributes."
   ]
  },
  {
   "cell_type": "code",
   "execution_count": 35,
   "id": "141c8f98-2488-42a6-88fe-cddef875b87e",
   "metadata": {},
   "outputs": [
    {
     "data": {
      "text/plain": [
       "<a class=\"sister\" href=\"http://example.com/elsie\" id=\"link1\">Elsie</a>"
      ]
     },
     "execution_count": 35,
     "metadata": {},
     "output_type": "execute_result"
    }
   ],
   "source": [
    "# get() method\n",
    "soup.a"
   ]
  },
  {
   "cell_type": "code",
   "execution_count": 36,
   "id": "206595a5-7b49-41c9-8c55-10e2cfd55fd6",
   "metadata": {},
   "outputs": [
    {
     "data": {
      "text/plain": [
       "'link1'"
      ]
     },
     "execution_count": 36,
     "metadata": {},
     "output_type": "execute_result"
    }
   ],
   "source": [
    "# Access Single Attribute:\n",
    "soup.a['id'] # using bracket notation"
   ]
  },
  {
   "cell_type": "code",
   "execution_count": 37,
   "id": "63656fd7-296d-44cc-b50f-e7f7f85f3fd9",
   "metadata": {},
   "outputs": [
    {
     "data": {
      "text/plain": [
       "['sister']"
      ]
     },
     "execution_count": 37,
     "metadata": {},
     "output_type": "execute_result"
    }
   ],
   "source": [
    "# Access Single Attribute:\n",
    "soup.a.get('class') # using get() method"
   ]
  },
  {
   "cell_type": "code",
   "execution_count": 38,
   "id": "a56ceca2-3f55-4461-b8a2-576cd101deae",
   "metadata": {},
   "outputs": [
    {
     "data": {
      "text/plain": [
       "{'href': 'http://example.com/elsie', 'class': ['sister'], 'id': 'link1'}"
      ]
     },
     "execution_count": 38,
     "metadata": {},
     "output_type": "execute_result"
    }
   ],
   "source": [
    "#Access All Attributes:\n",
    "soup.a.attrs"
   ]
  },
  {
   "cell_type": "markdown",
   "id": "81a6aa7c-cb2a-46fd-be87-e13697cda6f3",
   "metadata": {},
   "source": [
    "##### **`select()` method:**\n",
    "- **Returns a list** of all elements matching a given CSS selector.\n",
    "- If no elements are found, it returns an **empty list**.\n",
    "- **Useful** when you expect **multiple elements** to match the selector.\n",
    "- **Syntax:** **`soup.select(selector, namespaces=None, limit=None, **kwargs)`**\n",
    "    - **Parameters:**\n",
    "        - **`selector:`** A string containing a CSS selector `(e.g., \"div.item\", \"#main\")`. Required.\n",
    "        - **`namespaces:`** A dictionary of namespace prefixes (mainly used for XML). Optional.\n",
    "        - **`limit`** Integer to limit the number of matches. Optional.\n",
    "        - **`**kwargs:`**\tAdditional keyword arguments (rarely used).\n",
    "\n",
    "--------------------------------------------\n",
    "\n",
    "##### **`select_one()` method:**\n",
    "- **Returns only the first element** that matches the CSS selector.\n",
    "- If no match is found, it returns **`None`**.\n",
    "- Useful when you're sure or only care about a **single match**.\n",
    "- **Syntax:** **`soup.select(selector, namespaces=None, **kwargs)`**\n",
    "    - **Parameters:**\n",
    "        - **`selector:`** A string containing a **CSS selector** `(e.g., \"div.item\", \"#main\")`. Required.\n",
    "        - **`namespaces:`** A dictionary of namespace prefixes (mainly used for XML). Optional.\n",
    "        - **`**kwargs:`**\tAdditional keyword arguments (rarely used).\n",
    "\n",
    "--------------------------------------------\n",
    "\n",
    "- **`NOTE:`**\n",
    "Both use full CSS selector syntax, like:\n",
    "    - `.class-name`\n",
    "    - `#id-name`\n",
    "    - `tag`\n",
    "    - `tag > child-tag`\n",
    "    - `tag[attr=value],` etc.\n",
    "\n",
    "--------------------------------------------\n",
    "\n",
    "##### **`.select()` vs `.select_one()`?**\n",
    "These methods let you search for elements using CSS selectors, just like in web development (HTML + CSS):\n",
    "- **`.select()`** – Returns all matching elements (like **.find_all()**) → list\n",
    "- **`.select_one()`** – Returns only the first matching element (like **.find()**) → element or None"
   ]
  },
  {
   "cell_type": "code",
   "execution_count": 39,
   "id": "f15c6612-0c93-4fd8-84a1-9b1344fe4b89",
   "metadata": {},
   "outputs": [
    {
     "name": "stdout",
     "output_type": "stream",
     "text": [
      "[<a class=\"sister\" href=\"http://example.com/elsie\" id=\"link1\">Elsie</a>, <a class=\"sister\" href=\"http://example.com/lacie\" id=\"link2\">Lacie</a>, <a class=\"sister\" href=\"http://example.com/tillie\" id=\"link3\">Tillie</a>]\n",
      "[<a class=\"sister\" href=\"http://example.com/elsie\" id=\"link1\">Elsie</a>, <a class=\"sister\" href=\"http://example.com/lacie\" id=\"link2\">Lacie</a>]\n",
      "[]\n",
      " text: Elsie, links: http://example.com/elsie\n",
      " text: Lacie, links: http://example.com/lacie\n",
      " text: Tillie, links: http://example.com/tillie\n"
     ]
    }
   ],
   "source": [
    "# select() method\n",
    "\n",
    "from bs4 import BeautifulSoup\n",
    "\n",
    "html = \"\"\"\n",
    "<html><head><title>The Dormouse's story</title></head>\n",
    "<body>\n",
    "<p class=\"title\"><b>The Dormouse's story</b></p>\n",
    "\n",
    "<p class=\"story\">Once upon a time there were three little sisters; and their names were\n",
    "<a href=\"http://example.com/elsie\" class=\"sister\" id=\"link1\">Elsie</a>,\n",
    "<a href=\"http://example.com/lacie\" class=\"sister\" id=\"link2\">Lacie</a> and\n",
    "<a href=\"http://example.com/tillie\" class=\"sister\" id=\"link3\">Tillie</a>;\n",
    "and they lived at the bottom of a well.</p>\n",
    "\n",
    "<p class=\"story\">...</p></body></html>\n",
    "\"\"\"\n",
    "soup = BeautifulSoup(html, 'html.parser')\n",
    "\n",
    "# print(soup.prettify())\n",
    "\n",
    "print(soup.select(\"a.sister\"))\n",
    "\n",
    "print(soup.select(\"a.sister\", limit=2))\n",
    "\n",
    "# return empty list id selector not found\n",
    "print(soup.select(\"a.brother\")) \n",
    "\n",
    "\n",
    "# select() to get all <a> tags with class \"sister\"\n",
    "all_tags = soup.select(\"a.sister\")\n",
    "for tag in all_tags:\n",
    "    print(f\" text: {tag.get_text()}, links: {tag['href']}\")"
   ]
  },
  {
   "cell_type": "code",
   "execution_count": 40,
   "id": "7cdf75fb-4b5b-4640-83b9-65964cf41e86",
   "metadata": {},
   "outputs": [
    {
     "name": "stdout",
     "output_type": "stream",
     "text": [
      "<a class=\"sister\" href=\"http://example.com/elsie\" id=\"link1\">Elsie</a>\n"
     ]
    }
   ],
   "source": [
    "# select_one()\n",
    "print(soup.select_one(\"a.sister\"))\n"
   ]
  },
  {
   "cell_type": "markdown",
   "id": "f5a7ea5c-d73f-4559-861a-6dfea7d9e7d3",
   "metadata": {},
   "source": [
    "### CSS Combinators Table\n",
    "\n",
    "| Combinator | Syntax     | Description                                      | Example in BeautifulSoup               |\n",
    "|------------|------------|--------------------------------------------------|----------------------------------------|\n",
    "| Descendant | `A B`      | Selects all `B` inside `A` at any level         | `soup.select(\"div p\")`                 |\n",
    "| Child      | `A > B`    | Selects `B` if it is a **direct child** of `A`  | `soup.select(\"ul > li\")`               |\n",
    "| Adjacent   | `A + B`    | Selects `B` if it is the **next sibling** of `A`| `soup.select(\"h2 + p\")`                |\n",
    "| General    | `A ~ B`    | Selects all `B` siblings **after** `A`          | `soup.select(\"h2 ~ p\")`                |\n"
   ]
  },
  {
   "cell_type": "code",
   "execution_count": 41,
   "id": "ec3fd258-8272-440f-a3bd-be22fb386565",
   "metadata": {},
   "outputs": [],
   "source": [
    "# Example for performing CSS Combinators \n",
    "\n",
    "html = \"\"\"\n",
    "\n",
    "<div class=\"div_1\">\n",
    "    <h2>Heading</h2>\n",
    "    <p>Paragraph 1</p>\n",
    "    <p>Paragraph 2</p>\n",
    "    <section>\n",
    "        <p>Nested Paragraph</p>\n",
    "    </section>\n",
    "</div>\n",
    "\n",
    "<div class=\"div_2\">\n",
    "    <h3>Heading of div 2</h3>\n",
    "    <p>Paragraph of div 2</p>\n",
    "    <p>Paragraph of div 2</p>\n",
    "    <h2>Heading 2 of div 2</h2>\n",
    "    <section>\n",
    "        <p>Nested Paragraph of div 2</p>\n",
    "    </section>\n",
    "</div>\n",
    "\"\"\"\n",
    "\n",
    "css_soup = BeautifulSoup(html, 'html.parser')\n"
   ]
  },
  {
   "cell_type": "code",
   "execution_count": 42,
   "id": "b7323ff6-633e-4bbc-9e47-8f0e003541f3",
   "metadata": {},
   "outputs": [
    {
     "name": "stdout",
     "output_type": "stream",
     "text": [
      "[<p>Paragraph 1</p>, <p>Paragraph 2</p>, <p>Nested Paragraph</p>, <p>Paragraph of div 2</p>, <p>Paragraph of div 2</p>, <p>Nested Paragraph of div 2</p>]\n",
      "Paragraph 1\n",
      "Paragraph 2\n",
      "Nested Paragraph\n",
      "Paragraph of div 2\n",
      "Paragraph of div 2\n",
      "Nested Paragraph of div 2\n"
     ]
    }
   ],
   "source": [
    "# 1.Descendant Combinator (A B) : Finds all <p> tags anywhere inside <div>.\n",
    "p_tags = css_soup.select(\"div p\")\n",
    "print(p_tags)\n",
    "for tag in p_tags:\n",
    "    print(f\"{ tag.text }\")"
   ]
  },
  {
   "cell_type": "code",
   "execution_count": 43,
   "id": "cd060ba9-d1fc-40c9-bbca-c74bb5a5ed27",
   "metadata": {},
   "outputs": [
    {
     "name": "stdout",
     "output_type": "stream",
     "text": [
      "[<p>Paragraph 1</p>, <p>Paragraph 2</p>, <p>Paragraph of div 2</p>, <p>Paragraph of div 2</p>]\n",
      "Paragraph 1\n",
      "Paragraph 2\n",
      "Paragraph of div 2\n",
      "Paragraph of div 2\n"
     ]
    }
   ],
   "source": [
    "#2: Child Combinator (A > B): Finds only <p> tags that are direct children of <div>, not nested.\n",
    "p_tags = css_soup.select(\"div > p\")\n",
    "print(p_tags)\n",
    "for tag in p_tags:\n",
    "    print(f\"{ tag.text }\")"
   ]
  },
  {
   "cell_type": "code",
   "execution_count": 44,
   "id": "282b145d-fe90-461f-808b-05e21c3e2189",
   "metadata": {},
   "outputs": [
    {
     "data": {
      "text/plain": [
       "[<section>\n",
       " <p>Nested Paragraph of div 2</p>\n",
       " </section>]"
      ]
     },
     "execution_count": 44,
     "metadata": {},
     "output_type": "execute_result"
    }
   ],
   "source": [
    "# 3. Adjacent Sibling Combinator (A + B): Finds the first <p> that comes immediately after <h2>\n",
    "css_soup.select(\"h2 + section\")"
   ]
  },
  {
   "cell_type": "code",
   "execution_count": 45,
   "id": "1c815c79-5b16-4585-895a-5a020c0987bd",
   "metadata": {},
   "outputs": [
    {
     "data": {
      "text/plain": [
       "[<p>Paragraph 1</p>, <p>Paragraph 2</p>]"
      ]
     },
     "execution_count": 45,
     "metadata": {},
     "output_type": "execute_result"
    }
   ],
   "source": [
    "# General Sibling Combinator (A ~ B) : Finds all <p> that are siblings of <h2> and come after it.\n",
    "css_soup.select(\"h2 ~ p\") "
   ]
  },
  {
   "cell_type": "code",
   "execution_count": 46,
   "id": "8de5412f-b2f5-4f4a-8726-e39b1f47adae",
   "metadata": {},
   "outputs": [
    {
     "data": {
      "text/plain": [
       "[<div class=\"div_2\">\n",
       " <h3>Heading of div 2</h3>\n",
       " <p>Paragraph of div 2</p>\n",
       " <p>Paragraph of div 2</p>\n",
       " <h2>Heading 2 of div 2</h2>\n",
       " <section>\n",
       " <p>Nested Paragraph of div 2</p>\n",
       " </section>\n",
       " </div>]"
      ]
     },
     "execution_count": 46,
     "metadata": {},
     "output_type": "execute_result"
    }
   ],
   "source": [
    "\n",
    "css_soup.select(\"div ~ div\")"
   ]
  },
  {
   "cell_type": "code",
   "execution_count": null,
   "id": "7f2571a9-35e9-4caa-aa48-e242d2e8ccfb",
   "metadata": {},
   "outputs": [],
   "source": []
  },
  {
   "cell_type": "code",
   "execution_count": null,
   "id": "30789b3c-a1bc-4239-8e4a-8869bc695ff6",
   "metadata": {},
   "outputs": [],
   "source": []
  },
  {
   "cell_type": "markdown",
   "id": "856212a3-95cf-409c-b897-00db170dc1bf",
   "metadata": {},
   "source": [
    "### **Fetch webpage with `Requests`**\n",
    "- **URL**: `https://www.bbc.com/sport/football/premier-league/top-scorers`"
   ]
  },
  {
   "cell_type": "code",
   "execution_count": 47,
   "id": "fd52b666-b3c8-48cf-9dd3-575c73565c53",
   "metadata": {},
   "outputs": [],
   "source": [
    "## GET requests\n",
    "import requests\n",
    "\n",
    "url = \"https://www.bbc.com/sport/football/premier-league/top-scorers\""
   ]
  },
  {
   "cell_type": "code",
   "execution_count": 48,
   "id": "c87ea012-1afd-4cbb-9d81-5623893f3b98",
   "metadata": {},
   "outputs": [],
   "source": [
    "response = requests.get(url)"
   ]
  },
  {
   "cell_type": "code",
   "execution_count": 49,
   "id": "22ae5bb3-675c-409b-980b-adccb3e6ea39",
   "metadata": {},
   "outputs": [],
   "source": [
    "# Check for errors\n",
    "response.raise_for_status()"
   ]
  },
  {
   "cell_type": "code",
   "execution_count": 50,
   "id": "5124f463-e572-4554-ab78-493dc87e62fd",
   "metadata": {},
   "outputs": [
    {
     "name": "stdout",
     "output_type": "stream",
     "text": [
      "None\n"
     ]
    }
   ],
   "source": [
    "print(response.raise_for_status())"
   ]
  },
  {
   "cell_type": "code",
   "execution_count": 51,
   "id": "4f248941-0269-4676-bf1d-e06c9c26d573",
   "metadata": {},
   "outputs": [
    {
     "data": {
      "text/plain": [
       "200"
      ]
     },
     "execution_count": 51,
     "metadata": {},
     "output_type": "execute_result"
    }
   ],
   "source": [
    "response.status_code"
   ]
  },
  {
   "cell_type": "code",
   "execution_count": 52,
   "id": "0d31de9b-6d80-450e-af48-2d7d964ed0d1",
   "metadata": {},
   "outputs": [
    {
     "data": {
      "text/plain": [
       "'<!DOCTYPE html><html lang=\"en-GB\" class=\"no-js\"><head><meta charSet=\"utf-8\" /><meta name=\"viewport\" content=\"width=device-width, initial-scale=1\" /><title data-rh=\"true\">Premier League Top Scorers - BBC Sport</title><meta data-rh=\"true\" name=\"description\" content=\"Premier League top scorers. Showing assists, time on pitch and the shots on and off target.\"/><meta data-rh=\"true\" name=\"theme-color\" content=\"#FFFFFF\"/><meta data-rh=\"true\" property=\"og:description\" content=\"Premier League top scorers'"
      ]
     },
     "execution_count": 52,
     "metadata": {},
     "output_type": "execute_result"
    }
   ],
   "source": [
    "response.text[:500]"
   ]
  },
  {
   "cell_type": "code",
   "execution_count": 53,
   "id": "c50035b9-8bf9-4d83-9495-383d3bf779e0",
   "metadata": {},
   "outputs": [
    {
     "data": {
      "text/plain": [
       "str"
      ]
     },
     "execution_count": 53,
     "metadata": {},
     "output_type": "execute_result"
    }
   ],
   "source": [
    "type(response.text[:500])"
   ]
  },
  {
   "cell_type": "code",
   "execution_count": 54,
   "id": "18f519a8-3197-4ee1-a862-2cd17c32c0f9",
   "metadata": {},
   "outputs": [
    {
     "data": {
      "text/plain": [
       "b'<!DOCTYPE html><html lang=\"en-GB\" class=\"no-js\"><head><meta charSet=\"utf-8\" /><meta name=\"viewport\" content=\"width=device-width, initial-scale=1\" /><title data-rh=\"true\">Premier League Top Scorers - BBC Sport</title><meta data-rh=\"true\" name=\"description\" content=\"Premier League top scorers. Showing assists, time on pitch and the shots on and off target.\"/><meta data-rh=\"true\" name=\"theme-color\" content=\"#FFFFFF\"/><meta data-rh=\"true\" property=\"og:description\" content=\"Premier League top scorers'"
      ]
     },
     "execution_count": 54,
     "metadata": {},
     "output_type": "execute_result"
    }
   ],
   "source": [
    "# for byte\n",
    "response.content[:500]"
   ]
  },
  {
   "cell_type": "code",
   "execution_count": 55,
   "id": "d01dddb6-044b-4dd2-814e-11e29e346a5a",
   "metadata": {},
   "outputs": [
    {
     "data": {
      "text/plain": [
       "bytes"
      ]
     },
     "execution_count": 55,
     "metadata": {},
     "output_type": "execute_result"
    }
   ],
   "source": [
    "type(response.content[:500])"
   ]
  },
  {
   "cell_type": "code",
   "execution_count": 56,
   "id": "47bb1484-7f91-44aa-901e-a96e02ae3fd1",
   "metadata": {},
   "outputs": [],
   "source": [
    "soup = BeautifulSoup(response.content, 'html.parser')"
   ]
  },
  {
   "cell_type": "code",
   "execution_count": 57,
   "id": "0f6c4d3f-1d19-491a-a016-2edae5c4a55a",
   "metadata": {
    "scrolled": true
   },
   "outputs": [
    {
     "name": "stdout",
     "output_type": "stream",
     "text": [
      "<!DOCTYPE html>\n",
      "<html class=\"no-js\" lang=\"en-GB\">\n",
      " <head>\n",
      "  <meta charset=\"utf-8\"/>\n",
      "  <meta content=\"width=device-width, initial-scale=1\" name=\"viewport\"/>\n",
      "  <title data-rh=\"true\">\n",
      "   Premier League Top Scorers - BBC Sport\n",
      "  </title>\n",
      "  <meta content=\"Premier League top scorers. Showing assists, time on pitch and the shots on and off target.\" data-rh=\"true\" name=\"description\"/>\n",
      "  <meta content=\"#FFFFFF\" data-rh=\"true\" name=\"theme-color\"/>\n",
      "  <meta content=\"Premier League top scorers. Showing assists, time on pitch and the shots on and off target.\" data-rh=\"true\" property=\"og:description\"/>\n",
      "  <meta content=\"https://static.files.bbci.co.uk/core/website/assets/static/sport/bbc-sport-logo.0da9386782.png\" data-rh=\"true\" property=\"og:image\"/>\n",
      "  <meta content=\"BBC Sport\" data-rh=\"true\" property=\"og:site_name\"/>\n",
      "  <meta content=\"Premier League Top Scorers - BBC Sport\" data-rh=\"true\" property=\"og:title\"/>\n",
      "  <meta content=\"article\" data-rh=\"true\" property=\"og:type\"/>\n",
      "  <meta content=\"https://www.bbc.co.uk/sport/football/premier-league/top-scorers\" data-rh=\"true\" property=\"og:url\"/>\n",
      "  <meta content=\"summary\" data-rh=\"true\" name=\"twitter:card\"/>\n",
      "  <meta content=\"@BBCSport\" data-rh=\"true\" name=\"twitter:creator\"/>\n",
      "  <meta content=\"@BBCSport\" data-rh=\"true\" name=\"twitter:site\"/>\n",
      "  <meta content=\"Premier League Top Scorers - BBC Sport\" data-rh=\"true\" name=\"twitter:title\"/>\n",
      "  <meta content=\"Premier League top scorers. Showing assists, time on pitch and the shots on and off target.\" data-rh=\"true\" name=\"twitter:description\"/>\n",
      "  <meta content=\"https://www.bbc.co.uk/sport/football/premier-league/top-scorers\" data-rh=\"true\" name=\"twitter:url\"/>\n",
      "  <meta content=\"https://static.files.bbci.co.uk/core/website/assets/static/icons/windows-phone/sport/windows-phone-icon-270x270.3e5b0f9ac9.png\" data-rh=\"true\" name=\"msapplication-TileImage\" type=\"metaTags\"/>\n",
      "  <meta content=\"telephone=no\" data-rh=\"true\" name=\"format-detection\"/>\n",
      "  <meta content=\"max-image-preview:large\" data-rh=\"true\" name=\"robots\"/>\n",
      "  <link data-rh=\"true\" href=\"https://www.bbc.co.uk/sport/football/premier-league/top-scorers\" rel=\"canonical\"/>\n",
      "  <link data-rh=\"true\" href=\"https://www.bbc.co.uk/sport/football/premier-league/top-scorers\" hreflang=\"en-gb\" rel=\"alternate\"/>\n",
      "  <link data-rh=\"true\" href=\"https://www.bbc.com/sport/football/premier-league/top-scorers\" hreflang=\"en\" rel=\"alternate\"/>\n",
      "  <link data-rh=\"true\" href=\"https://static.files.bbci.co.uk/core/website/assets/static/icons/touch/sport/touch-icon-36.4462ac53e0.png\" rel=\"icon\" sizes=\"36x36\" type=\"image/png\"/>\n",
      "  <link data-rh=\"true\" href=\"https://static.files.bbci.co.uk/core/website/assets/static/icons/touch/sport/touch-icon-48.889764e1f5.png\" rel=\"icon\" sizes=\"48x48\" type=\"image/png\"/>\n",
      "  <link data-rh=\"true\" href=\"https://static.files.bbci.co.uk/core/website/assets/static/icons/touch/sport/touch-icon-57.d66bb4d3af.png\" rel=\"icon\" sizes=\"57x57\" type=\"image/png\"/>\n",
      "  <link data-rh=\"true\" href=\"https://static.files.bbci.co.uk/core/website/assets/static/icons/touch/sport/touch-icon-60.ea49e5ffb8.png\" rel=\"icon\" sizes=\"60x60\" type=\"image/png\"/>\n",
      "  <link data-rh=\"true\" href=\"https://static.files.bbci.co.uk/core/website/assets/static/icons/touch/sport/touch-icon-72.1e5fc819b5.png\" rel=\"icon\" sizes=\"72x72\" type=\"image/png\"/>\n",
      "  <link data-rh=\"true\" href=\"https://static.files.bbci.co.uk/core/website/assets/static/icons/touch/sport/touch-icon-76.34703514a6.png\" rel=\"icon\" sizes=\"76x76\" type=\"image/png\"/>\n",
      "  <link data-rh=\"true\" href=\"https://static.files.bbci.co.uk/core/website/assets/static/icons/touch/sport/touch-icon-96.a040328c4e.png\" rel=\"icon\" sizes=\"96x96\" type=\"image/png\"/>\n",
      "  <link data-rh=\"true\" href=\"https://static.files.bbci.co.uk/core/website/assets/static/icons/touch/sport/touch-icon-114.fe9c3f2019.png\" rel=\"icon\" sizes=\"114x114\" type=\"image/png\"/>\n",
      "  <link data-rh=\"true\" href=\"https://static.files.bbci.co.uk/core/website/assets/static/icons/touch/sport/touch-icon-120.8ed642b324.png\" rel=\"icon\" sizes=\"120x120\" type=\"image/png\"/>\n",
      "  <link data-rh=\"true\" href=\"https://static.files.bbci.co.uk/core/website/assets/static/icons/touch/sport/touch-icon-128.120915c059.png\" rel=\"icon\" sizes=\"128x128\" type=\"image/png\"/>\n",
      "  <link data-rh=\"true\" href=\"https://static.files.bbci.co.uk/core/website/assets/static/icons/touch/sport/touch-icon-144.15dd10e42c.png\" rel=\"icon\" sizes=\"144x144\" type=\"image/png\"/>\n",
      "  <link data-rh=\"true\" href=\"https://static.files.bbci.co.uk/core/website/assets/static/icons/touch/sport/touch-icon-152.fd46d402eb.png\" rel=\"icon\" sizes=\"152x152\" type=\"image/png\"/>\n",
      "  <link data-rh=\"true\" href=\"https://static.files.bbci.co.uk/core/website/assets/static/icons/touch/sport/touch-icon-180.f21cfb03df.png\" rel=\"icon\" sizes=\"180x180\" type=\"image/png\"/>\n",
      "  <link data-rh=\"true\" href=\"https://static.files.bbci.co.uk/core/website/assets/static/icons/touch/sport/touch-icon-192.79e4069625.png\" rel=\"icon\" sizes=\"192x192\" type=\"image/png\"/>\n",
      "  <link data-rh=\"true\" href=\"https://static.files.bbci.co.uk/core/website/assets/static/icons/touch/sport/touch-icon-384.ae211a8aa4.png\" rel=\"icon\" sizes=\"384x384\" type=\"image/png\"/>\n",
      "  <link data-rh=\"true\" href=\"https://static.files.bbci.co.uk/core/website/assets/static/icons/touch/sport/touch-icon-512.239d26b83e.png\" rel=\"icon\" sizes=\"512x512\" type=\"image/png\"/>\n",
      "  <link data-rh=\"true\" href=\"https://static.files.bbci.co.uk/core/website/assets/static/icons/favicon/sport/favicon-16.ffa949edba.png\" rel=\"icon\" sizes=\"16x16\" type=\"image/png\"/>\n",
      "  <link data-rh=\"true\" href=\"https://static.files.bbci.co.uk/core/website/assets/static/icons/favicon/sport/favicon-32.729e81a820.png\" rel=\"icon\" sizes=\"32x32\" type=\"image/png\"/>\n",
      "  <link data-rh=\"true\" href=\"https://static.files.bbci.co.uk/core/manifest.1ccdbcfd4cc3bf889128a50903c2b22c81758637.json\" rel=\"manifest\"/>\n",
      "  <script nonce=\"jnqaEHPArl8n5WE6NzRvA0rCjhgbi0wsgfq82t1QogMUxL8hVT\">\n",
      "   document.querySelector(\"html\").classList.remove(\"no-js\")\n",
      "  </script>\n",
      "  <style data-emotion=\"ssrcss-global zg3a55\">\n",
      "   html,body,div,span,applet,object,iframe,h1,h2,h3,h4,h5,h6,p,blockquote,pre,a,abbr,acronym,address,big,cite,code,del,dfn,em,img,ins,kbd,q,s,samp,small,strike,strong,sub,sup,tt,var,b,u,i,center,dl,dt,dd,ol,ul,li,fieldset,form,label,legend,table,caption,tbody,tfoot,thead,tr,th,td,article,aside,canvas,details,embed,figure,figcaption,footer,header,hgroup,main,menu,nav,output,ruby,section,summary,time,mark,audio,video{margin:0;padding:0;border:0;font-size:100%;font:inherit;vertical-align:baseline;}article,aside,details,figcaption,figure,footer,header,hgroup,main,menu,nav,section{display:block;}:root{interpolate-size:allow-keywords;}body{line-height:1;-webkit-text-size-adjust:none;-moz-text-size-adjust:none;-ms-text-size-adjust:none;text-size-adjust:none;}ol,ul{list-style:none;}blockquote,q{quotes:none;}blockquote::before,blockquote::after,q::before,q::after{content:'';content:none;}table{border-collapse:collapse;border-spacing:0;}button{-webkit-appearance:none;-moz-appearance:none;-ms-appearance:none;appearance:none;margin:0;padding:0;background:none;border-radius:0;border:0;font-family:inherit;color:inherit;}@font-face{font-family:'ReithSans';src:url(https://static.files.bbci.co.uk/fonts/reith/2.512/BBCReithSans_W_Rg.woff2) format('woff2'),url(https://static.files.bbci.co.uk/fonts/reith/2.512/BBCReithSans_W_Rg.woff) format('woff');font-display:swap;}@font-face{font-family:'ReithSans';src:url(https://static.files.bbci.co.uk/fonts/reith/2.512/BBCReithSans_W_It.woff2) format('woff2'),url(https://static.files.bbci.co.uk/fonts/reith/2.512/BBCReithSans_W_It.woff) format('woff');font-display:swap;font-style:italic;}@font-face{font-family:'ReithSans';src:url(https://static.files.bbci.co.uk/fonts/reith/2.512/BBCReithSans_W_Bd.woff2) format('woff2'),url(https://static.files.bbci.co.uk/fonts/reith/2.512/BBCReithSans_W_Bd.woff) format('woff');font-display:swap;font-weight:700;}@font-face{font-family:'ReithSans';src:url(https://static.files.bbci.co.uk/fonts/reith/2.512/BBCReithSans_W_BdIt.woff2) format('woff2'),url(https://static.files.bbci.co.uk/fonts/reith/2.512/BBCReithSans_W_BdIt.woff) format('woff');font-display:swap;font-style:italic;font-weight:700;}@font-face{font-family:'ReithSans';src:url(https://static.files.bbci.co.uk/fonts/reith/2.512/BBCReithSans_W_Lt.woff2) format('woff2'),url(https://static.files.bbci.co.uk/fonts/reith/2.512/BBCReithSans_W_Lt.woff) format('woff');font-display:swap;font-weight:300;}@font-face{font-family:'ReithSans';src:url(https://static.files.bbci.co.uk/fonts/reith/2.512/BBCReithSans_W_LtIt.woff2) format('woff2'),url(https://static.files.bbci.co.uk/fonts/reith/2.512/BBCReithSans_W_LtIt.woff) format('woff');font-display:swap;font-style:italic;font-weight:300;}@font-face{font-family:'ReithSans';src:url(https://static.files.bbci.co.uk/fonts/reith/2.512/BBCReithSans_W_ExBd.woff2) format('woff2'),url(https://static.files.bbci.co.uk/fonts/reith/2.512/BBCReithSans_W_ExBd.woff) format('woff');font-display:swap;font-weight:800;}@font-face{font-family:'ReithSans';src:url(https://static.files.bbci.co.uk/fonts/reith/2.512/BBCReithSans_W_ExBdIt.woff2) format('woff2'),url(https://static.files.bbci.co.uk/fonts/reith/2.512/BBCReithSans_W_ExBdIt.woff) format('woff');font-display:swap;font-style:italic;font-weight:800;}@font-face{font-family:'ReithSans';src:url(https://static.files.bbci.co.uk/fonts/reith/2.512/BBCReithSans_W_Md.woff2) format('woff2'),url(https://static.files.bbci.co.uk/fonts/reith/2.512/BBCReithSans_W_Md.woff) format('woff');font-display:swap;font-weight:500;}@font-face{font-family:'ReithSans';src:url(https://static.files.bbci.co.uk/fonts/reith/2.512/BBCReithSans_W_MdIt.woff2) format('woff2'),url(https://static.files.bbci.co.uk/fonts/reith/2.512/BBCReithSans_W_MdIt.woff) format('woff');font-display:swap;font-style:italic;font-weight:500;}@font-face{font-family:'ReithSerif';src:url(https://static.files.bbci.co.uk/fonts/reith/2.512/BBCReithSerif_W_Rg.woff2) format('woff2'),url(https://static.files.bbci.co.uk/fonts/reith/2.512/BBCReithSerif_W_Rg.woff) format('woff');font-display:swap;}@font-face{font-family:'ReithSerif';src:url(https://static.files.bbci.co.uk/fonts/reith/2.512/BBCReithSerif_W_It.woff2) format('woff2'),url(https://static.files.bbci.co.uk/fonts/reith/2.512/BBCReithSerif_W_It.woff) format('woff');font-display:swap;font-style:italic;}@font-face{font-family:'ReithSerif';src:url(https://static.files.bbci.co.uk/fonts/reith/2.512/BBCReithSerif_W_Bd.woff2) format('woff2'),url(https://static.files.bbci.co.uk/fonts/reith/2.512/BBCReithSerif_W_Bd.woff) format('woff');font-display:swap;font-weight:700;}@font-face{font-family:'ReithSerif';src:url(https://static.files.bbci.co.uk/fonts/reith/2.512/BBCReithSerif_W_BdIt.woff2) format('woff2'),url(https://static.files.bbci.co.uk/fonts/reith/2.512/BBCReithSerif_W_BdIt.woff) format('woff');font-display:swap;font-style:italic;font-weight:700;}@font-face{font-family:'ReithSerif';src:url(https://static.files.bbci.co.uk/fonts/reith/2.512/BBCReithSerif_W_Lt.woff2) format('woff2'),url(https://static.files.bbci.co.uk/fonts/reith/2.512/BBCReithSerif_W_Lt.woff) format('woff');font-display:swap;font-weight:300;}@font-face{font-family:'ReithSerif';src:url(https://static.files.bbci.co.uk/fonts/reith/2.512/BBCReithSerif_W_LtIt.woff2) format('woff2'),url(https://static.files.bbci.co.uk/fonts/reith/2.512/BBCReithSerif_W_LtIt.woff) format('woff');font-display:swap;font-style:italic;font-weight:300;}@font-face{font-family:'ReithSerif';src:url(https://static.files.bbci.co.uk/fonts/reith/2.512/BBCReithSerif_W_ExBd.woff2) format('woff2'),url(https://static.files.bbci.co.uk/fonts/reith/2.512/BBCReithSerif_W_ExBd.woff) format('woff');font-display:swap;font-weight:800;}@font-face{font-family:'ReithSerif';src:url(https://static.files.bbci.co.uk/fonts/reith/2.512/BBCReithSerif_W_ExBdIt.woff2) format('woff2'),url(https://static.files.bbci.co.uk/fonts/reith/2.512/BBCReithSerif_W_ExBdIt.woff) format('woff');font-display:swap;font-style:italic;font-weight:800;}@font-face{font-family:'ReithSerif';src:url(https://static.files.bbci.co.uk/fonts/reith/2.512/BBCReithSerif_W_Md.woff2) format('woff2'),url(https://static.files.bbci.co.uk/fonts/reith/2.512/BBCReithSerif_W_Md.woff) format('woff');font-display:swap;font-weight:500;}@font-face{font-family:'ReithSerif';src:url(https://static.files.bbci.co.uk/fonts/reith/2.512/BBCReithSerif_W_MdIt.woff2) format('woff2'),url(https://static.files.bbci.co.uk/fonts/reith/2.512/BBCReithSerif_W_MdIt.woff) format('woff');font-display:swap;font-style:italic;font-weight:500;}@font-face{font-family:'ReithRounded';src:url(https://static.files.bbci.co.uk/fonts/reith-rounded/2.000/BBCReithRd_W_Bd.woff2) format('woff2'),url(https://static.files.bbci.co.uk/fonts/reith-rounded/2.000/BBCReithRd_W_Bd.woff) format('woff');font-display:swap;font-weight:700;}@font-face{font-family:'ReithRounded';src:url(https://static.files.bbci.co.uk/fonts/reith-rounded/2.000/BBCReithRd_W_ExBd.woff2) format('woff2'),url(https://static.files.bbci.co.uk/fonts/reith-rounded/2.000/BBCReithRd_W_ExBd.woff) format('woff');font-display:swap;font-weight:800;}@font-face{font-family:'ReithSemiRounded';src:url(https://static.files.bbci.co.uk/fonts/reith-rounded/2.000/BBCReithSmRd_W_Bd.woff2) format('woff2'),url(https://static.files.bbci.co.uk/fonts/reith-rounded/2.000/BBCReithSmRd_W_Bd.woff) format('woff');font-display:swap;font-weight:700;}@font-face{font-family:'ReithSemiRounded';src:url(https://static.files.bbci.co.uk/fonts/reith-rounded/2.000/BBCReithSmRd_W_ExBd.woff2) format('woff2'),url(https://static.files.bbci.co.uk/fonts/reith-rounded/2.000/BBCReithSmRd_W_ExBd.woff) format('woff');font-display:swap;font-weight:800;}body{background-color:#FFFFFF;}:focus-visible{box-shadow:0 0 0 0.125rem #FFFFFF;outline:0.125rem solid #000000;outline-offset:0.125rem;}\n",
      "  </style>\n",
      "  <style data-emotion=\"ssrcss 181c4hk-SectionWrapper 1imfos9-PageStack z8pk48-GlobalNavigation 4y0s1t-Wrap 1bvvlvf-GlobalNavigationContent 1c5rwo1-GlobalNavigationItem col7sy-NavigationLink-LogoLink 13kjque-LogoIconWrapper 1f39n02-VisuallyHidden 1hjcemq-AccessibilityLinkList 1ubr254-AccessibilityLink bje5xb-GlobalNavigationItem 1o1nzph-AccountOptionsList 1t7ltsf-GlobalNavigationProduct-GlobalNavigationAccount 5fw2ee-AccountComponentWrapper uwr32o-StyledAccountPlaceholderComponent n7m3zs-StyledLoadingPlaceholderWrapper h8wpjv-StyledAccountPlaceholderIconWrapper 1ce2si-Skeleton-StyledAccountPlaceholderIcon h42kmd-StyledLoadingPlaceHolderTextWrapper 11sxr8p-Skeleton-StyledLoadingPlaceHolderText 11dv7o-NavigationLink-AccountLink 1oeiyy4-ForYouIconWrapper xi5oyi-StyledIcon bvzllz-AccountText 12xrmhv-VerticalSeparator d2bys-GlobalNavigationBarLinkList 1bwqj1o-GlobalNavigationProduct 15owa93-NavigationLink 132qwvs-NavItemHoverState 1oqvpc8-NavigationLink-MenuToggleControlLink 14kc44w-NavItemHoverState 13dpa8i-DotsMenuIconWrapper 1naw1ix-LastGlobalNavigationItem 1sakhrp-GlobalNavigationItem-GlobalNavigationBurger 1myt22i-BurgerMenuIconWrapper cl7jld-GlobalNavigationItem rrztoo-NavigationLink-SearchLink 1lc3dkf-IconWrapper-SearchIconWrapper 1rstd29-SearchText 91jqb8-GlobalNavigationDrawer yhcsrq-GlobalNavigationMoreMenu 1obp207-MenuWrapper a9g9c0-MenuLinkList 1cnl2eg-MenuLinkListItem kffy1u-MenuLink h8eoet-CloseButtonWrapper 1maygca-CallToActionLink 1hfawy1-IconWrapper 11h1iqi-ProductNavigationContainer icu1rp-Masthead 12x0ma7-ContentWrapper 1nqrevo-LogoWrapper 1vyfvn-LogoLink 18958r2-LogoIcon gmdx8l-Navigation ehbb92-MainNavBarContainer 40dop0-MenuContainer-PrimaryNavBarContainer 15o6r8s-PrimaryListContainer 1xa2nq9-ToggleContainer ckisij-StyledToggle uq8y1d-IconWrapper 1or42oc-MenuListContainer 1vxmun4-StyledMenuList or45ca-StyledMenuItem 162z3cq-StyledLink 1u47p8g-LinkTextContainer t8swvy-StyledLink zfkh5e-ToggleContainer 36jm8h-MenuContainer-MoreMenuWrapper wdgq9j-MoreMenuListContainer j6f6xh-MenuListContainer 1mlqmic-ListTitle 1mt0jbo-StyledMenuList g1n074-StyledMenuItem 1bzy3wo-StyledLink i9csl0-LinkTextContainer 19dj471-MenuContainer-SecondaryNavBarContainer 1toi6ts-MenuListContainer 18a3ezq-StyledMenuList 1y9ep4i-StyledMenuItem 13wbrke-StyledLink 1mstwv3-LinkTextContainer p4fm83-IconContainer 1ncu3vb-StyledLink t9s73x-StandardZone gqrsw0-Wrapper 1qdh4qq-HeadingWrapper pbttu9-Heading 59a716-SearchWrapper 1hy9pi-StyledComboboxWrapper xifuke-StyledWrapper 2j3s5k-SearchBarWrapper 1gbn3xw-StyledDiv kxppca-FocusDiv zbw5ic-IconWrapper 9pm56o-StyledInput 1ps7ft7-StyledFormWrapper 1y4i773-Button 1ujodfj-FallbackMessage 1cifq5e-GlobalFooterStyling 2vow6d-Stack rkzzm9-Columns 29l7i3-Link-NavigationLink 1ml6m0y-Stack 17ehax8-Cluster 17o89of-ClusterItems 1d9p81h-Link-LegalLink 1q0x1qg-Paragraph bosb8n-Link\">\n",
      "   .ssrcss-181c4hk-SectionWrapper{display:-webkit-box;display:-webkit-flex;display:-ms-flexbox;display:flex;height:100vh;-webkit-flex-direction:column;-ms-flex-direction:column;flex-direction:column;}.ssrcss-1imfos9-PageStack{width:100%;height:100vh;display:grid;grid-template-rows:max-content auto max-content;grid-template-columns:100%;}.ssrcss-z8pk48-GlobalNavigation{font-family:ReithSans,Helvetica,Arial,freesans,sans-serif;font-weight:700;font-feature-settings:'ss01' off;font-size:0.8125rem;line-height:1.2307692307692308;background:#FFFFFF;color:#000000;box-shadow:0 0.0625rem 0 rgba(0,0,0,0.15);position:relative;z-index:1;padding-top:8px;}.ssrcss-4y0s1t-Wrap{box-sizing:border-box;margin:0 auto;max-width:63rem;padding:0 8px;}@media (min-width: 25rem){.ssrcss-4y0s1t-Wrap{padding:0 16px;}}@media (min-width: 80rem){.ssrcss-4y0s1t-Wrap{max-width:80rem;}}.ssrcss-1bvvlvf-GlobalNavigationContent{display:-webkit-box;display:-webkit-flex;display:-ms-flexbox;display:flex;-webkit-box-pack:space-evenly;-ms-flex-pack:space-evenly;-webkit-justify-content:space-evenly;justify-content:space-evenly;-webkit-box-flex-wrap:wrap;-webkit-flex-wrap:wrap;-ms-flex-wrap:wrap;flex-wrap:wrap;position:relative;}@media (max-width: 18.74875rem){.ssrcss-1bvvlvf-GlobalNavigationContent{width:100%;box-sizing:border-box;}.ssrcss-1bvvlvf-GlobalNavigationContent >div:first-of-type{width:100%;}}@media (min-width: 18.75rem){.ssrcss-1bvvlvf-GlobalNavigationContent{-webkit-box-flex-wrap:nowrap;-webkit-flex-wrap:nowrap;-ms-flex-wrap:nowrap;flex-wrap:nowrap;-webkit-box-pack:justify;-webkit-justify-content:space-between;justify-content:space-between;}}@media (min-width: 22.5rem){.ssrcss-1bvvlvf-GlobalNavigationContent{margin:0 -0.125rem;}}@media (min-width: 25.625rem){.ssrcss-1bvvlvf-GlobalNavigationContent{margin:0;}}@media (max-width: 37.5rem){.ssrcss-1bvvlvf-GlobalNavigationContent{padding:0 4px;}}.ssrcss-1c5rwo1-GlobalNavigationItem{display:-webkit-box;display:-webkit-flex;display:-ms-flexbox;display:flex;margin-top:-4px;-webkit-align-self:center;-ms-flex-item-align:center;align-self:center;}@media (min-width: 18.75rem){.ssrcss-1c5rwo1-GlobalNavigationItem{-webkit-order:1;-ms-flex-order:1;order:1;width:auto;}}@media (min-width: 37.5rem){.ssrcss-1c5rwo1-GlobalNavigationItem{-webkit-order:0;-ms-flex-order:0;order:0;}}.ssrcss-1c5rwo1-GlobalNavigationItem:hover>*>*::after,.ssrcss-1c5rwo1-GlobalNavigationItem:focus>*>*::after,.ssrcss-1c5rwo1-GlobalNavigationItem[data-open='true']{width:100%;opacity:100%;}.ssrcss-col7sy-NavigationLink-LogoLink{display:block;height:100%;line-height:calc(4rem - 8px);-webkit-text-decoration:inherit;text-decoration:inherit;color:inherit;white-space:nowrap;text-align:center;padding:0;margin-top:-4px;width:100%;}.ssrcss-col7sy-NavigationLink-LogoLink:hover .eki2hvo15::after,.ssrcss-col7sy-NavigationLink-LogoLink:focus .eki2hvo15::after,.ssrcss-col7sy-NavigationLink-LogoLink[data-open='true'] .eki2hvo15::after{width:100%;opacity:1;}@media (min-width: 23.4375rem){.ssrcss-col7sy-NavigationLink-LogoLink{text-align:center;min-width:1.5rem;}}@media (min-width: 18.75rem){.ssrcss-col7sy-NavigationLink-LogoLink{width:auto;}}@media (min-width: 37.5rem){.ssrcss-col7sy-NavigationLink-LogoLink{padding-right:8px;margin-right:4px;}}@media (min-width: 63rem){.ssrcss-col7sy-NavigationLink-LogoLink{padding-right:16px;}}.ssrcss-13kjque-LogoIconWrapper{display:-webkit-inline-box;display:-webkit-inline-flex;display:-ms-inline-flexbox;display:inline-flex;height:2.0625rem;vertical-align:middle;}@media (max-width: 25rem){.ssrcss-13kjque-LogoIconWrapper{padding:0 4px;}}.ssrcss-1f39n02-VisuallyHidden{position:absolute;overflow:hidden;margin:0;width:1px;height:1px;-webkit-clip-path:inset(100%);clip-path:inset(100%);clip:rect(1px, 1px, 1px, 1px);white-space:nowrap;}.ssrcss-1hjcemq-AccessibilityLinkList{position:absolute;left:0;right:0;top:3.875rem;}.ssrcss-1ubr254-AccessibilityLink{position:absolute;overflow:hidden;margin:0;width:1px;height:1px;-webkit-clip-path:inset(100%);clip-path:inset(100%);clip:rect(1px, 1px, 1px, 1px);white-space:nowrap;}.ssrcss-1ubr254-AccessibilityLink:focus{position:static;overflow:visible;width:auto;height:auto;-webkit-clip-path:none;clip-path:none;clip:auto;white-space:inherit;font-family:ReithSans,Helvetica,Arial,freesans,sans-serif;font-weight:700;font-feature-settings:'ss01' off;font-size:0.8125rem;line-height:1.2307692307692308;position:relative;display:block;top:0;left:0;z-index:1;padding:16px;background:#FFFFFF;border:1px solid #8A8C8E;-webkit-text-decoration:none;text-decoration:none;color:inherit;margin:auto;width:-webkit-max-content;width:-moz-max-content;width:max-content;}@media (min-width: 37.5rem){.ssrcss-1ubr254-AccessibilityLink:focus{position:absolute;}}.ssrcss-bje5xb-GlobalNavigationItem{display:-webkit-box;display:-webkit-flex;display:-ms-flexbox;display:flex;margin-top:-4px;-webkit-align-self:center;-ms-flex-item-align:center;align-self:center;}@media (min-width: 18.75rem){.ssrcss-bje5xb-GlobalNavigationItem{-webkit-order:0;-ms-flex-order:0;order:0;width:auto;}}@media (min-width: 37.5rem){.ssrcss-bje5xb-GlobalNavigationItem{-webkit-order:0;-ms-flex-order:0;order:0;width:100%;}}.ssrcss-bje5xb-GlobalNavigationItem:hover>*>*::after,.ssrcss-bje5xb-GlobalNavigationItem:focus>*>*::after,.ssrcss-bje5xb-GlobalNavigationItem[data-open='true']{width:100%;opacity:100%;}.ssrcss-1o1nzph-AccountOptionsList{display:-webkit-box;display:-webkit-flex;display:-ms-flexbox;display:flex;padding-right:48px;}@media (min-width: 37.5rem){.ssrcss-1o1nzph-AccountOptionsList{padding-right:0;}}.ssrcss-1o1nzph-AccountOptionsList >li{display:-webkit-box;display:-webkit-flex;display:-ms-flexbox;display:flex;}.ssrcss-1t7ltsf-GlobalNavigationProduct-GlobalNavigationAccount{color:#000000;text-align:center;height:3.75rem;min-width:2.75rem;display:-webkit-box;display:-webkit-flex;display:-ms-flexbox;display:flex;text-align:left;}.ssrcss-1t7ltsf-GlobalNavigationProduct-GlobalNavigationAccount:focus>*>*::after,.ssrcss-1t7ltsf-GlobalNavigationProduct-GlobalNavigationAccount[data-open='true']{width:100%;opacity:100%;}@media (min-width: 80rem){.ssrcss-1t7ltsf-GlobalNavigationProduct-GlobalNavigationAccount{width:11rem;}}.ssrcss-5fw2ee-AccountComponentWrapper{display:-webkit-box;display:-webkit-flex;display:-ms-flexbox;display:flex;-webkit-box-pack:center;-ms-flex-pack:center;-webkit-justify-content:center;justify-content:center;position:relative;min-width:inherit;width:inherit;}.ssrcss-uwr32o-StyledAccountPlaceholderComponent{height:100%;width:100%;-webkit-align-items:center;-webkit-box-align:center;-ms-flex-align:center;align-items:center;text-align:left;display:inline-block;position:absolute;}html.no-js .ssrcss-uwr32o-StyledAccountPlaceholderComponent{display:none;}.ssrcss-n7m3zs-StyledLoadingPlaceholderWrapper{min-width:inherit;display:-webkit-box;display:-webkit-flex;display:-ms-flexbox;display:flex;-webkit-box-pack:center;-ms-flex-pack:center;-webkit-justify-content:center;justify-content:center;-webkit-align-items:center;-webkit-box-align:center;-ms-flex-align:center;align-items:center;height:100%;}.ssrcss-h8wpjv-StyledAccountPlaceholderIconWrapper{display:inline-block;-webkit-align-self:center;-ms-flex-item-align:center;align-self:center;width:2rem;height:2rem;}@media (min-width: 63rem){.ssrcss-h8wpjv-StyledAccountPlaceholderIconWrapper{width:1.75rem;height:1.75rem;}}.ssrcss-1ce2si-Skeleton-StyledAccountPlaceholderIcon{background-color:#E6E8EA;overflow:hidden;border-radius:50%;display:-webkit-box;display:-webkit-flex;display:-ms-flexbox;display:flex;-webkit-align-items:center;-webkit-box-align:center;-ms-flex-align:center;align-items:center;width:2rem;height:2rem;}@media (min-width: 63rem){.ssrcss-1ce2si-Skeleton-StyledAccountPlaceholderIcon{width:1.75rem;height:1.75rem;}}.ssrcss-h42kmd-StyledLoadingPlaceHolderTextWrapper{display:none;}@media (min-width: 63rem){.ssrcss-h42kmd-StyledLoadingPlaceHolderTextWrapper{display:-webkit-inline-box;display:-webkit-inline-flex;display:-ms-inline-flexbox;display:inline-flex;height:100%;width:100%;-webkit-align-items:center;-webkit-box-align:center;-ms-flex-align:center;align-items:center;margin-left:8px;}}.ssrcss-11sxr8p-Skeleton-StyledLoadingPlaceHolderText{background-color:#E6E8EA;overflow:hidden;width:100%;border-radius:5%;height:0.875rem;}.ssrcss-11dv7o-NavigationLink-AccountLink{display:block;height:100%;line-height:calc(4rem - 8px);-webkit-text-decoration:inherit;text-decoration:inherit;color:inherit;white-space:nowrap;text-align:center;pointer-events:none;opacity:0;box-sizing:border-box;white-space:nowrap;overflow:hidden;text-overflow:ellipsis;min-width:1.25rem;position:relative;-webkit-text-decoration:none;text-decoration:none;display:inline-block;text-align:center;margin-right:0.3125rem;}.ssrcss-11dv7o-NavigationLink-AccountLink:hover .eki2hvo15::after,.ssrcss-11dv7o-NavigationLink-AccountLink:focus .eki2hvo15::after,.ssrcss-11dv7o-NavigationLink-AccountLink[data-open='true'] .eki2hvo15::after{width:100%;opacity:1;}@media (min-width: 23.4375rem){.ssrcss-11dv7o-NavigationLink-AccountLink{text-align:center;min-width:1.5rem;}}.ssrcss-11dv7o-NavigationLink-AccountLink::after{content:'';display:block;background-color:#0071F1;position:absolute;right:0;left:0;bottom:0.625rem;height:0.125rem;width:66%;opacity:0;}@media (forced-colors: active){.ssrcss-11dv7o-NavigationLink-AccountLink:hover,.ssrcss-11dv7o-NavigationLink-AccountLink:focus,.ssrcss-11dv7o-NavigationLink-AccountLink[data-open='true']{margin-bottom:-1px;border-bottom:1px solid currentcolor!important;}}.ssrcss-11dv7o-NavigationLink-AccountLink:hover::after,.ssrcss-11dv7o-NavigationLink-AccountLink:focus::after,.ssrcss-11dv7o-NavigationLink-AccountLink[data-open='true']::after{width:100%;opacity:1;}@media (prefers-reduced-motion: no-preference){.ssrcss-11dv7o-NavigationLink-AccountLink::after{-webkit-transition:width 0.2s,opacity 0.2s;transition:width 0.2s,opacity 0.2s;transition-timing-function:cubic-bezier(0.75, 0, 0.15, 1);}}html.no-js .ssrcss-11dv7o-NavigationLink-AccountLink{opacity:1;pointer-events:all;}@media (min-width: 18.75rem){.ssrcss-11dv7o-NavigationLink-AccountLink{min-width:2.75rem;margin-right:0;}}@media (min-width: 23.4375rem){.ssrcss-11dv7o-NavigationLink-AccountLink{min-width:3rem;}}@media (min-width: 63rem){.ssrcss-11dv7o-NavigationLink-AccountLink{width:8.5rem;text-align:left;}}@media (min-width: 80rem){.ssrcss-11dv7o-NavigationLink-AccountLink{width:11rem;}}.ssrcss-1oeiyy4-ForYouIconWrapper{color:#0071F1;display:inline-block;width:2rem;height:2rem;vertical-align:-0.6875rem;}@media (min-width: 63rem){.ssrcss-1oeiyy4-ForYouIconWrapper{width:1.75rem;height:1.75rem;vertical-align:-0.5625rem;}}.ssrcss-xi5oyi-StyledIcon{display:block;height:100%;width:100%;fill:currentcolor;}.ssrcss-bvzllz-AccountText{position:absolute;overflow:hidden;margin:0;width:1px;height:1px;-webkit-clip-path:inset(100%);clip-path:inset(100%);clip:rect(1px, 1px, 1px, 1px);white-space:nowrap;}@media (min-width: 63rem){.ssrcss-bvzllz-AccountText{position:static;overflow:visible;width:auto;height:auto;-webkit-clip-path:none;clip-path:none;clip:auto;white-space:inherit;margin-left:8px;}}.ssrcss-12xrmhv-VerticalSeparator{display:none;}@media (min-width: 37.5rem){.ssrcss-12xrmhv-VerticalSeparator{display:block;border-left:0.0625rem solid #E6E8EA;height:1.5rem;margin-top:16px;margin-left:8px;}}.ssrcss-d2bys-GlobalNavigationBarLinkList{-webkit-flex:auto;-ms-flex:auto;flex:auto;display:-webkit-box;display:-webkit-flex;display:-ms-flexbox;display:flex;gap:0.375rem;-webkit-box-pack:justify;-webkit-justify-content:space-between;justify-content:space-between;}.ssrcss-d2bys-GlobalNavigationBarLinkList >*{display:none;}@media (min-width: 37.5rem){.ssrcss-d2bys-GlobalNavigationBarLinkList{padding-left:12px;}.ssrcss-d2bys-GlobalNavigationBarLinkList >:last-child{display:block;}}@media (min-width: 37.5rem){.ssrcss-d2bys-GlobalNavigationBarLinkList >:nth-child(1){display:block;}}@media (min-width: 37.5rem){.ssrcss-d2bys-GlobalNavigationBarLinkList >:nth-child(2){display:block;}}@media (min-width: 37.5rem){.ssrcss-d2bys-GlobalNavigationBarLinkList >:nth-child(3){display:block;}}@media (min-width: 37.5rem){.ssrcss-d2bys-GlobalNavigationBarLinkList >:nth-child(4){display:block;}}@media (min-width: 37.546875rem){.ssrcss-d2bys-GlobalNavigationBarLinkList >:nth-child(5){display:block;}}@media (min-width: 41.53125rem){.ssrcss-d2bys-GlobalNavigationBarLinkList >:nth-child(6){display:block;}}@media (min-width: 45rem){.ssrcss-d2bys-GlobalNavigationBarLinkList >:nth-child(7){display:block;}}.ssrcss-1bwqj1o-GlobalNavigationProduct{color:#000000;text-align:center;height:3.75rem;}.ssrcss-1bwqj1o-GlobalNavigationProduct:focus>*>*::after,.ssrcss-1bwqj1o-GlobalNavigationProduct[data-open='true']{width:100%;opacity:100%;}.ssrcss-15owa93-NavigationLink{display:block;height:100%;line-height:calc(4rem - 8px);-webkit-text-decoration:inherit;text-decoration:inherit;color:inherit;white-space:nowrap;text-align:center;}.ssrcss-15owa93-NavigationLink:hover .eki2hvo15::after,.ssrcss-15owa93-NavigationLink:focus .eki2hvo15::after,.ssrcss-15owa93-NavigationLink[data-open='true'] .eki2hvo15::after{width:100%;opacity:1;}@media (min-width: 23.4375rem){.ssrcss-15owa93-NavigationLink{text-align:center;min-width:1.5rem;}}.ssrcss-132qwvs-NavItemHoverState{position:relative;-webkit-text-decoration:none;text-decoration:none;display:inline-block;}.ssrcss-132qwvs-NavItemHoverState::after{content:'';display:block;background-color:currentcolor;position:absolute;right:0;left:0;bottom:0.375rem;height:0.125rem;width:66%;opacity:0;}@media (forced-colors: active){.ssrcss-132qwvs-NavItemHoverState:hover,.ssrcss-132qwvs-NavItemHoverState:focus,.ssrcss-132qwvs-NavItemHoverState[data-open='true']{margin-bottom:-1px;border-bottom:1px solid currentcolor!important;}}.ssrcss-132qwvs-NavItemHoverState:hover::after,.ssrcss-132qwvs-NavItemHoverState:focus::after,.ssrcss-132qwvs-NavItemHoverState[data-open='true']::after{width:100%;opacity:1;}@media (prefers-reduced-motion: no-preference){.ssrcss-132qwvs-NavItemHoverState::after{-webkit-transition:width 0.2s,opacity 0.2s;transition:width 0.2s,opacity 0.2s;transition-timing-function:cubic-bezier(0.75, 0, 0.15, 1);}}.ssrcss-1oqvpc8-NavigationLink-MenuToggleControlLink{display:block;height:100%;line-height:calc(4rem - 8px);-webkit-text-decoration:inherit;text-decoration:inherit;color:inherit;white-space:nowrap;text-align:center;min-width:1.25rem;margin-top:-4px;}.ssrcss-1oqvpc8-NavigationLink-MenuToggleControlLink:hover .eki2hvo15::after,.ssrcss-1oqvpc8-NavigationLink-MenuToggleControlLink:focus .eki2hvo15::after,.ssrcss-1oqvpc8-NavigationLink-MenuToggleControlLink[data-open='true'] .eki2hvo15::after{width:100%;opacity:1;}@media (min-width: 23.4375rem){.ssrcss-1oqvpc8-NavigationLink-MenuToggleControlLink{text-align:center;min-width:1.5rem;}}@media (min-width: 18.75rem){.ssrcss-1oqvpc8-NavigationLink-MenuToggleControlLink{min-width:2.75rem;}}@media (min-width: 23.4375rem){.ssrcss-1oqvpc8-NavigationLink-MenuToggleControlLink{min-width:3rem;}}@media (min-width: 37.5rem){.ssrcss-1oqvpc8-NavigationLink-MenuToggleControlLink{margin-top:0;}}.ssrcss-14kc44w-NavItemHoverState{position:relative;-webkit-text-decoration:none;text-decoration:none;display:inline-block;}.ssrcss-14kc44w-NavItemHoverState::after{content:'';display:block;background-color:currentcolor;position:absolute;right:0;left:0;bottom:0.375rem;height:0.125rem;width:66%;opacity:0;}@media (forced-colors: active){.ssrcss-14kc44w-NavItemHoverState:hover,.ssrcss-14kc44w-NavItemHoverState:focus,.ssrcss-14kc44w-NavItemHoverState[data-open='true']{margin-bottom:-1px;border-bottom:1px solid currentcolor!important;}}.ssrcss-14kc44w-NavItemHoverState:hover::after,.ssrcss-14kc44w-NavItemHoverState:focus::after,.ssrcss-14kc44w-NavItemHoverState[data-open='true']::after{width:100%;opacity:1;}@media (prefers-reduced-motion: no-preference){.ssrcss-14kc44w-NavItemHoverState::after{-webkit-transition:width 0.2s,opacity 0.2s;transition:width 0.2s,opacity 0.2s;transition-timing-function:cubic-bezier(0.75, 0, 0.15, 1);}}@media (min-width: 37.5rem){.ssrcss-14kc44w-NavItemHoverState{width:2rem;}}.ssrcss-13dpa8i-DotsMenuIconWrapper{display:none;}@media (min-width: 37.5rem){.ssrcss-13dpa8i-DotsMenuIconWrapper{display:inline-block;width:1.25rem;height:0.25rem;}.ssrcss-13dpa8i-DotsMenuIconWrapper>svg{vertical-align:0.1875rem;}}.ssrcss-1naw1ix-LastGlobalNavigationItem{display:-webkit-box;display:-webkit-flex;display:-ms-flexbox;display:flex;-webkit-order:2;-ms-flex-order:2;order:2;-webkit-align-self:center;-ms-flex-item-align:center;align-self:center;padding-left:0;}@media (min-width: 37.5rem){.ssrcss-1naw1ix-LastGlobalNavigationItem{-webkit-order:0;-ms-flex-order:0;order:0;}}.ssrcss-1sakhrp-GlobalNavigationItem-GlobalNavigationBurger{display:-webkit-box;display:-webkit-flex;display:-ms-flexbox;display:flex;margin-top:-4px;-webkit-align-self:center;-ms-flex-item-align:center;align-self:center;width:2rem;}@media (min-width: 18.75rem){.ssrcss-1sakhrp-GlobalNavigationItem-GlobalNavigationBurger{width:auto;}}@media (min-width: 37.5rem){.ssrcss-1sakhrp-GlobalNavigationItem-GlobalNavigationBurger{-webkit-order:0;-ms-flex-order:0;order:0;}}.ssrcss-1sakhrp-GlobalNavigationItem-GlobalNavigationBurger:hover>*>*::after,.ssrcss-1sakhrp-GlobalNavigationItem-GlobalNavigationBurger:focus>*>*::after,.ssrcss-1sakhrp-GlobalNavigationItem-GlobalNavigationBurger[data-open='true']{width:100%;opacity:100%;}@media (min-width: 18.75rem){.ssrcss-1sakhrp-GlobalNavigationItem-GlobalNavigationBurger{width:2.5rem;}}@media (min-width: 23.4375rem){.ssrcss-1sakhrp-GlobalNavigationItem-GlobalNavigationBurger{width:3rem;}}@media (min-width: 37.5rem){.ssrcss-1sakhrp-GlobalNavigationItem-GlobalNavigationBurger{display:none;}}.ssrcss-1myt22i-BurgerMenuIconWrapper{display:-webkit-inline-box;display:-webkit-inline-flex;display:-ms-inline-flexbox;display:inline-flex;width:1.5rem;height:1.375rem;vertical-align:-0.5em;-webkit-box-pack:space-evenly;-ms-flex-pack:space-evenly;-webkit-justify-content:space-evenly;justify-content:space-evenly;}@media (min-width: 37.5rem){.ssrcss-1myt22i-BurgerMenuIconWrapper{display:none;}}.ssrcss-cl7jld-GlobalNavigationItem{display:-webkit-box;display:-webkit-flex;display:-ms-flexbox;display:flex;margin-top:-4px;-webkit-align-self:center;-ms-flex-item-align:center;align-self:center;}@media (min-width: 18.75rem){.ssrcss-cl7jld-GlobalNavigationItem{width:auto;}}@media (min-width: 37.5rem){.ssrcss-cl7jld-GlobalNavigationItem{-webkit-order:0;-ms-flex-order:0;order:0;}}.ssrcss-cl7jld-GlobalNavigationItem:hover>*>*::after,.ssrcss-cl7jld-GlobalNavigationItem:focus>*>*::after,.ssrcss-cl7jld-GlobalNavigationItem[data-open='true']{width:100%;opacity:100%;}.ssrcss-rrztoo-NavigationLink-SearchLink{display:block;height:100%;line-height:calc(4rem - 8px);-webkit-text-decoration:inherit;text-decoration:inherit;color:inherit;white-space:nowrap;text-align:center;background:none;min-width:1.25rem;text-align:center;margin-top:-4px;position:relative;-webkit-text-decoration:none;text-decoration:none;display:inline-block;}.ssrcss-rrztoo-NavigationLink-SearchLink:hover .eki2hvo15::after,.ssrcss-rrztoo-NavigationLink-SearchLink:focus .eki2hvo15::after,.ssrcss-rrztoo-NavigationLink-SearchLink[data-open='true'] .eki2hvo15::after{width:100%;opacity:1;}@media (min-width: 23.4375rem){.ssrcss-rrztoo-NavigationLink-SearchLink{text-align:center;min-width:1.5rem;}}.ssrcss-rrztoo-NavigationLink-SearchLink::after{content:'';display:block;background-color:currentcolor;position:absolute;right:0;left:0;bottom:0.375rem;height:0.125rem;width:66%;opacity:0;}@media (forced-colors: active){.ssrcss-rrztoo-NavigationLink-SearchLink:hover,.ssrcss-rrztoo-NavigationLink-SearchLink:focus,.ssrcss-rrztoo-NavigationLink-SearchLink[data-open='true']{margin-bottom:-1px;border-bottom:1px solid currentcolor!important;}}.ssrcss-rrztoo-NavigationLink-SearchLink:hover::after,.ssrcss-rrztoo-NavigationLink-SearchLink:focus::after,.ssrcss-rrztoo-NavigationLink-SearchLink[data-open='true']::after{width:100%;opacity:1;}@media (prefers-reduced-motion: no-preference){.ssrcss-rrztoo-NavigationLink-SearchLink::after{-webkit-transition:width 0.2s,opacity 0.2s;transition:width 0.2s,opacity 0.2s;transition-timing-function:cubic-bezier(0.75, 0, 0.15, 1);}}@media (min-width: 18.75rem){.ssrcss-rrztoo-NavigationLink-SearchLink{min-width:2.75rem;}}@media (min-width: 23.4375rem){.ssrcss-rrztoo-NavigationLink-SearchLink{min-width:3rem;width:3rem;text-align:center;}}@media (min-width: 80rem){.ssrcss-rrztoo-NavigationLink-SearchLink{background:#F6F6F6;display:-webkit-box;display:-webkit-flex;display:-ms-flexbox;display:flex;-webkit-align-items:center;-webkit-box-align:center;-ms-flex-align:center;align-items:center;height:1rem;padding:12px 0.625rem;margin-left:8px;min-width:11.25rem;outline:0.0625rem solid transparent;}.ssrcss-rrztoo-NavigationLink-SearchLink::after{display:none;}.ssrcss-rrztoo-NavigationLink-SearchLink:hover,.ssrcss-rrztoo-NavigationLink-SearchLink:active,.ssrcss-rrztoo-NavigationLink-SearchLink:focus{background:#E6E8EA;color:#000000;}}.ssrcss-1lc3dkf-IconWrapper-SearchIconWrapper{display:inline-block;width:1.625rem;height:1.625rem;vertical-align:middle;width:1.75rem;height:1.8125rem;}@media (min-width: 80rem){.ssrcss-1lc3dkf-IconWrapper-SearchIconWrapper{width:1.375rem;height:1.375rem;}}@media (min-width: 80rem){.ssrcss-1lc3dkf-IconWrapper-SearchIconWrapper{width:1rem;height:1rem;vertical-align:-0.25rem;}}.ssrcss-1rstd29-SearchText{padding-left:8px;position:absolute;overflow:hidden;margin:0;width:1px;height:1px;-webkit-clip-path:inset(100%);clip-path:inset(100%);clip:rect(1px, 1px, 1px, 1px);white-space:nowrap;}@media (min-width: 80rem){.ssrcss-1rstd29-SearchText{position:static;overflow:visible;width:auto;height:auto;-webkit-clip-path:none;clip-path:none;clip:auto;white-space:inherit;}}.ssrcss-91jqb8-GlobalNavigationDrawer{overflow:hidden;visibility:hidden;}@media (prefers-reduced-motion: no-preference){.ssrcss-91jqb8-GlobalNavigationDrawer>*{transition-property:max-height,height;transition-timing-function:cubic-bezier(0.75, 0, 0.15, 1);transition-delay:0s,0s,0.4s;transition-duration:0.4s,0.4s,0s;transition-property:max-height,height,display;}@media (min-width: 37.5rem){.ssrcss-91jqb8-GlobalNavigationDrawer>*{transition-duration:0.2s,0.2s,0s;}}}.ssrcss-91jqb8-GlobalNavigationDrawer:focus{outline:5px auto -webkit-focus-ring-color;}.ssrcss-yhcsrq-GlobalNavigationMoreMenu{height:0;}.ssrcss-yhcsrq-GlobalNavigationMoreMenu:target{visibility:visible;display:block;height:auto;}@supports not (interpolate-size: allow-keywords){@media (min-width: 18.75rem){.ssrcss-yhcsrq-GlobalNavigationMoreMenu:target{height:24rem;}}@media (min-width: 37.5rem){.ssrcss-yhcsrq-GlobalNavigationMoreMenu:target{height:4.0625rem;}}}.ssrcss-1obp207-MenuWrapper{display:-webkit-box;display:-webkit-flex;display:-ms-flexbox;display:flex;-webkit-box-pack:justify;-webkit-justify-content:space-between;justify-content:space-between;}.ssrcss-a9g9c0-MenuLinkList{-webkit-flex:auto;-ms-flex:auto;flex:auto;display:-webkit-box;display:-webkit-flex;display:-ms-flexbox;display:flex;-webkit-align-items:center;-webkit-box-align:center;-ms-flex-align:center;align-items:center;-webkit-box-flex-wrap:wrap;-webkit-flex-wrap:wrap;-ms-flex-wrap:wrap;flex-wrap:wrap;}.ssrcss-a9g9c0-MenuLinkList:focus{outline:none;}.ssrcss-a9g9c0-MenuLinkList>*{display:-webkit-box;display:-webkit-flex;display:-ms-flexbox;display:flex;-webkit-align-items:center;-webkit-box-align:center;-ms-flex-align:center;align-items:center;-webkit-flex-basis:50%;-ms-flex-preferred-size:50%;flex-basis:50%;}@media (min-width: 37.5rem){.ssrcss-a9g9c0-MenuLinkList>*{-webkit-flex-basis:auto;-ms-flex-preferred-size:auto;flex-basis:auto;}}@supports (display: grid){.ssrcss-a9g9c0-MenuLinkList{display:grid;grid-gap:0 8px;gap:0 8px;}@media (min-width: 18.75rem){.ssrcss-a9g9c0-MenuLinkList{grid-template-columns:repeat(2, minmax(7.5rem, 1fr));}}@media (min-width: 37.5rem){.ssrcss-a9g9c0-MenuLinkList{display:-webkit-box;display:-webkit-flex;display:-ms-flexbox;display:flex;-webkit-box-flex-wrap:wrap;-webkit-flex-wrap:wrap;-ms-flex-wrap:wrap;flex-wrap:wrap;}}.ssrcss-a9g9c0-MenuLinkList>*{min-width:initial;}}@media (min-width: 37.5rem){.ssrcss-a9g9c0-MenuLinkList >:nth-child(1){display:none;}}@media (min-width: 37.5rem){.ssrcss-a9g9c0-MenuLinkList >:nth-child(2){display:none;}}@media (min-width: 37.5rem){.ssrcss-a9g9c0-MenuLinkList >:nth-child(3){display:none;}}@media (min-width: 37.5rem){.ssrcss-a9g9c0-MenuLinkList >:nth-child(4){display:none;}}@media (min-width: 37.546875rem){.ssrcss-a9g9c0-MenuLinkList >:nth-child(5){display:none;}}@media (min-width: 41.53125rem){.ssrcss-a9g9c0-MenuLinkList >:nth-child(6){display:none;}}@media (min-width: 45rem){.ssrcss-a9g9c0-MenuLinkList >:nth-child(7){display:none;}}.ssrcss-1cnl2eg-MenuLinkListItem{height:1.75rem;margin:4px 0;-webkit-align-items:stretch;-webkit-box-align:stretch;-ms-flex-align:stretch;align-items:stretch;}@media (min-width: 18.75rem){.ssrcss-1cnl2eg-MenuLinkListItem{height:3.5rem;}}@media (min-width: 37.5rem){.ssrcss-1cnl2eg-MenuLinkListItem{padding-right:20px;}}.ssrcss-1cnl2eg-MenuLinkListItem:focus>*::after,.ssrcss-1cnl2eg-MenuLinkListItem[data-open='true']{width:100%;opacity:100%;}.ssrcss-kffy1u-MenuLink{font-size:1rem;line-height:1.375;display:-webkit-box;display:-webkit-flex;display:-ms-flexbox;display:flex;-webkit-box-pack:center;-ms-flex-pack:center;-webkit-justify-content:center;justify-content:center;-webkit-align-items:center;-webkit-box-align:center;-ms-flex-align:center;align-items:center;margin:0 0.125rem;-webkit-text-decoration:inherit;text-decoration:inherit;color:#000000;white-space:nowrap;position:relative;height:100%;}.ssrcss-kffy1u-MenuLink::after{content:'';display:block;background-color:currentcolor;position:absolute;right:0;left:0;bottom:0.125rem;height:0.125rem;width:0;opacity:0;}@media (min-width: 18.75rem){.ssrcss-kffy1u-MenuLink::after{bottom:0.5rem;}}.ssrcss-kffy1u-MenuLink:hover::after,.ssrcss-kffy1u-MenuLink:focus::after,.ssrcss-kffy1u-MenuLink[data-open='true']::after{width:100%;opacity:1;}@media (min-width: 37.5rem){.ssrcss-kffy1u-MenuLink{font-size:0.8125rem;line-height:1.2307692307692308;}}@media (min-width: 56.25rem){.ssrcss-kffy1u-MenuLink{margin:0 0.375rem;}}@media (prefers-reduced-motion: no-preference){.ssrcss-kffy1u-MenuLink::after{-webkit-transition:width 0.2s,opacity 0.2s;transition:width 0.2s,opacity 0.2s;transition-timing-function:cubic-bezier(0.75, 0, 0.15, 1);}}.ssrcss-h8eoet-CloseButtonWrapper{margin-top:4px;}.ssrcss-1maygca-CallToActionLink{font-family:ReithSans,Helvetica,Arial,freesans,sans-serif;font-weight:700;font-feature-settings:'ss01' off;font-size:1rem;line-height:1.25;box-sizing:border-box;display:-webkit-inline-box;display:-webkit-inline-flex;display:-ms-inline-flexbox;display:inline-flex;-webkit-align-items:center;-webkit-box-align:center;-ms-flex-align:center;align-items:center;-webkit-box-pack:center;-ms-flex-pack:center;-webkit-justify-content:center;justify-content:center;padding:calc(8px - 2px) calc(12px - 2px);border:2px solid transparent;min-height:2.75rem!important;text-align:center;-webkit-text-decoration:none;text-decoration:none;line-height:1.375!important;-webkit-transition:0.2s;transition:0.2s;background:transparent;color:#141414;}@media (min-width: 37.5rem){.ssrcss-1maygca-CallToActionLink{font-size:1.125rem;line-height:1.222222222222222;}}.ssrcss-1maygca-CallToActionLink:focus-visible{outline:none;box-shadow:none;}.ssrcss-1maygca-CallToActionLink .call-to-action-link-text-wrapper{border-bottom:2px solid transparent;-webkit-transition:border-bottom 0.2s;transition:border-bottom 0.2s;}@supports (text-underline-offset: 0.25em){.ssrcss-1maygca-CallToActionLink .call-to-action-link-text-wrapper{border-bottom:none;-webkit-text-decoration:underline transparent;text-decoration:underline transparent;text-decoration-thickness:2px;text-decoration-skip-ink:none;text-underline-offset:0.3125em;-webkit-transition:text-decoration 0.2s;transition:text-decoration 0.2s;}}.ssrcss-1maygca-CallToActionLink:hover,.ssrcss-1maygca-CallToActionLink:focus,.ssrcss-1maygca-CallToActionLink:active{cursor:pointer;background:#0051AD;color:#FFFFFF;box-shadow:0 0 0 0.125rem #0051AD;}.ssrcss-1maygca-CallToActionLink:hover .call-to-action-link-text-wrapper,.ssrcss-1maygca-CallToActionLink:focus .call-to-action-link-text-wrapper,.ssrcss-1maygca-CallToActionLink:active .call-to-action-link-text-wrapper{border-bottom:2px solid currentcolor;}@supports (text-underline-offset: 0.25em){.ssrcss-1maygca-CallToActionLink:hover .call-to-action-link-text-wrapper,.ssrcss-1maygca-CallToActionLink:focus .call-to-action-link-text-wrapper,.ssrcss-1maygca-CallToActionLink:active .call-to-action-link-text-wrapper{border-bottom:none;-webkit-text-decoration:underline currentcolor;text-decoration:underline currentcolor;text-decoration-thickness:2px;text-decoration-skip-ink:none;text-underline-offset:0.3125em;}}.ssrcss-1maygca-CallToActionLink:focus{box-shadow:0 0 0 0.125rem #FFFFFF;outline:0.125rem solid #000000;outline-offset:0.125rem;box-shadow:0 0 0 0.125rem #0051AD,0 0 0 calc(0.125rem + 0.125rem) #FFFFFF;outline-offset:calc(0.125rem + 0.125rem);}.ssrcss-1hfawy1-IconWrapper{display:inline-block;width:1.125rem;height:1.125rem;min-width:1.25rem;vertical-align:middle;}.ssrcss-11h1iqi-ProductNavigationContainer{font-family:ReithSans,Helvetica,Arial,freesans,sans-serif;font-weight:400;font-feature-settings:'ss01' off;font-size:1rem;line-height:1.375;background-color:#FFD230;color:#000000;position:relative;}.ssrcss-icu1rp-Masthead{font-size:1.5rem;line-height:1.1666666666666667;font-family:ReithSans,Helvetica,Arial,freesans,sans-serif;font-weight:700;font-feature-settings:'ss01' off;background:#FFD230;color:#000000;}@media (min-width: 37.5rem){.ssrcss-icu1rp-Masthead{font-size:2rem;line-height:1.125;}}.ssrcss-12x0ma7-ContentWrapper{display:-webkit-box;display:-webkit-flex;display:-ms-flexbox;display:flex;-webkit-align-items:center;-webkit-box-align:center;-ms-flex-align:center;align-items:center;-webkit-box-pack:justify;-webkit-justify-content:space-between;justify-content:space-between;}.ssrcss-1nqrevo-LogoWrapper{margin:4px 0;}.ssrcss-1vyfvn-LogoLink{display:-webkit-box;display:-webkit-flex;display:-ms-flexbox;display:flex;-webkit-align-items:center;-webkit-box-align:center;-ms-flex-align:center;align-items:center;width:auto;-webkit-text-decoration:none;text-decoration:none;color:inherit;}@media all and (-ms-high-contrast: none),(-ms-high-contrast: active){.ssrcss-1vyfvn-LogoLink{width:100%;}}.ssrcss-18958r2-LogoIcon{display:block;padding:calc(0.75rem - 4px) 0;height:1.625rem;fill:currentcolor;max-width:10rem;}@media (min-width: 25rem){.ssrcss-18958r2-LogoIcon{padding:calc(0.875rem - 4px) 0;height:1.75rem;max-width:15.5rem;}}@media (min-width: 37.5rem){.ssrcss-18958r2-LogoIcon{padding:calc(1rem - 4px) 0;max-width:initial;}}@media (min-width: 37.5rem){.ssrcss-gmdx8l-Navigation{border-top:0.0625rem solid #B29321;}}.ssrcss-40dop0-MenuContainer-PrimaryNavBarContainer{background-color:#000000;color:#F6F6F6;}@media (min-width: 37.5rem){.ssrcss-40dop0-MenuContainer-PrimaryNavBarContainer{background-color:#FFD230;color:#000000;}}.ssrcss-15o6r8s-PrimaryListContainer{margin:0 -8px;}@media (min-width: 25rem){.ssrcss-15o6r8s-PrimaryListContainer{margin:0 -16px;}}@media (min-width: 37.5rem){.ssrcss-15o6r8s-PrimaryListContainer{display:-webkit-box;display:-webkit-flex;display:-ms-flexbox;display:flex;-webkit-box-pack:justify;-webkit-justify-content:space-between;justify-content:space-between;margin:0;}.ssrcss-15o6r8s-PrimaryListContainer .e14xdrat1 .eis6szr3:not(:last-of-type) .eis6szr2 .eis6szr1{border-right-style:solid;border-right-width:0.0625rem;border-right-color:#B29321;}}.ssrcss-1xa2nq9-ToggleContainer{position:absolute;right:8px;top:4px;background-color:transparent;}@media (min-width: 25rem){.ssrcss-1xa2nq9-ToggleContainer{top:8px;}}@media (min-width: 37.5rem){.ssrcss-1xa2nq9-ToggleContainer{display:none;}}.ssrcss-1xa2nq9-ToggleContainer .ekfn8591{border:0.0625rem solid;border-color:#B29321;}.ssrcss-1xa2nq9-ToggleContainer .ekfn8591:hover,.ssrcss-1xa2nq9-ToggleContainer .ekfn8591:focus,.ssrcss-1xa2nq9-ToggleContainer .ekfn8591:active{color:#F6F6F6;background-color:#000000;border-color:transparent;}.ssrcss-ckisij-StyledToggle{font-family:ReithSans,Helvetica,Arial,freesans,sans-serif;font-weight:400;font-feature-settings:'ss01' off;font-size:1rem;line-height:1.375;-webkit-text-decoration:none;text-decoration:none;box-sizing:border-box;display:-webkit-box;display:-webkit-flex;display:-ms-flexbox;display:flex;-webkit-align-items:center;-webkit-box-align:center;-ms-flex-align:center;align-items:center;position:relative;padding:8px;cursor:pointer;color:#000000;background-color:#FFD230;border:none;}@media (min-width: 37.5rem){.ssrcss-ckisij-StyledToggle{min-height:2.375rem;}@media (pointer: coarse){.ssrcss-ckisij-StyledToggle{min-height:2.75rem;}}}.ssrcss-uq8y1d-IconWrapper{display:inline-block;width:1rem;height:1rem;margin-right:8px;}.ssrcss-1or42oc-MenuListContainer{display:none;}@media (min-width: 37.5rem){.ssrcss-1or42oc-MenuListContainer{margin-left:-8px;margin-right:-8px;padding:8px 0;}}@media (min-width: 37.5rem){.ssrcss-1or42oc-MenuListContainer{background-color:transparent;display:block;padding:0;margin:0;-webkit-flex-basis:100%;-ms-flex-preferred-size:100%;flex-basis:100%;}@media (pointer: coarse){.ssrcss-1or42oc-MenuListContainer{overflow-x:scroll;-webkit-overflow-scrolling:touch;-ms-overflow-style:-ms-autohiding-scrollbar;-ms-overflow-style:none;scrollbar-width:none;}.ssrcss-1or42oc-MenuListContainer::-webkit-scrollbar{display:none;}}}.ssrcss-1vxmun4-StyledMenuList{font-family:ReithSans,Helvetica,Arial,freesans,sans-serif;font-weight:400;font-feature-settings:'ss01' off;list-style:none;}@media (min-width: 37.5rem){.ssrcss-1vxmun4-StyledMenuList{display:-webkit-box;display:-webkit-flex;display:-ms-flexbox;display:flex;-webkit-box-flex-wrap:wrap;-webkit-flex-wrap:wrap;-ms-flex-wrap:wrap;flex-wrap:wrap;position:relative;left:-8px;}@media (pointer: coarse){.ssrcss-1vxmun4-StyledMenuList{-webkit-box-flex-wrap:nowrap;-webkit-flex-wrap:nowrap;-ms-flex-wrap:nowrap;flex-wrap:nowrap;}}}.ssrcss-or45ca-StyledMenuItem{border-bottom:0.0625rem solid #8A8C8E;position:relative;break-inside:avoid;margin:0;padding:0;}@media (min-width: 37.5rem){.ssrcss-or45ca-StyledMenuItem{border-bottom:none;}}@media (min-width: 37.5rem){.ssrcss-or45ca-StyledMenuItem{-webkit-flex:none;-ms-flex:none;flex:none;}}.ssrcss-162z3cq-StyledLink{box-sizing:border-box;display:-webkit-box;display:-webkit-flex;display:-ms-flexbox;display:flex;-webkit-align-items:center;-webkit-box-align:center;-ms-flex-align:center;align-items:center;padding:4px 0 4px 8px;color:inherit;-webkit-text-decoration:none;text-decoration:none;min-height:2.375rem;}@media (pointer: coarse){.ssrcss-162z3cq-StyledLink{min-height:2.75rem;}}.ssrcss-162z3cq-StyledLink:hover,.ssrcss-162z3cq-StyledLink:focus{background-color:#3A3C3E;}.ssrcss-162z3cq-StyledLink:focus-visible{box-shadow:inset 0 0 0 calc(0.125rem + 0.125rem) #FFFFFF;outline:0.125rem solid #000000;outline-offset:-0.125rem;}.ssrcss-162z3cq-StyledLink::after{content:none;position:absolute;left:0;bottom:0;width:4px;height:100%;background-color:#FFD230;}.ssrcss-162z3cq-StyledLink:hover::after,.ssrcss-162z3cq-StyledLink:active::after{content:'';}.ssrcss-162z3cq-StyledLink:focus-visible::after{content:none;}@media (min-width: 25rem){.ssrcss-162z3cq-StyledLink{padding-left:16px;}}@media (min-width: 37.5rem){.ssrcss-162z3cq-StyledLink{width:auto;padding-left:8px;}}@media (min-width: 37.5rem){.ssrcss-162z3cq-StyledLink:hover,.ssrcss-162z3cq-StyledLink:focus{background-color:transparent;color:#000000;}}@media (min-width: 37.5rem){.ssrcss-162z3cq-StyledLink::after{background-color:#000000;width:100%;height:4px;}}@media (min-width: 37.5rem){.ssrcss-162z3cq-StyledLink{padding-left:0;width:auto;color:#000000;}}.ssrcss-1u47p8g-LinkTextContainer{line-height:1.125rem;padding:0;}@media (min-width: 37.5rem){.ssrcss-1u47p8g-LinkTextContainer{padding:0 0.45rem;}}.ssrcss-t8swvy-StyledLink{box-sizing:border-box;display:-webkit-box;display:-webkit-flex;display:-ms-flexbox;display:flex;-webkit-align-items:center;-webkit-box-align:center;-ms-flex-align:center;align-items:center;padding:4px 0 4px 8px;color:inherit;-webkit-text-decoration:none;text-decoration:none;min-height:2.375rem;}@media (pointer: coarse){.ssrcss-t8swvy-StyledLink{min-height:2.75rem;}}.ssrcss-t8swvy-StyledLink:hover,.ssrcss-t8swvy-StyledLink:focus{background-color:#3A3C3E;}.ssrcss-t8swvy-StyledLink:focus-visible{box-shadow:inset 0 0 0 calc(0.125rem + 0.125rem) #FFFFFF;outline:0.125rem solid #000000;outline-offset:-0.125rem;}.ssrcss-t8swvy-StyledLink::after{content:'';position:absolute;left:0;bottom:0;width:4px;height:100%;background-color:#FFD230;}.ssrcss-t8swvy-StyledLink:hover::after,.ssrcss-t8swvy-StyledLink:active::after{content:'';}.ssrcss-t8swvy-StyledLink:focus-visible::after{content:none;}@media (min-width: 25rem){.ssrcss-t8swvy-StyledLink{padding-left:16px;}}@media (min-width: 37.5rem){.ssrcss-t8swvy-StyledLink{width:auto;padding-left:8px;}}@media (min-width: 37.5rem){.ssrcss-t8swvy-StyledLink:hover,.ssrcss-t8swvy-StyledLink:focus{background-color:transparent;color:#000000;}}@media (min-width: 37.5rem){.ssrcss-t8swvy-StyledLink::after{background-color:#000000;width:100%;height:4px;}}@media (min-width: 37.5rem){.ssrcss-t8swvy-StyledLink{padding-left:0;width:auto;color:#000000;}}.ssrcss-zfkh5e-ToggleContainer{display:none;border-left:0.0625rem solid;border-left-color:#B29321;background-color:transparent;}@media (min-width: 37.5rem){.ssrcss-zfkh5e-ToggleContainer{display:-webkit-box;display:-webkit-flex;display:-ms-flexbox;display:flex;-webkit-flex-shrink:0;-ms-flex-negative:0;flex-shrink:0;-webkit-align-items:flex-start;-webkit-box-align:flex-start;-ms-flex-align:flex-start;align-items:flex-start;}}.ssrcss-zfkh5e-ToggleContainer .ekfn8591:focus-visible{box-shadow:inset 0 0 0 calc(0.125rem + 0.125rem) #FFFFFF;outline:0.125rem solid #000000;outline-offset:-0.125rem;}.ssrcss-zfkh5e-ToggleContainer .ekfn8591:hover::after,.ssrcss-zfkh5e-ToggleContainer .ekfn8591:active::after{position:absolute;bottom:0;left:0;width:100%;content:'';height:4px;background-color:#000000;}.ssrcss-36jm8h-MenuContainer-MoreMenuWrapper{background-color:#000000;color:#F6F6F6;}.ssrcss-wdgq9j-MoreMenuListContainer{margin:0 -8px;}@media (min-width: 25rem){.ssrcss-wdgq9j-MoreMenuListContainer{margin:0 -16px;}}@media (min-width: 37.5rem){.ssrcss-wdgq9j-MoreMenuListContainer{margin:0;}}.ssrcss-j6f6xh-MenuListContainer{display:none;}@media (min-width: 37.5rem){.ssrcss-j6f6xh-MenuListContainer{margin-left:-8px;margin-right:-8px;padding:8px 0;}}.ssrcss-1mlqmic-ListTitle{font-size:1.25rem;line-height:1.2;display:block;padding:8px 0 8px 8px;}@media (min-width: 37.5rem){.ssrcss-1mlqmic-ListTitle{font-size:1.5rem;line-height:1.1666666666666667;}}@media (min-width: 25rem){.ssrcss-1mlqmic-ListTitle{padding-left:16px;}}@media (min-width: 37.5rem){.ssrcss-1mlqmic-ListTitle{padding:16px 8px 4px;}}.ssrcss-1mt0jbo-StyledMenuList{font-family:ReithSans,Helvetica,Arial,freesans,sans-serif;font-weight:400;font-feature-settings:'ss01' off;list-style:none;}@media (min-width: 37.5rem){.ssrcss-1mt0jbo-StyledMenuList{-webkit-column-count:3;column-count:3;-webkit-column-gap:16px;column-gap:16px;-webkit-column-rule:0.0625rem solid #8A8C8E;column-rule:0.0625rem solid #8A8C8E;}}@media (min-width: 56.25rem){.ssrcss-1mt0jbo-StyledMenuList{-webkit-column-count:4;column-count:4;}}@media (min-width: 80rem){.ssrcss-1mt0jbo-StyledMenuList{-webkit-column-count:6;column-count:6;}}.ssrcss-g1n074-StyledMenuItem{border-bottom:0.0625rem solid #8A8C8E;position:relative;break-inside:avoid;margin:0;padding:0;}@media (min-width: 37.5rem){.ssrcss-g1n074-StyledMenuItem{border-bottom:none;}}.ssrcss-1bzy3wo-StyledLink{box-sizing:border-box;display:-webkit-box;display:-webkit-flex;display:-ms-flexbox;display:flex;-webkit-align-items:center;-webkit-box-align:center;-ms-flex-align:center;align-items:center;padding:4px 0 4px 8px;color:inherit;-webkit-text-decoration:none;text-decoration:none;min-height:2.375rem;}@media (pointer: coarse){.ssrcss-1bzy3wo-StyledLink{min-height:2.75rem;}}.ssrcss-1bzy3wo-StyledLink:hover,.ssrcss-1bzy3wo-StyledLink:focus{background-color:#3A3C3E;}.ssrcss-1bzy3wo-StyledLink:focus-visible{box-shadow:inset 0 0 0 calc(0.125rem + 0.125rem) #FFFFFF;outline:0.125rem solid #000000;outline-offset:-0.125rem;}.ssrcss-1bzy3wo-StyledLink::after{content:none;position:absolute;left:0;bottom:0;width:4px;height:100%;background-color:#FFD230;}.ssrcss-1bzy3wo-StyledLink:hover::after,.ssrcss-1bzy3wo-StyledLink:active::after{content:'';}.ssrcss-1bzy3wo-StyledLink:focus-visible::after{content:none;}@media (min-width: 25rem){.ssrcss-1bzy3wo-StyledLink{padding-left:16px;}}@media (min-width: 37.5rem){.ssrcss-1bzy3wo-StyledLink{width:auto;padding-left:8px;}}.ssrcss-i9csl0-LinkTextContainer{line-height:1.125rem;}.ssrcss-19dj471-MenuContainer-SecondaryNavBarContainer{background-color:#000000;color:#F6F6F6;}.ssrcss-19dj471-MenuContainer-SecondaryNavBarContainer .e14xdrat1{white-space:nowrap;}.ssrcss-19dj471-MenuContainer-SecondaryNavBarContainer .e14xdrat1 .eis6szr3:not(:last-of-type) .eis6szr2 .eis6szr1:only-child{border-right-style:solid;border-right-width:0.0625rem;border-right-color:#8A8C8E;}.ssrcss-1toi6ts-MenuListContainer{display:none;display:block;margin-left:-8px;}@media (min-width: 37.5rem){.ssrcss-1toi6ts-MenuListContainer{margin-left:-8px;margin-right:-8px;padding:8px 0;}}@media (min-width: 37.5rem){.ssrcss-1toi6ts-MenuListContainer{padding:0;display:block;}}@media (pointer: coarse){.ssrcss-1toi6ts-MenuListContainer{overflow-x:scroll;-webkit-overflow-scrolling:touch;-ms-overflow-style:-ms-autohiding-scrollbar;-ms-overflow-style:none;scrollbar-width:none;}.ssrcss-1toi6ts-MenuListContainer::-webkit-scrollbar{display:none;}}.ssrcss-18a3ezq-StyledMenuList{font-family:ReithSans,Helvetica,Arial,freesans,sans-serif;font-weight:400;font-feature-settings:'ss01' off;display:-webkit-box;display:-webkit-flex;display:-ms-flexbox;display:flex;-webkit-box-flex-wrap:wrap;-webkit-flex-wrap:wrap;-ms-flex-wrap:wrap;flex-wrap:wrap;list-style:none;}@media (min-width: 37.5rem){.ssrcss-18a3ezq-StyledMenuList{margin-left:0;}}@media (pointer: coarse){.ssrcss-18a3ezq-StyledMenuList{-webkit-box-flex-wrap:nowrap;-webkit-flex-wrap:nowrap;-ms-flex-wrap:nowrap;flex-wrap:nowrap;}}.ssrcss-1y9ep4i-StyledMenuItem{border-bottom:0.0625rem solid #8A8C8E;position:relative;break-inside:avoid;margin:0;padding:0;border:none;}@media (min-width: 37.5rem){.ssrcss-1y9ep4i-StyledMenuItem{border-bottom:none;}}.ssrcss-13wbrke-StyledLink{box-sizing:border-box;display:-webkit-box;display:-webkit-flex;display:-ms-flexbox;display:flex;-webkit-align-items:center;-webkit-box-align:center;-ms-flex-align:center;align-items:center;padding:4px 0 4px 8px;color:inherit;-webkit-text-decoration:none;text-decoration:none;min-height:2.375rem;padding-left:0;width:auto;}@media (pointer: coarse){.ssrcss-13wbrke-StyledLink{min-height:2.75rem;}}.ssrcss-13wbrke-StyledLink:hover,.ssrcss-13wbrke-StyledLink:focus{background-color:#3A3C3E;}.ssrcss-13wbrke-StyledLink:focus-visible{box-shadow:inset 0 0 0 calc(0.125rem + 0.125rem) #FFFFFF;outline:0.125rem solid #000000;outline-offset:-0.125rem;}.ssrcss-13wbrke-StyledLink::after{content:none;position:absolute;left:0;bottom:0;width:4px;height:100%;background-color:#FFD230;}.ssrcss-13wbrke-StyledLink:hover::after,.ssrcss-13wbrke-StyledLink:active::after{content:'';}.ssrcss-13wbrke-StyledLink:focus-visible::after{content:none;}@media (min-width: 25rem){.ssrcss-13wbrke-StyledLink{padding-left:16px;}}@media (min-width: 37.5rem){.ssrcss-13wbrke-StyledLink{width:auto;padding-left:8px;}}.ssrcss-13wbrke-StyledLink:hover,.ssrcss-13wbrke-StyledLink:focus{background-color:transparent;}.ssrcss-13wbrke-StyledLink::after{background-color:#FFD230;width:100%;height:4px;}@media (min-width: 25rem){.ssrcss-13wbrke-StyledLink{padding-left:0;}}.ssrcss-1mstwv3-LinkTextContainer{line-height:1.125rem;padding:0 0.45rem;}.ssrcss-p4fm83-IconContainer{height:0.75rem;width:0.75rem;}.ssrcss-1ncu3vb-StyledLink{box-sizing:border-box;display:-webkit-box;display:-webkit-flex;display:-ms-flexbox;display:flex;-webkit-align-items:center;-webkit-box-align:center;-ms-flex-align:center;align-items:center;padding:4px 0 4px 8px;color:inherit;-webkit-text-decoration:none;text-decoration:none;min-height:2.375rem;padding-left:0;width:auto;}@media (pointer: coarse){.ssrcss-1ncu3vb-StyledLink{min-height:2.75rem;}}.ssrcss-1ncu3vb-StyledLink:hover,.ssrcss-1ncu3vb-StyledLink:focus{background-color:#3A3C3E;}.ssrcss-1ncu3vb-StyledLink:focus-visible{box-shadow:inset 0 0 0 calc(0.125rem + 0.125rem) #FFFFFF;outline:0.125rem solid #000000;outline-offset:-0.125rem;}.ssrcss-1ncu3vb-StyledLink::after{content:'';position:absolute;left:0;bottom:0;width:4px;height:100%;background-color:#FFD230;}.ssrcss-1ncu3vb-StyledLink:hover::after,.ssrcss-1ncu3vb-StyledLink:active::after{content:'';}.ssrcss-1ncu3vb-StyledLink:focus-visible::after{content:none;}@media (min-width: 25rem){.ssrcss-1ncu3vb-StyledLink{padding-left:16px;}}@media (min-width: 37.5rem){.ssrcss-1ncu3vb-StyledLink{width:auto;padding-left:8px;}}.ssrcss-1ncu3vb-StyledLink:hover,.ssrcss-1ncu3vb-StyledLink:focus{background-color:transparent;}.ssrcss-1ncu3vb-StyledLink::after{background-color:#FFD230;width:100%;height:4px;}@media (min-width: 25rem){.ssrcss-1ncu3vb-StyledLink{padding-left:0;}}.ssrcss-t9s73x-StandardZone{height:100%;margin:0 auto;}.ssrcss-gqrsw0-Wrapper{padding-bottom:32px;}.ssrcss-1qdh4qq-HeadingWrapper{padding:16px 0;}@media (min-width: 37.5rem){.ssrcss-1qdh4qq-HeadingWrapper{padding:24px 0;}}.ssrcss-pbttu9-Heading{font-family:ReithSans,Helvetica,Arial,freesans,sans-serif;font-weight:700;font-feature-settings:'ss01' off;font-size:1.5rem;line-height:1.1666666666666667;margin:0;color:#141414;}@media (min-width: 37.5rem){.ssrcss-pbttu9-Heading{font-size:2rem;line-height:1.125;}}.ssrcss-pbttu9-Heading:focus{outline-style:none;}.ssrcss-pbttu9-Heading:focus-visible{outline-style:auto;}.ssrcss-59a716-SearchWrapper{padding-bottom:16px;}.ssrcss-1hy9pi-StyledComboboxWrapper{display:-webkit-box;display:-webkit-flex;display:-ms-flexbox;display:flex;-webkit-align-items:flex-start;-webkit-box-align:flex-start;-ms-flex-align:flex-start;align-items:flex-start;-webkit-flex:1;-ms-flex:1;flex:1;}html.no-js .ssrcss-1hy9pi-StyledComboboxWrapper{display:none;}.ssrcss-xifuke-StyledWrapper{background:#F6F6F6;-webkit-flex:1;-ms-flex:1;flex:1;min-height:2.75rem;padding-bottom:0.125rem;}.ssrcss-2j3s5k-SearchBarWrapper{display:-webkit-box;display:-webkit-flex;display:-ms-flexbox;display:flex;}.ssrcss-1gbn3xw-StyledDiv{position:relative;background:#F6F6F6;color:#141414;-webkit-box-flex:1;-webkit-flex-grow:1;-ms-flex-positive:1;flex-grow:1;display:-webkit-box;display:-webkit-flex;display:-ms-flexbox;display:flex;-webkit-align-items:flex-start;-webkit-box-align:flex-start;-ms-flex-align:flex-start;align-items:flex-start;}.ssrcss-kxppca-FocusDiv{position:relative;background:#F6F6F6;-webkit-box-flex:1;-webkit-flex-grow:1;-ms-flex-positive:1;flex-grow:1;display:-webkit-box;display:-webkit-flex;display:-ms-flexbox;display:flex;-webkit-align-items:flex-start;-webkit-box-align:flex-start;-ms-flex-align:flex-start;align-items:flex-start;}.ssrcss-kxppca-FocusDiv:focus-within{outline-offset:0;outline:0.125rem solid;}.ssrcss-zbw5ic-IconWrapper{padding:12px 16px;padding-right:0.8rem;width:1.25rem;}.ssrcss-9pm56o-StyledInput{font-family:ReithSans,Helvetica,Arial,freesans,sans-serif;font-weight:400;font-feature-settings:'ss01' off;font-size:1rem;line-height:1.375;background:#F6F6F6;border:none;box-sizing:border-box;padding:0.6875rem 48px;padding-left:0;width:100%;}.ssrcss-9pm56o-StyledInput:focus{outline:none;}.ssrcss-9pm56o-StyledInput:focus-visible{box-shadow:none;}.ssrcss-1ps7ft7-StyledFormWrapper{display:none;-webkit-align-items:flex-start;-webkit-box-align:flex-start;-ms-flex-align:flex-start;align-items:flex-start;-webkit-flex:1;-ms-flex:1;flex:1;}html.no-js .ssrcss-1ps7ft7-StyledFormWrapper{display:-webkit-box;display:-webkit-flex;display:-ms-flexbox;display:flex;}.ssrcss-1y4i773-Button{font-family:ReithSans,Helvetica,Arial,freesans,sans-serif;font-weight:700;font-feature-settings:'ss01' off;font-size:1rem;line-height:1.25;display:-webkit-box;display:-webkit-flex;display:-ms-flexbox;display:flex;-webkit-align-items:center;-webkit-box-align:center;-ms-flex-align:center;align-items:center;-webkit-box-pack:center;-ms-flex-pack:center;-webkit-justify-content:center;justify-content:center;padding:calc(8px - 2px) calc(12px - 2px);border:2px solid transparent;min-height:2.75rem!important;text-align:center;line-height:1.375!important;-webkit-transition:0.2s;transition:0.2s;background:transparent;color:#141414;}@media (min-width: 37.5rem){.ssrcss-1y4i773-Button{font-size:1.125rem;line-height:1.222222222222222;}}.ssrcss-1y4i773-Button:focus-visible{outline:none;box-shadow:none;}.ssrcss-1y4i773-Button:disabled{opacity:0.2;cursor:auto;}.ssrcss-1y4i773-Button:hover:enabled,.ssrcss-1y4i773-Button:focus:enabled,.ssrcss-1y4i773-Button:active:enabled{position:relative;z-index:1;cursor:pointer;background:#FFBA00;color:#000000;box-shadow:0 0 0 0.125rem #FFBA00;}.ssrcss-1y4i773-Button:focus:enabled{box-shadow:0 0 0 0.125rem #FFFFFF;outline:0.125rem solid #000000;outline-offset:0.125rem;box-shadow:0 0 0 0.125rem #FFBA00,0 0 0 calc(0.125rem + 0.125rem) #FFFFFF;outline-offset:calc(0.125rem + 0.125rem);}.ssrcss-1ujodfj-FallbackMessage{font-size:1rem;line-height:1.375;font-family:ReithSans,Helvetica,Arial,freesans,sans-serif;font-weight:400;font-feature-settings:'ss01' off;padding:12px;}.ssrcss-1cifq5e-GlobalFooterStyling{font-family:ReithSans,Helvetica,Arial,freesans,sans-serif;font-weight:400;font-feature-settings:'ss01' off;font-size:0.8125rem;line-height:1.2307692307692308;padding:16px 0;background:#141414;border-top:1px solid #8A8C8E;color:#F6F6F6;}.ssrcss-2vow6d-Stack >*:not([hidden]):not(style):not(.visually-hidden)~*:not([hidden]):not(style):not(.visually-hidden){border-top:1px solid #8A8C8E;padding-top:16px;margin-top:16px;}.ssrcss-rkzzm9-Columns{-webkit-columns:5.625rem;columns:5.625rem;-webkit-column-rule:1px solid #8A8C8E;column-rule:1px solid #8A8C8E;-webkit-column-gap:24px;column-gap:24px;gap:24px;}@media (min-width: 37.5rem){.ssrcss-rkzzm9-Columns{-webkit-columns:8rem;columns:8rem;gap:40px;}}@media (min-width: 63rem){.ssrcss-rkzzm9-Columns{-webkit-columns:5;columns:5;}}.ssrcss-rkzzm9-Columns>li{break-inside:avoid-column;}.ssrcss-29l7i3-Link-NavigationLink{display:block;padding:12px 0;}.ssrcss-29l7i3-Link-NavigationLink:any-link{font-family:ReithSans,Helvetica,Arial,freesans,sans-serif;font-weight:700;font-feature-settings:'ss01' off;-webkit-text-decoration:none;text-decoration:none;color:#F6F6F6;}.ssrcss-29l7i3-Link-NavigationLink:any-link:hover,.ssrcss-29l7i3-Link-NavigationLink:any-link:focus,.ssrcss-29l7i3-Link-NavigationLink:any-link:active{-webkit-text-decoration:underline;text-decoration:underline;}.ssrcss-1ml6m0y-Stack >*:not([hidden]):not(style):not(.visually-hidden)~*:not([hidden]):not(style):not(.visually-hidden){margin-top:24px;}.ssrcss-17ehax8-Cluster{overflow:hidden;}@supports (gap: 1rem){.ssrcss-17ehax8-Cluster{overflow:initial;}}.ssrcss-17o89of-ClusterItems{padding:0;list-style:none;margin:calc(24px / 2 * -1);display:-webkit-box;display:-webkit-flex;display:-ms-flexbox;display:flex;-webkit-box-flex-wrap:wrap;-webkit-flex-wrap:wrap;-ms-flex-wrap:wrap;flex-wrap:wrap;-webkit-box-pack:start;-ms-flex-pack:start;-webkit-justify-content:start;justify-content:start;}.ssrcss-17o89of-ClusterItems >*{margin:calc(24px / 2);}@supports (gap: 1rem){.ssrcss-17o89of-ClusterItems{gap:24px;margin:0;}.ssrcss-17o89of-ClusterItems >*{margin:0;}}.ssrcss-1d9p81h-Link-LegalLink{display:block;margin:-12px -8px;padding:12px 8px;}.ssrcss-1d9p81h-Link-LegalLink:any-link{font-family:ReithSans,Helvetica,Arial,freesans,sans-serif;font-weight:700;font-feature-settings:'ss01' off;-webkit-text-decoration:none;text-decoration:none;color:#F6F6F6;}.ssrcss-1d9p81h-Link-LegalLink:any-link:hover,.ssrcss-1d9p81h-Link-LegalLink:any-link:focus,.ssrcss-1d9p81h-Link-LegalLink:any-link:active{-webkit-text-decoration:underline;text-decoration:underline;}.ssrcss-1d9p81h-Link-LegalLink:focus-visible{box-shadow:inset 0 0 0 calc(0.125rem + 0.125rem) #000000;outline:0.125rem solid #FFFFFF;outline-offset:-0.125rem;}@media (min-width: 25rem){.ssrcss-1d9p81h-Link-LegalLink{margin:-12px;padding:12px;}}.ssrcss-1q0x1qg-Paragraph{margin:0;}.ssrcss-bosb8n-Link:any-link{font-family:ReithSans,Helvetica,Arial,freesans,sans-serif;font-weight:700;font-feature-settings:'ss01' off;-webkit-text-decoration:none;text-decoration:none;color:#F6F6F6;}.ssrcss-bosb8n-Link:any-link:hover,.ssrcss-bosb8n-Link:any-link:focus,.ssrcss-bosb8n-Link:any-link:active{-webkit-text-decoration:underline;text-decoration:underline;}\n",
      "  </style>\n",
      " </head>\n",
      " <body>\n",
      "  <div id=\"root\">\n",
      "   <div class=\"ssrcss-181c4hk-SectionWrapper eustbbg0\">\n",
      "    <div class=\"ssrcss-1imfos9-PageStack e1k195vp1\">\n",
      "     <div>\n",
      "      <div>\n",
      "       <header data-testid=\"header-content\" id=\"header-content\">\n",
      "        <nav aria-label=\"BBC\" class=\"ssrcss-z8pk48-GlobalNavigation e4np8gz0\">\n",
      "         <div class=\"ssrcss-4y0s1t-Wrap e42f8511\">\n",
      "          <div class=\"ssrcss-1bvvlvf-GlobalNavigationContent eki2hvo22\" id=\"global-navigation\">\n",
      "           <div class=\"ssrcss-1c5rwo1-GlobalNavigationItem eki2hvo20\">\n",
      "            <a class=\"ssrcss-col7sy-NavigationLink-LogoLink eki2hvo11\" href=\"https://www.bbc.com\">\n",
      "             <span class=\"ssrcss-13kjque-LogoIconWrapper eki2hvo6\">\n",
      "              <svg fill=\"currentColor\" height=\"32\" viewbox=\"0 0 112 32\" width=\"112\" xmlns=\"http://www.w3.org/2000/svg\">\n",
      "               <path d=\"M111.99999,4.44444577e-05 L111.99999,32.0000444 L79.9999905,32.0000444 L79.9999905,4.44444577e-05 L111.99999,4.44444577e-05 Z M72.0000119,-3.55271368e-15 L72.0000119,32 L40.0000119,32 L40.0000119,-3.55271368e-15 L72.0000119,-3.55271368e-15 Z M32,-3.55271368e-15 L32,32 L-1.13686838e-13,32 L-1.13686838e-13,-3.55271368e-15 L32,-3.55271368e-15 Z M97.469329,6.80826869 C96.0294397,6.80826869 94.7294393,7.02226876 93.5693278,7.44982444 C92.4089942,7.87782457 91.4137717,8.49471364 90.5841047,9.30049166 C89.7538823,10.1067141 89.1188821,11.07327 88.6785486,12.199937 C88.2378818,13.3269373 88.0177706,14.5896043 88.0177706,15.9876048 C88.0177706,17.4188274 88.2296596,18.7062722 88.6531042,19.8493837 C89.0763265,20.9929396 89.6861045,21.9591621 90.482438,22.748829 C91.2784383,23.5383848 92.2522163,24.1430516 93.4042167,24.5624962 C94.5558837,24.9819408 95.8516619,25.1917186 97.2914401,25.1917186 C98.3752182,25.1917186 99.4086629,25.072163 100.391219,24.8338296 C101.37333,24.5956073 102.237108,24.2706072 102.982664,23.8592738 L102.982664,23.8592738 L102.982664,20.4292727 C101.40733,21.4001619 99.6881074,21.8851621 97.8251069,21.8851621 C96.6054399,21.8851621 95.567884,21.6549398 94.7126615,21.194273 C93.8572168,20.7338284 93.2049944,20.0633837 92.7564387,19.1831613 C92.3073275,18.3032721 92.0831052,17.2380496 92.0831052,15.9876048 C92.0831052,14.7377155 92.3156608,13.6766041 92.7816609,12.8044927 C93.2474389,11.9327147 93.916328,11.2664922 94.7888838,10.8058254 C95.6609951,10.3453809 96.715551,10.1148252 97.9521069,10.1148252 C98.8496628,10.1148252 99.7052186,10.2342697 100.518108,10.4726031 C101.331219,10.7112699 102.084664,11.0609366 102.779442,11.5212701 L102.779442,11.5212701 L102.779442,8.01738016 C102.017219,7.62260227 101.191441,7.32260218 100.302219,7.11671323 C99.4129963,6.91126872 98.4685515,6.80826869 97.469329,6.80826869 Z M55.7552388,7.00000208 L49.0000146,7.00000208 L49.0000146,25.0000021 L56.1713501,25.0000021 C57.590906,25.0000021 58.8063508,24.7903407 59.8181289,24.3706739 C60.8297959,23.9513405 61.6087961,23.3553403 62.1555741,22.5832289 C62.7020187,21.8114509 62.9754632,20.8882284 62.9754632,19.8140059 C62.9754632,18.7232278 62.6941298,17.7960053 62.1312407,17.0321162 C61.5681294,16.2686715 60.7563514,15.7104491 59.6957955,15.3580046 C60.4625736,14.9891156 61.0420182,14.4894488 61.4335738,13.8601152 C61.8252406,13.2307817 62.0210185,12.4881148 62.0210185,11.6321146 C62.0210185,10.1385586 61.4742405,8.99311379 60.3812402,8.19578022 C59.2877954,7.39889109 57.745795,7.00000208 55.7552388,7.00000208 L55.7552388,7.00000208 Z M15.7552269,7.00000208 L9.00000268,7.00000208 L9.00000268,25.0000021 L16.1713381,25.0000021 C17.5908941,25.0000021 18.8062278,24.7903407 19.8182281,24.3706739 C20.8296729,23.9513405 21.6087842,23.3553403 22.1555621,22.5832289 C22.7021179,21.8114509 22.9755624,20.8882284 22.9755624,19.8140059 C22.9755624,18.7232278 22.6941179,17.7960053 22.1311177,17.0321162 C21.5682286,16.2686715 20.7563395,15.7104491 19.6957836,15.3580046 C20.4625616,14.9891156 21.0418952,14.4894488 21.4335619,13.8601152 C21.8252287,13.2307817 22.0210066,12.4881148 22.0210066,11.6321146 C22.0210066,10.1385586 21.4741175,8.99311379 20.3811172,8.19578022 C19.2877835,7.39889109 17.7457831,7.00000208 15.7552269,7.00000208 L15.7552269,7.00000208 Z M55.8775833,17.2209385 C58.1128062,17.2209385 59.2308065,18.0434943 59.2308065,19.6881614 C59.2308065,20.4602728 58.9369175,21.0518285 58.3496951,21.4629397 C57.7622505,21.8743843 56.9216947,22.0797177 55.8286944,22.0797177 L55.8286944,22.0797177 L52.6469157,22.0797177 L52.6469157,17.2209385 Z M15.8775714,17.2209385 C18.1129054,17.2209385 19.2307946,18.0434943 19.2307946,19.6881614 C19.2307946,20.4602728 18.9370167,21.0518285 18.3496832,21.4629397 C17.7622386,21.8743843 16.9216828,22.0797177 15.8286825,22.0797177 L15.8286825,22.0797177 L12.6469038,22.0797177 L12.6469038,17.2209385 Z M55.412572,9.92028073 C57.3541282,9.92028073 58.3252396,10.6338365 58.3252396,12.0600591 C58.3252396,12.7988371 58.0763506,13.373504 57.5786838,13.7846152 C57.0807948,14.1960598 56.3587946,14.4013932 55.412572,14.4013932 L55.412572,14.4013932 L52.6469046,14.4013932 L52.6469046,9.92028073 Z M15.4125601,9.92028073 C17.3541163,9.92028073 18.3252277,10.6338365 18.3252277,12.0600591 C18.3252277,12.7988371 18.0762276,13.373504 17.5786719,13.7846152 C17.0807829,14.1960598 16.3587826,14.4013932 15.4125601,14.4013932 L15.4125601,14.4013932 L12.6468927,14.4013932 L12.6468927,9.92028073 Z\">\n",
      "               </path>\n",
      "              </svg>\n",
      "              <span class=\"visually-hidden ssrcss-1f39n02-VisuallyHidden e16en2lz0\">\n",
      "               BBC Homepage\n",
      "              </span>\n",
      "             </span>\n",
      "            </a>\n",
      "           </div>\n",
      "           <ul class=\"ssrcss-1hjcemq-AccessibilityLinkList e1d16uym1\" id=\"accessibility-links\" role=\"list\">\n",
      "            <li>\n",
      "             <a class=\"ssrcss-1ubr254-AccessibilityLink e1d16uym0\" href=\"#main-heading\">\n",
      "              Skip to content\n",
      "             </a>\n",
      "            </li>\n",
      "            <li>\n",
      "             <a class=\"ssrcss-1ubr254-AccessibilityLink e1d16uym0\" href=\"https://www.bbc.co.uk/accessibility/\">\n",
      "              Accessibility Help\n",
      "             </a>\n",
      "            </li>\n",
      "           </ul>\n",
      "           <div class=\"ssrcss-bje5xb-GlobalNavigationItem eki2hvo20\">\n",
      "            <ul class=\"ssrcss-1o1nzph-AccountOptionsList eki2hvo0\" role=\"list\">\n",
      "             <li class=\"ssrcss-1t7ltsf-GlobalNavigationProduct-GlobalNavigationAccount eki2hvo16\">\n",
      "              <span class=\"ssrcss-5fw2ee-AccountComponentWrapper eki2hvo9\">\n",
      "               <div class=\"ssrcss-uwr32o-StyledAccountPlaceholderComponent elvs26v5\" id=\"account-placeholder\">\n",
      "                <div class=\"ssrcss-n7m3zs-StyledLoadingPlaceholderWrapper elvs26v0\">\n",
      "                 <span class=\"ssrcss-h8wpjv-StyledAccountPlaceholderIconWrapper elvs26v4\">\n",
      "                  <div class=\"elvs26v3 ssrcss-1ce2si-Skeleton-StyledAccountPlaceholderIcon en1pbmi0\" data-testid=\"skeleton-wrapper\">\n",
      "                  </div>\n",
      "                 </span>\n",
      "                 <span class=\"ssrcss-h42kmd-StyledLoadingPlaceHolderTextWrapper elvs26v2\">\n",
      "                  <div class=\"elvs26v1 ssrcss-11sxr8p-Skeleton-StyledLoadingPlaceHolderText en1pbmi0\" data-testid=\"skeleton-wrapper\">\n",
      "                  </div>\n",
      "                 </span>\n",
      "                </div>\n",
      "               </div>\n",
      "               <a aria-hidden=\"true\" class=\"ssrcss-11dv7o-NavigationLink-AccountLink eki2hvo10\" hidden=\"\" href=\"https://account.bbc.com/account?lang=en-GB&amp;ptrt=https%3A%2F%2Fwww.bbc.com%2Fsport%2Ffootball%2Fpremier-league%2Ftop-scorers&amp;userOrigin=SPORT_GNL\">\n",
      "                <span class=\"ssrcss-1oeiyy4-ForYouIconWrapper e1jj8uav3\">\n",
      "                 <svg aria-hidden=\"true\" class=\"ssrcss-xi5oyi-StyledIcon e161cein1\" focusable=\"false\" height=\"1em\" viewbox=\"0 0 32 32\" width=\"1em\">\n",
      "                  <path d=\"M16 23c-3.3 0-5.8-2.5-5.8-5.8s2.5-5.8 5.8-5.8c3.2 0 5.8 2.5 5.8 5.8S19.2 23 16 23m15-5.7c0-8.4-6.6-15-15-15-8.5 0-15 6.6-15 15 0 5.2 2.5 9.8 6.4 12.4 1.9-2.8 5-4.6 8.6-4.6s6.7 1.8 8.6 4.6C28.5 27 31 22.5 31 17.3\">\n",
      "                  </path>\n",
      "                 </svg>\n",
      "                </span>\n",
      "                <span class=\"ssrcss-bvzllz-AccountText e1jj8uav2\">\n",
      "                 Your account\n",
      "                </span>\n",
      "               </a>\n",
      "              </span>\n",
      "             </li>\n",
      "            </ul>\n",
      "            <div class=\"ssrcss-12xrmhv-VerticalSeparator eki2hvo7\">\n",
      "            </div>\n",
      "            <ul class=\"ssrcss-d2bys-GlobalNavigationBarLinkList eki2hvo19\" role=\"list\">\n",
      "             <li class=\"ssrcss-1bwqj1o-GlobalNavigationProduct eki2hvo18\">\n",
      "              <a class=\"ssrcss-15owa93-NavigationLink eki2hvo14\" href=\"https://www.bbc.com\">\n",
      "               <span class=\"ssrcss-132qwvs-NavItemHoverState eki2hvo15\">\n",
      "                Home\n",
      "               </span>\n",
      "              </a>\n",
      "             </li>\n",
      "             <li class=\"ssrcss-1bwqj1o-GlobalNavigationProduct eki2hvo18\">\n",
      "              <a class=\"ssrcss-15owa93-NavigationLink eki2hvo14\" href=\"https://www.bbc.com/news\">\n",
      "               <span class=\"ssrcss-132qwvs-NavItemHoverState eki2hvo15\">\n",
      "                News\n",
      "               </span>\n",
      "              </a>\n",
      "             </li>\n",
      "             <li class=\"ssrcss-1bwqj1o-GlobalNavigationProduct eki2hvo18\">\n",
      "              <a class=\"ssrcss-15owa93-NavigationLink eki2hvo14\" href=\"https://www.bbc.com/sport\">\n",
      "               <span class=\"ssrcss-132qwvs-NavItemHoverState eki2hvo15\">\n",
      "                Sport\n",
      "               </span>\n",
      "              </a>\n",
      "             </li>\n",
      "             <li class=\"ssrcss-1bwqj1o-GlobalNavigationProduct eki2hvo18\">\n",
      "              <a class=\"ssrcss-15owa93-NavigationLink eki2hvo14\" href=\"https://www.bbc.com/business\">\n",
      "               <span class=\"ssrcss-132qwvs-NavItemHoverState eki2hvo15\">\n",
      "                Business\n",
      "               </span>\n",
      "              </a>\n",
      "             </li>\n",
      "             <li class=\"ssrcss-1bwqj1o-GlobalNavigationProduct eki2hvo18\">\n",
      "              <a class=\"ssrcss-15owa93-NavigationLink eki2hvo14\" href=\"https://www.bbc.com/innovation\">\n",
      "               <span class=\"ssrcss-132qwvs-NavItemHoverState eki2hvo15\">\n",
      "                Innovation\n",
      "               </span>\n",
      "              </a>\n",
      "             </li>\n",
      "             <li class=\"ssrcss-1bwqj1o-GlobalNavigationProduct eki2hvo18\">\n",
      "              <a class=\"ssrcss-15owa93-NavigationLink eki2hvo14\" href=\"https://www.bbc.com/culture\">\n",
      "               <span class=\"ssrcss-132qwvs-NavItemHoverState eki2hvo15\">\n",
      "                Culture\n",
      "               </span>\n",
      "              </a>\n",
      "             </li>\n",
      "             <li class=\"ssrcss-1bwqj1o-GlobalNavigationProduct eki2hvo18\">\n",
      "              <a class=\"ssrcss-15owa93-NavigationLink eki2hvo14\" href=\"https://www.bbc.com/travel\">\n",
      "               <span class=\"ssrcss-132qwvs-NavItemHoverState eki2hvo15\">\n",
      "                Travel\n",
      "               </span>\n",
      "              </a>\n",
      "             </li>\n",
      "             <li class=\"ssrcss-1bwqj1o-GlobalNavigationProduct eki2hvo18\">\n",
      "              <a class=\"ssrcss-15owa93-NavigationLink eki2hvo14\" href=\"https://www.bbc.com/future-planet\">\n",
      "               <span class=\"ssrcss-132qwvs-NavItemHoverState eki2hvo15\">\n",
      "                Earth\n",
      "               </span>\n",
      "              </a>\n",
      "             </li>\n",
      "             <li class=\"ssrcss-1bwqj1o-GlobalNavigationProduct eki2hvo18\">\n",
      "              <a class=\"ssrcss-15owa93-NavigationLink eki2hvo14\" href=\"https://www.bbc.com/audio\">\n",
      "               <span class=\"ssrcss-132qwvs-NavItemHoverState eki2hvo15\">\n",
      "                Audio\n",
      "               </span>\n",
      "              </a>\n",
      "             </li>\n",
      "             <li class=\"ssrcss-1bwqj1o-GlobalNavigationProduct eki2hvo18\">\n",
      "              <a class=\"ssrcss-15owa93-NavigationLink eki2hvo14\" href=\"https://www.bbc.com/video\">\n",
      "               <span class=\"ssrcss-132qwvs-NavItemHoverState eki2hvo15\">\n",
      "                Video\n",
      "               </span>\n",
      "              </a>\n",
      "             </li>\n",
      "             <li class=\"ssrcss-1bwqj1o-GlobalNavigationProduct eki2hvo18\">\n",
      "              <a class=\"ssrcss-15owa93-NavigationLink eki2hvo14\" href=\"https://www.bbc.com/live\">\n",
      "               <span class=\"ssrcss-132qwvs-NavItemHoverState eki2hvo15\">\n",
      "                Live\n",
      "               </span>\n",
      "              </a>\n",
      "             </li>\n",
      "             <li class=\"ssrcss-1bwqj1o-GlobalNavigationProduct eki2hvo18\" id=\"more-menu-button\">\n",
      "              <a class=\"ssrcss-1oqvpc8-NavigationLink-MenuToggleControlLink eki2hvo1\" href=\"#global-navigation-more-menu\">\n",
      "               <span class=\"ssrcss-14kc44w-NavItemHoverState eki2hvo15\">\n",
      "                <span class=\"ssrcss-13dpa8i-DotsMenuIconWrapper eki2hvo2\">\n",
      "                 <svg fill=\"currentColor\" height=\"4\" viewbox=\"0 0 20 4\" width=\"20\" xmlns=\"http://www.w3.org/2000/svg\">\n",
      "                  <g transform=\"translate(-14.000000, -22.000000)\">\n",
      "                   <path d=\"M18,22 L18,26 L14,26 L14,22 L18,22 Z M34,22 L34,26 L30,26 L30,22 L34,22 Z M26,22 L26,26 L22,26 L22,22 L26,22 Z\">\n",
      "                   </path>\n",
      "                  </g>\n",
      "                 </svg>\n",
      "                 <span class=\"visually-hidden ssrcss-1f39n02-VisuallyHidden e16en2lz0\">\n",
      "                  More menu\n",
      "                 </span>\n",
      "                </span>\n",
      "               </span>\n",
      "              </a>\n",
      "             </li>\n",
      "            </ul>\n",
      "           </div>\n",
      "           <div class=\"ssrcss-1naw1ix-LastGlobalNavigationItem eki2hvo21\">\n",
      "            <div class=\"ssrcss-1sakhrp-GlobalNavigationItem-GlobalNavigationBurger eki2hvo17\">\n",
      "             <a class=\"ssrcss-1oqvpc8-NavigationLink-MenuToggleControlLink eki2hvo1\" href=\"#global-navigation-more-menu\">\n",
      "              <span class=\"ssrcss-132qwvs-NavItemHoverState eki2hvo15\">\n",
      "               <span class=\"ssrcss-1myt22i-BurgerMenuIconWrapper eki2hvo3\">\n",
      "                <svg fill=\"currentColor\" height=\"1.375em\" version=\"1.1\" viewbox=\"0 0 24 22\" width=\"1.5em\" xmlns=\"http://www.w3.org/2000/svg\">\n",
      "                 <path d=\"M24,18 L24,22 L0,22 L0,18 L24,18 Z M24,9 L24,13 L0,13 L0,9 L24,9 Z M24,0 L24,4 L0,4 L0,0 L24,0 Z\">\n",
      "                 </path>\n",
      "                </svg>\n",
      "                <span class=\"visually-hidden ssrcss-1f39n02-VisuallyHidden e16en2lz0\">\n",
      "                 More menu\n",
      "                </span>\n",
      "               </span>\n",
      "              </span>\n",
      "             </a>\n",
      "            </div>\n",
      "            <div aria-label=\"Search BBC\" class=\"ssrcss-cl7jld-GlobalNavigationItem eki2hvo20\" role=\"search\">\n",
      "             <a class=\"ssrcss-rrztoo-NavigationLink-SearchLink eki2hvo13\" href=\"https://www.bbc.co.uk/search?d=SPORT_GNL\">\n",
      "              <span class=\"ssrcss-1lc3dkf-IconWrapper-SearchIconWrapper eki2hvo4\">\n",
      "               <svg aria-hidden=\"true\" class=\"ssrcss-xi5oyi-StyledIcon e161cein1\" focusable=\"false\" height=\"1em\" viewbox=\"0 0 32 32\" width=\"1em\">\n",
      "                <path d=\"m30.6 28.1-8.3-8.3c1.5-2 2.4-4.4 2.4-7.2C24.7 6 19.6 1 13 1S1.4 6.1 1.4 12.7 6.5 24.3 13 24.3c2.3 0 4.4-.6 6.2-1.8l8.5 8.5zM4 12.6c0-5.2 3.9-9.1 9-9.1s9 3.9 9 9.1-3.9 9.1-9 9.1-9-3.9-9-9.1\">\n",
      "                </path>\n",
      "               </svg>\n",
      "              </span>\n",
      "              <span class=\"ssrcss-1rstd29-SearchText eki2hvo12\">\n",
      "               Search BBC\n",
      "              </span>\n",
      "             </a>\n",
      "            </div>\n",
      "           </div>\n",
      "          </div>\n",
      "         </div>\n",
      "         <div class=\"ssrcss-91jqb8-GlobalNavigationDrawer e6xn3ao0\" tabindex=\"-1\">\n",
      "          <div class=\"ssrcss-yhcsrq-GlobalNavigationMoreMenu e2z809s5\" id=\"global-navigation-more-menu\" rows=\"6\">\n",
      "           <div class=\"ssrcss-4y0s1t-Wrap e42f8511\">\n",
      "            <div class=\"ssrcss-1obp207-MenuWrapper e2z809s1\">\n",
      "             <ul class=\"ssrcss-a9g9c0-MenuLinkList e2z809s4\" role=\"list\" tabindex=\"-1\">\n",
      "              <li class=\"ssrcss-1cnl2eg-MenuLinkListItem e2z809s3\">\n",
      "               <a class=\"ssrcss-kffy1u-MenuLink e2z809s2\" href=\"https://www.bbc.com\">\n",
      "                Home\n",
      "               </a>\n",
      "              </li>\n",
      "              <li class=\"ssrcss-1cnl2eg-MenuLinkListItem e2z809s3\">\n",
      "               <a class=\"ssrcss-kffy1u-MenuLink e2z809s2\" href=\"https://www.bbc.com/news\">\n",
      "                News\n",
      "               </a>\n",
      "              </li>\n",
      "              <li class=\"ssrcss-1cnl2eg-MenuLinkListItem e2z809s3\">\n",
      "               <a class=\"ssrcss-kffy1u-MenuLink e2z809s2\" href=\"https://www.bbc.com/sport\">\n",
      "                Sport\n",
      "               </a>\n",
      "              </li>\n",
      "              <li class=\"ssrcss-1cnl2eg-MenuLinkListItem e2z809s3\">\n",
      "               <a class=\"ssrcss-kffy1u-MenuLink e2z809s2\" href=\"https://www.bbc.com/business\">\n",
      "                Business\n",
      "               </a>\n",
      "              </li>\n",
      "              <li class=\"ssrcss-1cnl2eg-MenuLinkListItem e2z809s3\">\n",
      "               <a class=\"ssrcss-kffy1u-MenuLink e2z809s2\" href=\"https://www.bbc.com/innovation\">\n",
      "                Innovation\n",
      "               </a>\n",
      "              </li>\n",
      "              <li class=\"ssrcss-1cnl2eg-MenuLinkListItem e2z809s3\">\n",
      "               <a class=\"ssrcss-kffy1u-MenuLink e2z809s2\" href=\"https://www.bbc.com/culture\">\n",
      "                Culture\n",
      "               </a>\n",
      "              </li>\n",
      "              <li class=\"ssrcss-1cnl2eg-MenuLinkListItem e2z809s3\">\n",
      "               <a class=\"ssrcss-kffy1u-MenuLink e2z809s2\" href=\"https://www.bbc.com/travel\">\n",
      "                Travel\n",
      "               </a>\n",
      "              </li>\n",
      "              <li class=\"ssrcss-1cnl2eg-MenuLinkListItem e2z809s3\">\n",
      "               <a class=\"ssrcss-kffy1u-MenuLink e2z809s2\" href=\"https://www.bbc.com/future-planet\">\n",
      "                Earth\n",
      "               </a>\n",
      "              </li>\n",
      "              <li class=\"ssrcss-1cnl2eg-MenuLinkListItem e2z809s3\">\n",
      "               <a class=\"ssrcss-kffy1u-MenuLink e2z809s2\" href=\"https://www.bbc.com/audio\">\n",
      "                Audio\n",
      "               </a>\n",
      "              </li>\n",
      "              <li class=\"ssrcss-1cnl2eg-MenuLinkListItem e2z809s3\">\n",
      "               <a class=\"ssrcss-kffy1u-MenuLink e2z809s2\" href=\"https://www.bbc.com/video\">\n",
      "                Video\n",
      "               </a>\n",
      "              </li>\n",
      "              <li class=\"ssrcss-1cnl2eg-MenuLinkListItem e2z809s3\">\n",
      "               <a class=\"ssrcss-kffy1u-MenuLink e2z809s2\" href=\"https://www.bbc.com/live\">\n",
      "                Live\n",
      "               </a>\n",
      "              </li>\n",
      "             </ul>\n",
      "             <div class=\"ssrcss-h8eoet-CloseButtonWrapper e2z809s0\">\n",
      "              <a class=\"ssrcss-1maygca-CallToActionLink esxl4sy1\" href=\"#more-menu-button\">\n",
      "               <span class=\"ssrcss-1hfawy1-IconWrapper esxl4sy0\" data-testid=\"actions:close\">\n",
      "                <svg aria-hidden=\"true\" class=\"ssrcss-xi5oyi-StyledIcon e161cein1\" focusable=\"false\" height=\"1em\" viewbox=\"0 0 32 32\" width=\"1em\">\n",
      "                 <path d=\"m30 4.6-2.8-2.8L2 27.4l2.8 2.8zM4.8 1.8 1.9 4.7l25.2 25.5 2.9-2.9z\">\n",
      "                 </path>\n",
      "                </svg>\n",
      "                <span class=\"visually-hidden ssrcss-1f39n02-VisuallyHidden e16en2lz0\">\n",
      "                 <span class=\"call-to-action-link-text-wrapper\">\n",
      "                  Close menu\n",
      "                 </span>\n",
      "                </span>\n",
      "               </span>\n",
      "              </a>\n",
      "             </div>\n",
      "            </div>\n",
      "           </div>\n",
      "          </div>\n",
      "         </div>\n",
      "        </nav>\n",
      "        <div class=\"ssrcss-11h1iqi-ProductNavigationContainer e19b3odl1\">\n",
      "         <div class=\"ssrcss-icu1rp-Masthead esbu9dd2\" data-testid=\"masthead\">\n",
      "          <div class=\"ssrcss-4y0s1t-Wrap e42f8511\">\n",
      "           <div class=\"ssrcss-12x0ma7-ContentWrapper esbu9dd0\">\n",
      "            <div class=\"ssrcss-1nqrevo-LogoWrapper esbu9dd5\">\n",
      "             <a class=\"ssrcss-1vyfvn-LogoLink esbu9dd4\" href=\"/sport\">\n",
      "              <svg aria-hidden=\"true\" class=\"ssrcss-18958r2-LogoIcon esbu9dd7\" focusable=\"false\" preserveaspectratio=\"xMinYMid meet\" role=\"presentation\" viewbox=\"0 0 762 170\" xmlns=\"http://www.w3.org/2000/svg\">\n",
      "               <path d=\"M53.168 170c-8.976 0-17.837-.989-26.584-2.966-8.747-1.978-17.152-5.097-25.215-9.356v-31.49c16.278 9.888 33.544 14.832 51.799 14.832 10.344 0 18.217-1.75 23.617-5.248 5.4-3.5 8.1-8.367 8.1-14.604 0-4.716-1.33-8.405-3.992-11.067-2.663-2.663-6.2-4.792-10.611-6.39-4.412-1.597-9.356-3.08-14.832-4.45-8.976-2.129-16.886-4.563-23.732-7.301-6.846-2.739-12.626-5.971-17.342-9.698C9.66 78.535 6.085 74.047 3.65 68.799 1.217 63.55 0 57.275 0 49.973 0 39.63 2.624 30.73 7.872 23.275c5.249-7.454 12.665-13.197 22.249-17.228C39.705 2.016 51.114 0 64.349 0c8.671 0 17.19.989 25.557 2.966 8.367 1.978 15.897 4.64 22.59 7.987v31.034c-6.693-4.108-14.261-7.302-22.704-9.584-8.443-2.282-16.924-3.423-25.443-3.423-9.28 0-16.468 1.597-21.564 4.792-5.096 3.194-7.644 7.758-7.644 13.691 0 4.26 1.217 7.644 3.65 10.154 2.435 2.51 5.896 4.564 10.384 6.162 4.487 1.597 9.774 3.156 15.859 4.677 7.758 1.978 14.984 4.146 21.677 6.504 6.694 2.358 12.589 5.362 17.685 9.013 5.096 3.651 9.051 8.29 11.866 13.92 2.814 5.628 4.221 12.55 4.221 20.765 0 10.8-2.662 20.042-7.986 27.725-5.325 7.682-13.007 13.539-23.047 17.57C79.41 167.984 67.316 170 53.168 170zm94.241-3.423V3.423h58.645c20.993 0 37.118 4.64 48.376 13.92 11.257 9.279 16.885 22.59 16.885 39.932 0 11.41-2.548 21.108-7.644 29.094-5.096 7.987-12.512 14.072-22.248 18.255-9.736 4.184-21.602 6.275-35.598 6.275h-23.731v55.678h-34.685zm34.685-83.288H204c10.345 0 18.217-2.092 23.617-6.276 5.4-4.183 8.101-10.762 8.101-19.738 0-8.975-2.7-15.593-8.1-19.852-5.401-4.26-13.197-6.39-23.39-6.39h-22.134V83.29zM371.49 0c12.322 0 23.465 1.978 33.43 5.933 9.964 3.955 18.483 9.622 25.557 17 7.073 7.378 12.512 16.277 16.315 26.698 3.803 10.42 5.705 22.172 5.705 35.255 0 12.93-1.902 24.644-5.705 35.14-3.803 10.498-9.242 19.473-16.315 26.927-7.074 7.454-15.593 13.159-25.558 17.114-9.964 3.955-21.107 5.933-33.43 5.933-12.321 0-23.464-1.978-33.429-5.933-9.964-3.955-18.483-9.66-25.557-17.114-7.074-7.454-12.512-16.43-16.315-26.926-3.803-10.497-5.705-22.21-5.705-35.141 0-13.083 1.902-24.834 5.705-35.255 3.803-10.42 9.241-19.32 16.315-26.698 7.074-7.378 15.593-13.045 25.557-17C348.025 1.978 359.168 0 371.49 0zm0 139.423c9.28 0 17.266-2.168 23.96-6.504 6.693-4.335 11.79-10.534 15.288-18.597 3.5-8.063 5.249-17.875 5.249-29.436 0-11.562-1.75-21.374-5.249-29.436-3.499-8.063-8.595-14.224-15.288-18.484-6.694-4.26-14.68-6.389-23.96-6.389-9.28 0-17.266 2.13-23.96 6.39-6.693 4.259-11.79 10.42-15.288 18.483-3.5 8.062-5.249 17.874-5.249 29.436 0 11.561 1.75 21.373 5.249 29.436 3.499 8.063 8.595 14.262 15.288 18.597 6.694 4.336 14.68 6.504 23.96 6.504zm143.53-32.175v59.33h-34.684V3.422h59.557c21.45 0 37.917 4.487 49.402 13.463 11.486 8.975 17.228 21.83 17.228 38.564 0 10.8-2.548 20.004-7.644 27.61-5.096 7.607-12.36 13.463-21.792 17.57a2893.49 2893.49 0 0 1 20.309 32.518 1848.856 1848.856 0 0 1 20.08 33.43h-40.389a1619.556 1619.556 0 0 0-34-59.33H515.02zm0-27.61h22.819c10.8 0 19.016-1.94 24.644-5.82 5.629-3.878 8.443-10.001 8.443-18.368 0-8.367-2.776-14.528-8.329-18.484-5.552-3.955-13.729-5.932-24.53-5.932H515.02v48.604zM623.866 3.423H761.69V34H710.35v132.577h-35.14V34h-51.343V3.423z\">\n",
      "               </path>\n",
      "              </svg>\n",
      "              <span class=\"visually-hidden ssrcss-1f39n02-VisuallyHidden e16en2lz0\">\n",
      "               BBC Sport\n",
      "              </span>\n",
      "             </a>\n",
      "            </div>\n",
      "           </div>\n",
      "          </div>\n",
      "         </div>\n",
      "         <nav aria-label=\"BBC Sport\" class=\"ssrcss-gmdx8l-Navigation e19b3odl0\" data-testid=\"navigation\">\n",
      "          <div class=\"ssrcss-ehbb92-MainNavBarContainer e12m6nm70\">\n",
      "           <div class=\"e17d5osh1 ssrcss-40dop0-MenuContainer-PrimaryNavBarContainer ebbwlb0\">\n",
      "            <div class=\"ssrcss-4y0s1t-Wrap e42f8511\">\n",
      "             <div class=\"ssrcss-15o6r8s-PrimaryListContainer e17d5osh0\" id=\"product-navigation-menu\">\n",
      "              <div class=\"ssrcss-1xa2nq9-ToggleContainer etzr2fk0\">\n",
      "               <a class=\"ssrcss-ckisij-StyledToggle ekfn8591\" href=\"/sport/all-sports\">\n",
      "                <span class=\"ssrcss-uq8y1d-IconWrapper ekfn8590\" data-testid=\"actions:list-view-text\">\n",
      "                 <svg aria-hidden=\"true\" class=\"ssrcss-xi5oyi-StyledIcon e161cein1\" focusable=\"false\" height=\"1em\" viewbox=\"0 0 32 32\" width=\"1em\">\n",
      "                  <path d=\"M1 7.5h30V1.9H1zm0 22.6h30v-5.6H1zm0-11.3h30v-5.6H1z\">\n",
      "                  </path>\n",
      "                 </svg>\n",
      "                </span>\n",
      "                Menu\n",
      "               </a>\n",
      "              </div>\n",
      "              <div class=\"ssrcss-1or42oc-MenuListContainer e14xdrat2\" hidden=\"\">\n",
      "               <ul class=\"ssrcss-1vxmun4-StyledMenuList e14xdrat1\" role=\"list\">\n",
      "                <li class=\"ssrcss-or45ca-StyledMenuItem eis6szr3\">\n",
      "                 <a class=\"ssrcss-162z3cq-StyledLink eis6szr2\" href=\"/sport\">\n",
      "                  <span class=\"ssrcss-1u47p8g-LinkTextContainer eis6szr1\">\n",
      "                   Home\n",
      "                  </span>\n",
      "                 </a>\n",
      "                </li>\n",
      "                <li aria-current=\"true\" class=\"ssrcss-or45ca-StyledMenuItem eis6szr3\">\n",
      "                 <a class=\"ssrcss-t8swvy-StyledLink eis6szr2\" href=\"/sport/football\">\n",
      "                  <span class=\"ssrcss-1u47p8g-LinkTextContainer eis6szr1\">\n",
      "                   Football\n",
      "                  </span>\n",
      "                 </a>\n",
      "                </li>\n",
      "                <li class=\"ssrcss-or45ca-StyledMenuItem eis6szr3\">\n",
      "                 <a class=\"ssrcss-162z3cq-StyledLink eis6szr2\" href=\"/sport/cricket\">\n",
      "                  <span class=\"ssrcss-1u47p8g-LinkTextContainer eis6szr1\">\n",
      "                   Cricket\n",
      "                  </span>\n",
      "                 </a>\n",
      "                </li>\n",
      "                <li class=\"ssrcss-or45ca-StyledMenuItem eis6szr3\">\n",
      "                 <a class=\"ssrcss-162z3cq-StyledLink eis6szr2\" href=\"/sport/formula1\">\n",
      "                  <span class=\"ssrcss-1u47p8g-LinkTextContainer eis6szr1\">\n",
      "                   Formula 1\n",
      "                  </span>\n",
      "                 </a>\n",
      "                </li>\n",
      "                <li class=\"ssrcss-or45ca-StyledMenuItem eis6szr3\">\n",
      "                 <a class=\"ssrcss-162z3cq-StyledLink eis6szr2\" href=\"/sport/rugby-union\">\n",
      "                  <span class=\"ssrcss-1u47p8g-LinkTextContainer eis6szr1\">\n",
      "                   Rugby U\n",
      "                  </span>\n",
      "                 </a>\n",
      "                </li>\n",
      "                <li class=\"ssrcss-or45ca-StyledMenuItem eis6szr3\">\n",
      "                 <a class=\"ssrcss-162z3cq-StyledLink eis6szr2\" href=\"/sport/tennis\">\n",
      "                  <span class=\"ssrcss-1u47p8g-LinkTextContainer eis6szr1\">\n",
      "                   Tennis\n",
      "                  </span>\n",
      "                 </a>\n",
      "                </li>\n",
      "                <li class=\"ssrcss-or45ca-StyledMenuItem eis6szr3\">\n",
      "                 <a class=\"ssrcss-162z3cq-StyledLink eis6szr2\" href=\"/sport/golf\">\n",
      "                  <span class=\"ssrcss-1u47p8g-LinkTextContainer eis6szr1\">\n",
      "                   Golf\n",
      "                  </span>\n",
      "                 </a>\n",
      "                </li>\n",
      "                <li class=\"ssrcss-or45ca-StyledMenuItem eis6szr3\">\n",
      "                 <a class=\"ssrcss-162z3cq-StyledLink eis6szr2\" href=\"/sport/athletics\">\n",
      "                  <span class=\"ssrcss-1u47p8g-LinkTextContainer eis6szr1\">\n",
      "                   Athletics\n",
      "                  </span>\n",
      "                 </a>\n",
      "                </li>\n",
      "                <li class=\"ssrcss-or45ca-StyledMenuItem eis6szr3\">\n",
      "                 <a class=\"ssrcss-162z3cq-StyledLink eis6szr2\" href=\"/sport/football/womens-european-championship\">\n",
      "                  <span class=\"ssrcss-1u47p8g-LinkTextContainer eis6szr1\">\n",
      "                   Euro 2025\n",
      "                  </span>\n",
      "                 </a>\n",
      "                </li>\n",
      "                <li class=\"ssrcss-or45ca-StyledMenuItem eis6szr3\">\n",
      "                 <a class=\"ssrcss-162z3cq-StyledLink eis6szr2\" href=\"/sport/cycling\">\n",
      "                  <span class=\"ssrcss-1u47p8g-LinkTextContainer eis6szr1\">\n",
      "                   Cycling\n",
      "                  </span>\n",
      "                 </a>\n",
      "                </li>\n",
      "               </ul>\n",
      "              </div>\n",
      "              <div class=\"ssrcss-zfkh5e-ToggleContainer enbola60\" data-testid=\"more-menu-button\">\n",
      "               <a class=\"ssrcss-ckisij-StyledToggle ekfn8591\" href=\"/sport/all-sports\">\n",
      "                <span class=\"ssrcss-uq8y1d-IconWrapper ekfn8590\" data-testid=\"actions:list-view-text\">\n",
      "                 <svg aria-hidden=\"true\" class=\"ssrcss-xi5oyi-StyledIcon e161cein1\" focusable=\"false\" height=\"1em\" viewbox=\"0 0 32 32\" width=\"1em\">\n",
      "                  <path d=\"M1 7.5h30V1.9H1zm0 22.6h30v-5.6H1zm0-11.3h30v-5.6H1z\">\n",
      "                  </path>\n",
      "                 </svg>\n",
      "                </span>\n",
      "                More\n",
      "               </a>\n",
      "              </div>\n",
      "             </div>\n",
      "            </div>\n",
      "           </div>\n",
      "           <div class=\"e1135wx61 ssrcss-36jm8h-MenuContainer-MoreMenuWrapper ebbwlb0\">\n",
      "            <div class=\"ssrcss-4y0s1t-Wrap e42f8511\">\n",
      "             <div class=\"ssrcss-wdgq9j-MoreMenuListContainer e1135wx60\" id=\"product-navigation-more-menu\">\n",
      "              <div class=\"ssrcss-j6f6xh-MenuListContainer e14xdrat2\" hidden=\"\">\n",
      "               <strong class=\"ssrcss-1mlqmic-ListTitle e14xdrat0\">\n",
      "                A-Z Sports\n",
      "               </strong>\n",
      "               <ul class=\"ssrcss-1mt0jbo-StyledMenuList e14xdrat1\" role=\"list\">\n",
      "                <li class=\"ssrcss-g1n074-StyledMenuItem eis6szr3\">\n",
      "                 <a class=\"ssrcss-1bzy3wo-StyledLink eis6szr2\" href=\"/sport/american-football\">\n",
      "                  <span class=\"ssrcss-i9csl0-LinkTextContainer eis6szr1\">\n",
      "                   American Football\n",
      "                  </span>\n",
      "                 </a>\n",
      "                </li>\n",
      "                <li class=\"ssrcss-g1n074-StyledMenuItem eis6szr3\">\n",
      "                 <a class=\"ssrcss-1bzy3wo-StyledLink eis6szr2\" href=\"/sport/athletics\">\n",
      "                  <span class=\"ssrcss-i9csl0-LinkTextContainer eis6szr1\">\n",
      "                   Athletics\n",
      "                  </span>\n",
      "                 </a>\n",
      "                </li>\n",
      "                <li class=\"ssrcss-g1n074-StyledMenuItem eis6szr3\">\n",
      "                 <a class=\"ssrcss-1bzy3wo-StyledLink eis6szr2\" href=\"/sport/basketball\">\n",
      "                  <span class=\"ssrcss-i9csl0-LinkTextContainer eis6szr1\">\n",
      "                   Basketball\n",
      "                  </span>\n",
      "                 </a>\n",
      "                </li>\n",
      "                <li class=\"ssrcss-g1n074-StyledMenuItem eis6szr3\">\n",
      "                 <a class=\"ssrcss-1bzy3wo-StyledLink eis6szr2\" href=\"/sport/boxing\">\n",
      "                  <span class=\"ssrcss-i9csl0-LinkTextContainer eis6szr1\">\n",
      "                   Boxing\n",
      "                  </span>\n",
      "                 </a>\n",
      "                </li>\n",
      "                <li class=\"ssrcss-g1n074-StyledMenuItem eis6szr3\">\n",
      "                 <a class=\"ssrcss-1bzy3wo-StyledLink eis6szr2\" href=\"/sport/cricket\">\n",
      "                  <span class=\"ssrcss-i9csl0-LinkTextContainer eis6szr1\">\n",
      "                   Cricket\n",
      "                  </span>\n",
      "                 </a>\n",
      "                </li>\n",
      "                <li class=\"ssrcss-g1n074-StyledMenuItem eis6szr3\">\n",
      "                 <a class=\"ssrcss-1bzy3wo-StyledLink eis6szr2\" href=\"/sport/cycling\">\n",
      "                  <span class=\"ssrcss-i9csl0-LinkTextContainer eis6szr1\">\n",
      "                   Cycling\n",
      "                  </span>\n",
      "                 </a>\n",
      "                </li>\n",
      "                <li class=\"ssrcss-g1n074-StyledMenuItem eis6szr3\">\n",
      "                 <a class=\"ssrcss-1bzy3wo-StyledLink eis6szr2\" href=\"/sport/darts\">\n",
      "                  <span class=\"ssrcss-i9csl0-LinkTextContainer eis6szr1\">\n",
      "                   Darts\n",
      "                  </span>\n",
      "                 </a>\n",
      "                </li>\n",
      "                <li class=\"ssrcss-g1n074-StyledMenuItem eis6szr3\">\n",
      "                 <a class=\"ssrcss-1bzy3wo-StyledLink eis6szr2\" href=\"/sport/disability-sport\">\n",
      "                  <span class=\"ssrcss-i9csl0-LinkTextContainer eis6szr1\">\n",
      "                   Disability Sport\n",
      "                  </span>\n",
      "                 </a>\n",
      "                </li>\n",
      "                <li class=\"ssrcss-g1n074-StyledMenuItem eis6szr3\">\n",
      "                 <a class=\"ssrcss-1bzy3wo-StyledLink eis6szr2\" href=\"/sport/football\">\n",
      "                  <span class=\"ssrcss-i9csl0-LinkTextContainer eis6szr1\">\n",
      "                   Football\n",
      "                  </span>\n",
      "                 </a>\n",
      "                </li>\n",
      "                <li class=\"ssrcss-g1n074-StyledMenuItem eis6szr3\">\n",
      "                 <a class=\"ssrcss-1bzy3wo-StyledLink eis6szr2\" href=\"/sport/formula1\">\n",
      "                  <span class=\"ssrcss-i9csl0-LinkTextContainer eis6szr1\">\n",
      "                   Formula 1\n",
      "                  </span>\n",
      "                 </a>\n",
      "                </li>\n",
      "                <li class=\"ssrcss-g1n074-StyledMenuItem eis6szr3\">\n",
      "                 <a class=\"ssrcss-1bzy3wo-StyledLink eis6szr2\" href=\"/sport/northern-ireland/gaelic-games\">\n",
      "                  <span class=\"ssrcss-i9csl0-LinkTextContainer eis6szr1\">\n",
      "                   Gaelic Games\n",
      "                  </span>\n",
      "                 </a>\n",
      "                </li>\n",
      "                <li class=\"ssrcss-g1n074-StyledMenuItem eis6szr3\">\n",
      "                 <a class=\"ssrcss-1bzy3wo-StyledLink eis6szr2\" href=\"/sport/golf\">\n",
      "                  <span class=\"ssrcss-i9csl0-LinkTextContainer eis6szr1\">\n",
      "                   Golf\n",
      "                  </span>\n",
      "                 </a>\n",
      "                </li>\n",
      "                <li class=\"ssrcss-g1n074-StyledMenuItem eis6szr3\">\n",
      "                 <a class=\"ssrcss-1bzy3wo-StyledLink eis6szr2\" href=\"/sport/gymnastics\">\n",
      "                  <span class=\"ssrcss-i9csl0-LinkTextContainer eis6szr1\">\n",
      "                   Gymnastics\n",
      "                  </span>\n",
      "                 </a>\n",
      "                </li>\n",
      "                <li class=\"ssrcss-g1n074-StyledMenuItem eis6szr3\">\n",
      "                 <a class=\"ssrcss-1bzy3wo-StyledLink eis6szr2\" href=\"/sport/horse-racing\">\n",
      "                  <span class=\"ssrcss-i9csl0-LinkTextContainer eis6szr1\">\n",
      "                   Horse Racing\n",
      "                  </span>\n",
      "                 </a>\n",
      "                </li>\n",
      "                <li class=\"ssrcss-g1n074-StyledMenuItem eis6szr3\">\n",
      "                 <a class=\"ssrcss-1bzy3wo-StyledLink eis6szr2\" href=\"/sport/mixed-martial-arts\">\n",
      "                  <span class=\"ssrcss-i9csl0-LinkTextContainer eis6szr1\">\n",
      "                   Mixed Martial Arts\n",
      "                  </span>\n",
      "                 </a>\n",
      "                </li>\n",
      "                <li class=\"ssrcss-g1n074-StyledMenuItem eis6szr3\">\n",
      "                 <a class=\"ssrcss-1bzy3wo-StyledLink eis6szr2\" href=\"/sport/motorsport\">\n",
      "                  <span class=\"ssrcss-i9csl0-LinkTextContainer eis6szr1\">\n",
      "                   Motorsport\n",
      "                  </span>\n",
      "                 </a>\n",
      "                </li>\n",
      "                <li class=\"ssrcss-g1n074-StyledMenuItem eis6szr3\">\n",
      "                 <a class=\"ssrcss-1bzy3wo-StyledLink eis6szr2\" href=\"/sport/netball\">\n",
      "                  <span class=\"ssrcss-i9csl0-LinkTextContainer eis6szr1\">\n",
      "                   Netball\n",
      "                  </span>\n",
      "                 </a>\n",
      "                </li>\n",
      "                <li class=\"ssrcss-g1n074-StyledMenuItem eis6szr3\">\n",
      "                 <a class=\"ssrcss-1bzy3wo-StyledLink eis6szr2\" href=\"/sport/olympics\">\n",
      "                  <span class=\"ssrcss-i9csl0-LinkTextContainer eis6szr1\">\n",
      "                   Olympic Sports\n",
      "                  </span>\n",
      "                 </a>\n",
      "                </li>\n",
      "                <li class=\"ssrcss-g1n074-StyledMenuItem eis6szr3\">\n",
      "                 <a class=\"ssrcss-1bzy3wo-StyledLink eis6szr2\" href=\"/sport/rugby-league\">\n",
      "                  <span class=\"ssrcss-i9csl0-LinkTextContainer eis6szr1\">\n",
      "                   Rugby League\n",
      "                  </span>\n",
      "                 </a>\n",
      "                </li>\n",
      "                <li class=\"ssrcss-g1n074-StyledMenuItem eis6szr3\">\n",
      "                 <a class=\"ssrcss-1bzy3wo-StyledLink eis6szr2\" href=\"/sport/rugby-union\">\n",
      "                  <span class=\"ssrcss-i9csl0-LinkTextContainer eis6szr1\">\n",
      "                   Rugby Union\n",
      "                  </span>\n",
      "                 </a>\n",
      "                </li>\n",
      "                <li class=\"ssrcss-g1n074-StyledMenuItem eis6szr3\">\n",
      "                 <a class=\"ssrcss-1bzy3wo-StyledLink eis6szr2\" href=\"/sport/snooker\">\n",
      "                  <span class=\"ssrcss-i9csl0-LinkTextContainer eis6szr1\">\n",
      "                   Snooker\n",
      "                  </span>\n",
      "                 </a>\n",
      "                </li>\n",
      "                <li class=\"ssrcss-g1n074-StyledMenuItem eis6szr3\">\n",
      "                 <a class=\"ssrcss-1bzy3wo-StyledLink eis6szr2\" href=\"/sport/swimming\">\n",
      "                  <span class=\"ssrcss-i9csl0-LinkTextContainer eis6szr1\">\n",
      "                   Swimming\n",
      "                  </span>\n",
      "                 </a>\n",
      "                </li>\n",
      "                <li class=\"ssrcss-g1n074-StyledMenuItem eis6szr3\">\n",
      "                 <a class=\"ssrcss-1bzy3wo-StyledLink eis6szr2\" href=\"/sport/tennis\">\n",
      "                  <span class=\"ssrcss-i9csl0-LinkTextContainer eis6szr1\">\n",
      "                   Tennis\n",
      "                  </span>\n",
      "                 </a>\n",
      "                </li>\n",
      "                <li class=\"ssrcss-g1n074-StyledMenuItem eis6szr3\">\n",
      "                 <a class=\"ssrcss-1bzy3wo-StyledLink eis6szr2\" href=\"/sport/winter-sports\">\n",
      "                  <span class=\"ssrcss-i9csl0-LinkTextContainer eis6szr1\">\n",
      "                   Winter Sports\n",
      "                  </span>\n",
      "                 </a>\n",
      "                </li>\n",
      "                <li class=\"ssrcss-g1n074-StyledMenuItem eis6szr3\">\n",
      "                 <a class=\"ssrcss-1bzy3wo-StyledLink eis6szr2\" href=\"/sport/all-sports\">\n",
      "                  <span class=\"ssrcss-i9csl0-LinkTextContainer eis6szr1\">\n",
      "                   Full Sports A-Z\n",
      "                  </span>\n",
      "                 </a>\n",
      "                </li>\n",
      "               </ul>\n",
      "              </div>\n",
      "              <div class=\"ssrcss-j6f6xh-MenuListContainer e14xdrat2\" hidden=\"\">\n",
      "               <strong class=\"ssrcss-1mlqmic-ListTitle e14xdrat0\">\n",
      "                More from Sport\n",
      "               </strong>\n",
      "               <ul class=\"ssrcss-1mt0jbo-StyledMenuList e14xdrat1\" role=\"list\">\n",
      "                <li class=\"ssrcss-g1n074-StyledMenuItem eis6szr3\">\n",
      "                 <a class=\"ssrcss-1bzy3wo-StyledLink eis6szr2\" href=\"/sport/england\">\n",
      "                  <span class=\"ssrcss-i9csl0-LinkTextContainer eis6szr1\">\n",
      "                   England\n",
      "                  </span>\n",
      "                 </a>\n",
      "                </li>\n",
      "                <li class=\"ssrcss-g1n074-StyledMenuItem eis6szr3\">\n",
      "                 <a class=\"ssrcss-1bzy3wo-StyledLink eis6szr2\" href=\"/sport/scotland\">\n",
      "                  <span class=\"ssrcss-i9csl0-LinkTextContainer eis6szr1\">\n",
      "                   Scotland\n",
      "                  </span>\n",
      "                 </a>\n",
      "                </li>\n",
      "                <li class=\"ssrcss-g1n074-StyledMenuItem eis6szr3\">\n",
      "                 <a class=\"ssrcss-1bzy3wo-StyledLink eis6szr2\" href=\"/sport/wales\">\n",
      "                  <span class=\"ssrcss-i9csl0-LinkTextContainer eis6szr1\">\n",
      "                   Wales\n",
      "                  </span>\n",
      "                 </a>\n",
      "                </li>\n",
      "                <li class=\"ssrcss-g1n074-StyledMenuItem eis6szr3\">\n",
      "                 <a class=\"ssrcss-1bzy3wo-StyledLink eis6szr2\" href=\"/sport/northern-ireland\">\n",
      "                  <span class=\"ssrcss-i9csl0-LinkTextContainer eis6szr1\">\n",
      "                   Northern Ireland\n",
      "                  </span>\n",
      "                 </a>\n",
      "                </li>\n",
      "                <li class=\"ssrcss-g1n074-StyledMenuItem eis6szr3\">\n",
      "                 <a class=\"ssrcss-1bzy3wo-StyledLink eis6szr2\" href=\"/sport/15890345\">\n",
      "                  <span class=\"ssrcss-i9csl0-LinkTextContainer eis6szr1\">\n",
      "                   News Feeds\n",
      "                  </span>\n",
      "                 </a>\n",
      "                </li>\n",
      "                <li class=\"ssrcss-g1n074-StyledMenuItem eis6szr3\">\n",
      "                 <a class=\"ssrcss-1bzy3wo-StyledLink eis6szr2\" href=\"/sport/15561348\">\n",
      "                  <span class=\"ssrcss-i9csl0-LinkTextContainer eis6szr1\">\n",
      "                   Help &amp; FAQs\n",
      "                  </span>\n",
      "                 </a>\n",
      "                </li>\n",
      "               </ul>\n",
      "              </div>\n",
      "             </div>\n",
      "            </div>\n",
      "           </div>\n",
      "          </div>\n",
      "          <div class=\"e19jy4800 ssrcss-19dj471-MenuContainer-SecondaryNavBarContainer ebbwlb0\">\n",
      "           <div class=\"ssrcss-4y0s1t-Wrap e42f8511\">\n",
      "            <div class=\"ssrcss-1toi6ts-MenuListContainer e14xdrat2\" hidden=\"\">\n",
      "             <ul class=\"ssrcss-18a3ezq-StyledMenuList e14xdrat1\" role=\"list\">\n",
      "              <li class=\"ssrcss-1y9ep4i-StyledMenuItem eis6szr3\">\n",
      "               <a class=\"ssrcss-13wbrke-StyledLink eis6szr2\" href=\"/sport/football/premier-league\">\n",
      "                <span class=\"ssrcss-1mstwv3-LinkTextContainer eis6szr1\">\n",
      "                 Premier League\n",
      "                </span>\n",
      "                <div class=\"ssrcss-p4fm83-IconContainer eis6szr0\" data-testid=\"arrows:chevron-right\">\n",
      "                 <svg aria-hidden=\"true\" class=\"ssrcss-xi5oyi-StyledIcon e161cein1\" focusable=\"false\" height=\"1em\" viewbox=\"0 0 32 32\" width=\"1em\">\n",
      "                  <path d=\"M21.6 14.3 5.5 31h6.4l14.6-15L11.9 1H5.5l16.1 16.7z\">\n",
      "                  </path>\n",
      "                 </svg>\n",
      "                </div>\n",
      "               </a>\n",
      "              </li>\n",
      "              <li class=\"ssrcss-1y9ep4i-StyledMenuItem eis6szr3\">\n",
      "               <a class=\"ssrcss-13wbrke-StyledLink eis6szr2\" href=\"/sport/football/premier-league/scores-fixtures\">\n",
      "                <span class=\"ssrcss-1mstwv3-LinkTextContainer eis6szr1\">\n",
      "                 Scores &amp; Fixtures\n",
      "                </span>\n",
      "               </a>\n",
      "              </li>\n",
      "              <li class=\"ssrcss-1y9ep4i-StyledMenuItem eis6szr3\">\n",
      "               <a class=\"ssrcss-13wbrke-StyledLink eis6szr2\" href=\"/sport/football/premier-league/table\">\n",
      "                <span class=\"ssrcss-1mstwv3-LinkTextContainer eis6szr1\">\n",
      "                 Table\n",
      "                </span>\n",
      "               </a>\n",
      "              </li>\n",
      "              <li aria-current=\"true\" class=\"ssrcss-1y9ep4i-StyledMenuItem eis6szr3\">\n",
      "               <a class=\"ssrcss-1ncu3vb-StyledLink eis6szr2\" href=\"/sport/football/premier-league/top-scorers\">\n",
      "                <span class=\"ssrcss-1mstwv3-LinkTextContainer eis6szr1\">\n",
      "                 Top Scorers\n",
      "                </span>\n",
      "               </a>\n",
      "              </li>\n",
      "             </ul>\n",
      "            </div>\n",
      "           </div>\n",
      "          </div>\n",
      "         </nav>\n",
      "        </div>\n",
      "       </header>\n",
      "      </div>\n",
      "     </div>\n",
      "     <div>\n",
      "      <div class=\"ssrcss-t9s73x-StandardZone e1k195vp0\">\n",
      "       <main data-testid=\"main-content\" id=\"main-content\" style=\"height:100%\">\n",
      "        <div class=\"ssrcss-4y0s1t-Wrap e42f8511\">\n",
      "         <div class=\"ssrcss-gqrsw0-Wrapper e1jly7zb4\">\n",
      "          <div class=\"ssrcss-1qdh4qq-HeadingWrapper e1jly7zb3\">\n",
      "           <h1 class=\"ssrcss-pbttu9-Heading e10rt3ze0\" id=\"main-heading\" tabindex=\"-1\" type=\"normal\">\n",
      "            Premier League Top Scorers\n",
      "           </h1>\n",
      "          </div>\n",
      "          <div class=\"ssrcss-59a716-SearchWrapper e1jly7zb2\">\n",
      "           <div class=\"ssrcss-1hy9pi-StyledComboboxWrapper emkmupf0\">\n",
      "            <div class=\"ssrcss-xifuke-StyledWrapper e1ld3nu78\">\n",
      "             <div class=\"ssrcss-2j3s5k-SearchBarWrapper e1ld3nu75\">\n",
      "              <div class=\"ssrcss-1gbn3xw-StyledDiv e1ld3nu77\">\n",
      "               <div class=\"ssrcss-kxppca-FocusDiv e1ld3nu76\">\n",
      "                <label for=\"searchInput\">\n",
      "                 <span class=\"visually-hidden ssrcss-1f39n02-VisuallyHidden e16en2lz0\">\n",
      "                 </span>\n",
      "                </label>\n",
      "                <span class=\"ssrcss-zbw5ic-IconWrapper e1ld3nu71\">\n",
      "                 <svg aria-hidden=\"true\" class=\"ssrcss-xi5oyi-StyledIcon e161cein1\" focusable=\"false\" height=\"1em\" viewbox=\"0 0 32 32\" width=\"1em\">\n",
      "                  <path d=\"m30.6 28.1-8.3-8.3c1.5-2 2.4-4.4 2.4-7.2C24.7 6 19.6 1 13 1S1.4 6.1 1.4 12.7 6.5 24.3 13 24.3c2.3 0 4.4-.6 6.2-1.8l8.5 8.5zM4 12.6c0-5.2 3.9-9.1 9-9.1s9 3.9 9 9.1-3.9 9.1-9 9.1-9-3.9-9-9.1\">\n",
      "                  </path>\n",
      "                 </svg>\n",
      "                </span>\n",
      "                <input aria-activedescendant=\"\" aria-autocomplete=\"list\" aria-controls=\"suggestions\" aria-expanded=\"false\" aria-haspopup=\"listbox\" autocomplete=\"off\" class=\"ssrcss-9pm56o-StyledInput e1ld3nu72\" id=\"searchInput\" name=\"q\" placeholder=\"Enter a team or competition\" role=\"combobox\" value=\"\"/>\n",
      "               </div>\n",
      "              </div>\n",
      "             </div>\n",
      "            </div>\n",
      "           </div>\n",
      "           <form class=\"ssrcss-1ps7ft7-StyledFormWrapper emkmupf1\">\n",
      "            <div class=\"ssrcss-xifuke-StyledWrapper e1ld3nu78\">\n",
      "             <div class=\"ssrcss-2j3s5k-SearchBarWrapper e1ld3nu75\">\n",
      "              <div class=\"ssrcss-1gbn3xw-StyledDiv e1ld3nu77\">\n",
      "               <div class=\"ssrcss-kxppca-FocusDiv e1ld3nu76\">\n",
      "                <label for=\"searchInputNoJs\">\n",
      "                 <span class=\"visually-hidden ssrcss-1f39n02-VisuallyHidden e16en2lz0\">\n",
      "                 </span>\n",
      "                </label>\n",
      "                <span class=\"ssrcss-zbw5ic-IconWrapper e1ld3nu71\">\n",
      "                 <svg aria-hidden=\"true\" class=\"ssrcss-xi5oyi-StyledIcon e161cein1\" focusable=\"false\" height=\"1em\" viewbox=\"0 0 32 32\" width=\"1em\">\n",
      "                  <path d=\"m30.6 28.1-8.3-8.3c1.5-2 2.4-4.4 2.4-7.2C24.7 6 19.6 1 13 1S1.4 6.1 1.4 12.7 6.5 24.3 13 24.3c2.3 0 4.4-.6 6.2-1.8l8.5 8.5zM4 12.6c0-5.2 3.9-9.1 9-9.1s9 3.9 9 9.1-3.9 9.1-9 9.1-9-3.9-9-9.1\">\n",
      "                  </path>\n",
      "                 </svg>\n",
      "                </span>\n",
      "                <input aria-activedescendant=\"\" aria-autocomplete=\"list\" aria-controls=\"suggestionsNoJs\" aria-expanded=\"false\" aria-haspopup=\"listbox\" autocomplete=\"off\" class=\"ssrcss-9pm56o-StyledInput e1ld3nu72\" id=\"searchInputNoJs\" name=\"q\" placeholder=\"Enter a team or competition\" role=\"combobox\" value=\"\"/>\n",
      "               </div>\n",
      "              </div>\n",
      "             </div>\n",
      "            </div>\n",
      "            <button class=\"ssrcss-1y4i773-Button eoocusk1\" id=\"searchButton\" type=\"submit\" width=\"content-length\">\n",
      "             Search\n",
      "            </button>\n",
      "           </form>\n",
      "          </div>\n",
      "          <p class=\"ssrcss-1ujodfj-FallbackMessage e1jly7zb0\">\n",
      "           Top Scorers and Assists will appear here\n",
      "          </p>\n",
      "         </div>\n",
      "        </div>\n",
      "       </main>\n",
      "      </div>\n",
      "     </div>\n",
      "     <div>\n",
      "      <div>\n",
      "       <footer data-testid=\"footer-content\" id=\"footer-content\">\n",
      "        <div class=\"global-footer ssrcss-1cifq5e-GlobalFooterStyling ejnx8uh0\">\n",
      "         <div class=\"ssrcss-4y0s1t-Wrap e42f8511\">\n",
      "          <div class=\"ssrcss-2vow6d-Stack e1y4nx260\" spacing=\"4\">\n",
      "           <ul class=\"ssrcss-rkzzm9-Columns e130hpyp1\" role=\"list\">\n",
      "            <li>\n",
      "             <a class=\"ssrcss-29l7i3-Link-NavigationLink e130hpyp0\" href=\"https://www.bbc.com\">\n",
      "              Home\n",
      "             </a>\n",
      "            </li>\n",
      "            <li>\n",
      "             <a class=\"ssrcss-29l7i3-Link-NavigationLink e130hpyp0\" href=\"https://www.bbc.com/news\">\n",
      "              News\n",
      "             </a>\n",
      "            </li>\n",
      "            <li>\n",
      "             <a class=\"ssrcss-29l7i3-Link-NavigationLink e130hpyp0\" href=\"https://www.bbc.com/sport\">\n",
      "              Sport\n",
      "             </a>\n",
      "            </li>\n",
      "            <li>\n",
      "             <a class=\"ssrcss-29l7i3-Link-NavigationLink e130hpyp0\" href=\"https://www.bbc.com/business\">\n",
      "              Business\n",
      "             </a>\n",
      "            </li>\n",
      "            <li>\n",
      "             <a class=\"ssrcss-29l7i3-Link-NavigationLink e130hpyp0\" href=\"https://www.bbc.com/innovation\">\n",
      "              Innovation\n",
      "             </a>\n",
      "            </li>\n",
      "            <li>\n",
      "             <a class=\"ssrcss-29l7i3-Link-NavigationLink e130hpyp0\" href=\"https://www.bbc.com/culture\">\n",
      "              Culture\n",
      "             </a>\n",
      "            </li>\n",
      "            <li>\n",
      "             <a class=\"ssrcss-29l7i3-Link-NavigationLink e130hpyp0\" href=\"https://www.bbc.com/travel\">\n",
      "              Travel\n",
      "             </a>\n",
      "            </li>\n",
      "            <li>\n",
      "             <a class=\"ssrcss-29l7i3-Link-NavigationLink e130hpyp0\" href=\"https://www.bbc.com/future-planet\">\n",
      "              Earth\n",
      "             </a>\n",
      "            </li>\n",
      "            <li>\n",
      "             <a class=\"ssrcss-29l7i3-Link-NavigationLink e130hpyp0\" href=\"https://www.bbc.com/audio\">\n",
      "              Audio\n",
      "             </a>\n",
      "            </li>\n",
      "            <li>\n",
      "             <a class=\"ssrcss-29l7i3-Link-NavigationLink e130hpyp0\" href=\"https://www.bbc.com/video\">\n",
      "              Video\n",
      "             </a>\n",
      "            </li>\n",
      "            <li>\n",
      "             <a class=\"ssrcss-29l7i3-Link-NavigationLink e130hpyp0\" href=\"https://www.bbc.com/live\">\n",
      "              Live\n",
      "             </a>\n",
      "            </li>\n",
      "           </ul>\n",
      "           <div class=\"ssrcss-1ml6m0y-Stack e1y4nx260\" spacing=\"6\">\n",
      "            <div class=\"ssrcss-17ehax8-Cluster e1ihwmse1\">\n",
      "             <ul class=\"ssrcss-17o89of-ClusterItems e1ihwmse0\" role=\"list\" spacing=\"6\">\n",
      "              <li>\n",
      "               <a class=\"ssrcss-1d9p81h-Link-LegalLink e1nhpvv71\" href=\"https://www.bbc.com/pages/terms-of-use\">\n",
      "                Terms of Use\n",
      "               </a>\n",
      "              </li>\n",
      "              <li>\n",
      "               <a class=\"ssrcss-1d9p81h-Link-LegalLink e1nhpvv71\" href=\"https://www.bbc.co.uk/aboutthebbc\">\n",
      "                About the BBC\n",
      "               </a>\n",
      "              </li>\n",
      "              <li>\n",
      "               <a class=\"ssrcss-1d9p81h-Link-LegalLink e1nhpvv71\" href=\"https://www.bbc.com/pages/privacy-policy\">\n",
      "                Privacy Policy\n",
      "               </a>\n",
      "              </li>\n",
      "              <li>\n",
      "               <a class=\"ssrcss-1d9p81h-Link-LegalLink e1nhpvv71\" href=\"https://www.bbc.com/usingthebbc/cookies\">\n",
      "                Cookies\n",
      "               </a>\n",
      "              </li>\n",
      "              <li>\n",
      "               <a class=\"ssrcss-1d9p81h-Link-LegalLink e1nhpvv71\" href=\"https://www.bbc.co.uk/accessibility\">\n",
      "                Accessibility Help\n",
      "               </a>\n",
      "              </li>\n",
      "              <li>\n",
      "               <a class=\"ssrcss-1d9p81h-Link-LegalLink e1nhpvv71\" href=\"https://www.bbc.co.uk/iplayer/guidance\">\n",
      "                Parental Guidance\n",
      "               </a>\n",
      "              </li>\n",
      "              <li>\n",
      "               <a class=\"ssrcss-1d9p81h-Link-LegalLink e1nhpvv71\" href=\"https://www.bbc.co.uk/contact\">\n",
      "                Contact the BBC\n",
      "               </a>\n",
      "              </li>\n",
      "              <li>\n",
      "               <a class=\"ssrcss-1d9p81h-Link-LegalLink e1nhpvv71\" href=\"https://www.bbc.co.uk/bbcnewsletter\">\n",
      "                BBC emails for you\n",
      "               </a>\n",
      "              </li>\n",
      "              <li>\n",
      "               <a class=\"ssrcss-1d9p81h-Link-LegalLink e1nhpvv71\" href=\"https://www.bbc.com/advertisingcontact/\">\n",
      "                Advertise with us\n",
      "               </a>\n",
      "              </li>\n",
      "             </ul>\n",
      "            </div>\n",
      "            <p class=\"ssrcss-1q0x1qg-Paragraph e1jhz7w10\">\n",
      "             Copyright © 2025 BBC. The BBC is not responsible for the content of external sites.\n",
      "             <a class=\"ssrcss-bosb8n-Link e14mg4ud0\" href=\"https://www.bbc.co.uk/editorialguidelines/guidance/feeds-and-links\">\n",
      "              Read about our approach to external linking.\n",
      "             </a>\n",
      "            </p>\n",
      "           </div>\n",
      "          </div>\n",
      "         </div>\n",
      "        </div>\n",
      "       </footer>\n",
      "      </div>\n",
      "     </div>\n",
      "    </div>\n",
      "   </div>\n",
      "  </div>\n",
      "  <script nonce=\"jnqaEHPArl8n5WE6NzRvA0rCjhgbi0wsgfq82t1QogMUxL8hVT\">\n",
      "   window.__WEBAPP_CONFIG__=\"{\\\"staticBaseUrl\\\":\\\"https://static.files.bbci.co.uk/core\\\",\\\"apiUrl\\\":\\\"/wc-data\\\",\\\"pollingApiUrl\\\":\\\"/wc-poll-data\\\",\\\"hostUrl\\\":\\\"https://www.bbc.co.uk\\\",\\\"cdnHostUrl\\\":\\\"https://web-cdn.api.bbci.co.uk\\\",\\\"reportingEndpoint\\\":\\\"https://webcore.bbc-reporting-api.app/report-endpoint\\\",\\\"webVitalsSampleRate\\\":20,\\\"manifestName\\\":\\\"manifest.1ccdbcfd4cc3bf889128a50903c2b22c81758637.json\\\"}\";\n",
      "  </script>\n",
      "  <script nonce=\"jnqaEHPArl8n5WE6NzRvA0rCjhgbi0wsgfq82t1QogMUxL8hVT\">\n",
      "   window.__INITIAL_DATA__=\"{\\\"data\\\":{\\\"global-navigation?country=in&language=en-GB&service=commercial\\\":{\\\"name\\\":\\\"global-navigation\\\",\\\"props\\\":{\\\"country\\\":\\\"in\\\",\\\"language\\\":\\\"en-GB\\\",\\\"service\\\":\\\"commercial\\\"},\\\"data\\\":{\\\"accessibilityLinks\\\":[{\\\"label\\\":\\\"Skip to content\\\",\\\"url\\\":\\\"#main-heading\\\"},{\\\"label\\\":\\\"Accessibility Help\\\",\\\"url\\\":\\\"https://www.bbc.co.uk/accessibility/\\\"}],\\\"signInLabel\\\":\\\"Sign in\\\",\\\"accountLabel\\\":\\\"Your account\\\",\\\"forYouLabel\\\":\\\"For you\\\",\\\"forYouUrl\\\":\\\"https://www.bbc.co.uk/foryou\\\",\\\"menuLabel\\\":\\\"Menu\\\",\\\"moreLabel\\\":\\\"More\\\",\\\"moreMenuLabel\\\":\\\"More menu\\\",\\\"closeButtonLabel\\\":\\\"Close menu\\\",\\\"disclaimer\\\":{\\\"text\\\":\\\"Copyright © 2025 BBC. The BBC is not responsible for the content of external sites.\\\",\\\"link\\\":{\\\"url\\\":\\\"https://www.bbc.co.uk/editorialguidelines/guidance/feeds-and-links\\\",\\\"text\\\":\\\"Read about our approach to external linking.\\\"}},\\\"legalLinks\\\":[{\\\"url\\\":\\\"https://www.bbc.com/pages/terms-of-use\\\",\\\"label\\\":\\\"Terms of Use\\\"},{\\\"url\\\":\\\"https://www.bbc.co.uk/aboutthebbc\\\",\\\"label\\\":\\\"About the BBC\\\"},{\\\"url\\\":\\\"https://www.bbc.com/pages/privacy-policy\\\",\\\"label\\\":\\\"Privacy Policy\\\"},{\\\"url\\\":\\\"https://www.bbc.com/usingthebbc/cookies\\\",\\\"label\\\":\\\"Cookies\\\"},{\\\"url\\\":\\\"https://www.bbc.co.uk/accessibility\\\",\\\"label\\\":\\\"Accessibility Help\\\"},{\\\"url\\\":\\\"https://www.bbc.co.uk/iplayer/guidance\\\",\\\"label\\\":\\\"Parental Guidance\\\"},{\\\"url\\\":\\\"https://www.bbc.co.uk/contact\\\",\\\"label\\\":\\\"Contact the BBC\\\"},{\\\"url\\\":\\\"https://www.bbc.co.uk/bbcnewsletter\\\",\\\"label\\\":\\\"BBC emails for you\\\"},{\\\"url\\\":\\\"https://www.bbc.com/advertisingcontact/\\\",\\\"label\\\":\\\"Advertise with us\\\"},{\\\"opens\\\":\\\"privacy-management\\\",\\\"label\\\":\\\"Do not share or sell my info\\\"}],\\\"navigationType\\\":\\\"Commercial\\\",\\\"homepageLink\\\":{\\\"label\\\":\\\"BBC Homepage\\\",\\\"url\\\":\\\"https://www.bbc.com\\\"},\\\"searchLink\\\":{\\\"label\\\":\\\"Search BBC\\\",\\\"url\\\":\\\"https://www.bbc.co.uk/search\\\"},\\\"navigationLinks\\\":[{\\\"label\\\":\\\"Home\\\",\\\"url\\\":\\\"https://www.bbc.com\\\"},{\\\"label\\\":\\\"News\\\",\\\"url\\\":\\\"https://www.bbc.com/news\\\"},{\\\"label\\\":\\\"Sport\\\",\\\"url\\\":\\\"https://www.bbc.com/sport\\\"},{\\\"label\\\":\\\"Business\\\",\\\"url\\\":\\\"https://www.bbc.com/business\\\"},{\\\"label\\\":\\\"Innovation\\\",\\\"url\\\":\\\"https://www.bbc.com/innovation\\\"},{\\\"label\\\":\\\"Culture\\\",\\\"url\\\":\\\"https://www.bbc.com/culture\\\"},{\\\"label\\\":\\\"Travel\\\",\\\"url\\\":\\\"https://www.bbc.com/travel\\\"},{\\\"label\\\":\\\"Earth\\\",\\\"url\\\":\\\"https://www.bbc.com/future-planet\\\"},{\\\"label\\\":\\\"Audio\\\",\\\"url\\\":\\\"https://www.bbc.com/audio\\\"},{\\\"label\\\":\\\"Video\\\",\\\"url\\\":\\\"https://www.bbc.com/video\\\"},{\\\"label\\\":\\\"Live\\\",\\\"url\\\":\\\"https://www.bbc.com/live\\\"}]},\\\"importance\\\":\\\"PRIMARY\\\",\\\"isPersonalised\\\":false,\\\"hasFetcher\\\":true},\\\"product-navigation?assetUri=%2Fsport%2Ffootball%2Fpremier-league%2Ftop-scorers&country=in&fixedSecondaryNavigation=false&onlyShowSecondaryNav=false&product=sport&showProductNavigation=true\\\":{\\\"name\\\":\\\"product-navigation\\\",\\\"props\\\":{\\\"assetUri\\\":\\\"/sport/football/premier-league/top-scorers\\\",\\\"product\\\":\\\"sport\\\",\\\"country\\\":\\\"in\\\",\\\"showProductNavigation\\\":true,\\\"onlyShowSecondaryNav\\\":false,\\\"fixedSecondaryNavigation\\\":false},\\\"data\\\":{\\\"masthead\\\":{\\\"link\\\":{\\\"url\\\":\\\"/sport\\\"},\\\"logo\\\":\\\"logo:sport\\\",\\\"text\\\":\\\"BBC Sport\\\"},\\\"productNav\\\":{\\\"ariaLabel\\\":\\\"BBC Sport\\\",\\\"primary\\\":[{\\\"label\\\":\\\"Home\\\",\\\"url\\\":\\\"/sport\\\",\\\"selected\\\":false,\\\"hidden\\\":false},{\\\"label\\\":\\\"Football\\\",\\\"url\\\":\\\"/sport/football\\\",\\\"selected\\\":true,\\\"hidden\\\":false},{\\\"label\\\":\\\"Cricket\\\",\\\"url\\\":\\\"/sport/cricket\\\",\\\"selected\\\":false,\\\"hidden\\\":false},{\\\"label\\\":\\\"Formula 1\\\",\\\"url\\\":\\\"/sport/formula1\\\",\\\"selected\\\":false,\\\"hidden\\\":false},{\\\"label\\\":\\\"Rugby U\\\",\\\"url\\\":\\\"/sport/rugby-union\\\",\\\"selected\\\":false,\\\"hidden\\\":false},{\\\"label\\\":\\\"Tennis\\\",\\\"url\\\":\\\"/sport/tennis\\\",\\\"selected\\\":false,\\\"hidden\\\":false},{\\\"label\\\":\\\"Golf\\\",\\\"url\\\":\\\"/sport/golf\\\",\\\"selected\\\":false,\\\"hidden\\\":false},{\\\"label\\\":\\\"Athletics\\\",\\\"url\\\":\\\"/sport/athletics\\\",\\\"selected\\\":false,\\\"hidden\\\":false},{\\\"label\\\":\\\"Euro 2025\\\",\\\"url\\\":\\\"/sport/football/womens-european-championship\\\",\\\"selected\\\":false,\\\"hidden\\\":false},{\\\"label\\\":\\\"Cycling\\\",\\\"url\\\":\\\"/sport/cycling\\\",\\\"selected\\\":false,\\\"hidden\\\":false}],\\\"secondary\\\":[{\\\"label\\\":\\\"Scores & Fixtures\\\",\\\"url\\\":\\\"/sport/football/premier-league/scores-fixtures\\\",\\\"selected\\\":false,\\\"hidden\\\":false},{\\\"label\\\":\\\"Table\\\",\\\"url\\\":\\\"/sport/football/premier-league/table\\\",\\\"selected\\\":false,\\\"hidden\\\":false},{\\\"label\\\":\\\"Top Scorers\\\",\\\"url\\\":\\\"/sport/football/premier-league/top-scorers\\\",\\\"selected\\\":true,\\\"hidden\\\":false}],\\\"more\\\":[{\\\"title\\\":\\\"A-Z Sports\\\",\\\"items\\\":[{\\\"label\\\":\\\"American Football\\\",\\\"url\\\":\\\"/sport/american-football\\\",\\\"selected\\\":false,\\\"hidden\\\":false},{\\\"label\\\":\\\"Athletics\\\",\\\"url\\\":\\\"/sport/athletics\\\",\\\"selected\\\":false,\\\"hidden\\\":false},{\\\"label\\\":\\\"Basketball\\\",\\\"url\\\":\\\"/sport/basketball\\\",\\\"selected\\\":false,\\\"hidden\\\":false},{\\\"label\\\":\\\"Boxing\\\",\\\"url\\\":\\\"/sport/boxing\\\",\\\"selected\\\":false,\\\"hidden\\\":false},{\\\"label\\\":\\\"Cricket\\\",\\\"url\\\":\\\"/sport/cricket\\\",\\\"selected\\\":false,\\\"hidden\\\":false},{\\\"label\\\":\\\"Cycling\\\",\\\"url\\\":\\\"/sport/cycling\\\",\\\"selected\\\":false,\\\"hidden\\\":false},{\\\"label\\\":\\\"Darts\\\",\\\"url\\\":\\\"/sport/darts\\\",\\\"selected\\\":false,\\\"hidden\\\":false},{\\\"label\\\":\\\"Disability Sport\\\",\\\"url\\\":\\\"/sport/disability-sport\\\",\\\"selected\\\":false,\\\"hidden\\\":false},{\\\"label\\\":\\\"Football\\\",\\\"url\\\":\\\"/sport/football\\\",\\\"selected\\\":false,\\\"hidden\\\":false},{\\\"label\\\":\\\"Formula 1\\\",\\\"url\\\":\\\"/sport/formula1\\\",\\\"selected\\\":false,\\\"hidden\\\":false},{\\\"label\\\":\\\"Gaelic Games\\\",\\\"url\\\":\\\"/sport/northern-ireland/gaelic-games\\\",\\\"selected\\\":false,\\\"hidden\\\":false},{\\\"label\\\":\\\"Golf\\\",\\\"url\\\":\\\"/sport/golf\\\",\\\"selected\\\":false,\\\"hidden\\\":false},{\\\"label\\\":\\\"Gymnastics\\\",\\\"url\\\":\\\"/sport/gymnastics\\\",\\\"selected\\\":false,\\\"hidden\\\":false},{\\\"label\\\":\\\"Horse Racing\\\",\\\"url\\\":\\\"/sport/horse-racing\\\",\\\"selected\\\":false,\\\"hidden\\\":false},{\\\"label\\\":\\\"Mixed Martial Arts\\\",\\\"url\\\":\\\"/sport/mixed-martial-arts\\\",\\\"selected\\\":false,\\\"hidden\\\":false},{\\\"label\\\":\\\"Motorsport\\\",\\\"url\\\":\\\"/sport/motorsport\\\",\\\"selected\\\":false,\\\"hidden\\\":false},{\\\"label\\\":\\\"Netball\\\",\\\"url\\\":\\\"/sport/netball\\\",\\\"selected\\\":false,\\\"hidden\\\":false},{\\\"label\\\":\\\"Olympic Sports\\\",\\\"url\\\":\\\"/sport/olympics\\\",\\\"selected\\\":false,\\\"hidden\\\":false},{\\\"label\\\":\\\"Rugby League\\\",\\\"url\\\":\\\"/sport/rugby-league\\\",\\\"selected\\\":false,\\\"hidden\\\":false},{\\\"label\\\":\\\"Rugby Union\\\",\\\"url\\\":\\\"/sport/rugby-union\\\",\\\"selected\\\":false,\\\"hidden\\\":false},{\\\"label\\\":\\\"Snooker\\\",\\\"url\\\":\\\"/sport/snooker\\\",\\\"selected\\\":false,\\\"hidden\\\":false},{\\\"label\\\":\\\"Swimming\\\",\\\"url\\\":\\\"/sport/swimming\\\",\\\"selected\\\":false,\\\"hidden\\\":false},{\\\"label\\\":\\\"Tennis\\\",\\\"url\\\":\\\"/sport/tennis\\\",\\\"selected\\\":false,\\\"hidden\\\":false},{\\\"label\\\":\\\"Winter Sports\\\",\\\"url\\\":\\\"/sport/winter-sports\\\",\\\"selected\\\":false,\\\"hidden\\\":false},{\\\"label\\\":\\\"Full Sports A-Z\\\",\\\"url\\\":\\\"/sport/all-sports\\\",\\\"selected\\\":false,\\\"hidden\\\":false}]},{\\\"title\\\":\\\"More from Sport\\\",\\\"items\\\":[{\\\"label\\\":\\\"England\\\",\\\"url\\\":\\\"/sport/england\\\",\\\"selected\\\":false,\\\"hidden\\\":false},{\\\"label\\\":\\\"Scotland\\\",\\\"url\\\":\\\"/sport/scotland\\\",\\\"selected\\\":false,\\\"hidden\\\":false},{\\\"label\\\":\\\"Wales\\\",\\\"url\\\":\\\"/sport/wales\\\",\\\"selected\\\":false,\\\"hidden\\\":false},{\\\"label\\\":\\\"Northern Ireland\\\",\\\"url\\\":\\\"/sport/northern-ireland\\\",\\\"selected\\\":false,\\\"hidden\\\":false},{\\\"label\\\":\\\"News Feeds\\\",\\\"url\\\":\\\"/sport/15890345\\\",\\\"selected\\\":false,\\\"hidden\\\":false},{\\\"label\\\":\\\"Help & FAQs\\\",\\\"url\\\":\\\"/sport/15561348\\\",\\\"selected\\\":false,\\\"hidden\\\":false}]}],\\\"breadcrumbs\\\":[{\\\"label\\\":\\\"Premier League\\\",\\\"url\\\":\\\"/sport/football/premier-league\\\",\\\"selected\\\":false,\\\"hidden\\\":false}],\\\"noJSLink\\\":\\\"/sport/all-sports\\\",\\\"withExpandedHitArea\\\":false}},\\\"importance\\\":\\\"SECONDARY\\\",\\\"isPersonalised\\\":false,\\\"hasFetcher\\\":true},\\\"football-top-scorers?urn=urn%3Abbc%3Asportsdata%3Afootball%3Atournament%3Apremier-league\\\":{\\\"name\\\":\\\"football-top-scorers\\\",\\\"props\\\":{\\\"urn\\\":\\\"urn:bbc:sportsdata:football:tournament:premier-league\\\"},\\\"data\\\":{\\\"name\\\":\\\"Premier League\\\",\\\"urn\\\":\\\"urn:bbc:sportsdata:football:tournament:premier-league\\\",\\\"topScorers\\\":[],\\\"topAssists\\\":[],\\\"searchResults\\\":[]},\\\"importance\\\":\\\"PRIMARY\\\",\\\"isPersonalised\\\":false,\\\"hasFetcher\\\":true},\\\"global-footer?country=in&language=en-GB&service=commercial\\\":{\\\"name\\\":\\\"global-footer\\\",\\\"props\\\":{\\\"country\\\":\\\"in\\\",\\\"language\\\":\\\"en-GB\\\",\\\"service\\\":\\\"commercial\\\"},\\\"data\\\":{\\\"accessibilityLinks\\\":[{\\\"label\\\":\\\"Skip to content\\\",\\\"url\\\":\\\"#main-heading\\\"},{\\\"label\\\":\\\"Accessibility Help\\\",\\\"url\\\":\\\"https://www.bbc.co.uk/accessibility/\\\"}],\\\"signInLabel\\\":\\\"Sign in\\\",\\\"accountLabel\\\":\\\"Your account\\\",\\\"forYouLabel\\\":\\\"For you\\\",\\\"forYouUrl\\\":\\\"https://www.bbc.co.uk/foryou\\\",\\\"menuLabel\\\":\\\"Menu\\\",\\\"moreLabel\\\":\\\"More\\\",\\\"moreMenuLabel\\\":\\\"More menu\\\",\\\"closeButtonLabel\\\":\\\"Close menu\\\",\\\"disclaimer\\\":{\\\"text\\\":\\\"Copyright © 2025 BBC. The BBC is not responsible for the content of external sites.\\\",\\\"link\\\":{\\\"url\\\":\\\"https://www.bbc.co.uk/editorialguidelines/guidance/feeds-and-links\\\",\\\"text\\\":\\\"Read about our approach to external linking.\\\"}},\\\"legalLinks\\\":[{\\\"url\\\":\\\"https://www.bbc.com/pages/terms-of-use\\\",\\\"label\\\":\\\"Terms of Use\\\"},{\\\"url\\\":\\\"https://www.bbc.co.uk/aboutthebbc\\\",\\\"label\\\":\\\"About the BBC\\\"},{\\\"url\\\":\\\"https://www.bbc.com/pages/privacy-policy\\\",\\\"label\\\":\\\"Privacy Policy\\\"},{\\\"url\\\":\\\"https://www.bbc.com/usingthebbc/cookies\\\",\\\"label\\\":\\\"Cookies\\\"},{\\\"url\\\":\\\"https://www.bbc.co.uk/accessibility\\\",\\\"label\\\":\\\"Accessibility Help\\\"},{\\\"url\\\":\\\"https://www.bbc.co.uk/iplayer/guidance\\\",\\\"label\\\":\\\"Parental Guidance\\\"},{\\\"url\\\":\\\"https://www.bbc.co.uk/contact\\\",\\\"label\\\":\\\"Contact the BBC\\\"},{\\\"url\\\":\\\"https://www.bbc.co.uk/bbcnewsletter\\\",\\\"label\\\":\\\"BBC emails for you\\\"},{\\\"url\\\":\\\"https://www.bbc.com/advertisingcontact/\\\",\\\"label\\\":\\\"Advertise with us\\\"},{\\\"opens\\\":\\\"privacy-management\\\",\\\"label\\\":\\\"Do not share or sell my info\\\"}],\\\"navigationType\\\":\\\"Commercial\\\",\\\"homepageLink\\\":{\\\"label\\\":\\\"BBC Homepage\\\",\\\"url\\\":\\\"https://www.bbc.com\\\"},\\\"searchLink\\\":{\\\"label\\\":\\\"Search BBC\\\",\\\"url\\\":\\\"https://www.bbc.co.uk/search\\\"},\\\"navigationLinks\\\":[{\\\"label\\\":\\\"Home\\\",\\\"url\\\":\\\"https://www.bbc.com\\\"},{\\\"label\\\":\\\"News\\\",\\\"url\\\":\\\"https://www.bbc.com/news\\\"},{\\\"label\\\":\\\"Sport\\\",\\\"url\\\":\\\"https://www.bbc.com/sport\\\"},{\\\"label\\\":\\\"Business\\\",\\\"url\\\":\\\"https://www.bbc.com/business\\\"},{\\\"label\\\":\\\"Innovation\\\",\\\"url\\\":\\\"https://www.bbc.com/innovation\\\"},{\\\"label\\\":\\\"Culture\\\",\\\"url\\\":\\\"https://www.bbc.com/culture\\\"},{\\\"label\\\":\\\"Travel\\\",\\\"url\\\":\\\"https://www.bbc.com/travel\\\"},{\\\"label\\\":\\\"Earth\\\",\\\"url\\\":\\\"https://www.bbc.com/future-planet\\\"},{\\\"label\\\":\\\"Audio\\\",\\\"url\\\":\\\"https://www.bbc.com/audio\\\"},{\\\"label\\\":\\\"Video\\\",\\\"url\\\":\\\"https://www.bbc.com/video\\\"},{\\\"label\\\":\\\"Live\\\",\\\"url\\\":\\\"https://www.bbc.com/live\\\"}]},\\\"importance\\\":\\\"PRIMARY\\\",\\\"isPersonalised\\\":false,\\\"hasFetcher\\\":true}},\\\"page\\\":{\\\"metadata\\\":{\\\"title\\\":\\\"Premier League Top Scorers - BBC Sport\\\",\\\"description\\\":\\\"Premier League top scorers. Showing assists, time on pitch and the shots on and off target.\\\"},\\\"featureToggles\\\":{},\\\"entry\\\":{\\\"pageLayout\\\":{\\\"name\\\":\\\"OneColumnWithHero\\\"},\\\"pageContent\\\":{\\\"zones\\\":[{\\\"name\\\":\\\"top\\\",\\\"landmarks\\\":[{\\\"element\\\":\\\"header\\\",\\\"containers\\\":[{\\\"name\\\":\\\"consent-banner\\\",\\\"importance\\\":\\\"TERTIARY\\\",\\\"hasFetcher\\\":true,\\\"props\\\":[]},{\\\"name\\\":\\\"global-navigation\\\",\\\"importance\\\":\\\"PRIMARY\\\",\\\"hasFetcher\\\":true,\\\"props\\\":[{\\\"__typename\\\":\\\"LiteralProp\\\",\\\"name\\\":\\\"showServiceIdentifiers\\\",\\\"value\\\":false},{\\\"__typename\\\":\\\"LiteralProp\\\",\\\"name\\\":\\\"country\\\",\\\"value\\\":\\\"in\\\"},{\\\"__typename\\\":\\\"StoreReader\\\",\\\"lookup\\\":\\\"page.destination\\\",\\\"name\\\":\\\"currentPageAnalyticsDestination\\\",\\\"store\\\":\\\"analytics\\\"},{\\\"__typename\\\":\\\"StoreReader\\\",\\\"name\\\":\\\"showServiceIdentifiers\\\",\\\"store\\\":\\\"global-navigation\\\",\\\"lookup\\\":\\\"showServiceIdentifiers\\\"},{\\\"__typename\\\":\\\"StoreReader\\\",\\\"name\\\":\\\"pageAnalytics\\\",\\\"store\\\":\\\"analytics\\\",\\\"lookup\\\":\\\"page\\\"},{\\\"__typename\\\":\\\"StoreWriter\\\",\\\"name\\\":\\\"setPageAnalytics\\\",\\\"store\\\":\\\"analytics\\\",\\\"lookup\\\":\\\"page\\\"}],\\\"fetchParams\\\":[{\\\"__typename\\\":\\\"LiteralProp\\\",\\\"name\\\":\\\"country\\\",\\\"value\\\":\\\"in\\\"},{\\\"__typename\\\":\\\"LiteralProp\\\",\\\"name\\\":\\\"language\\\",\\\"value\\\":\\\"en-GB\\\"},{\\\"__typename\\\":\\\"RouteParam\\\",\\\"name\\\":\\\"service\\\",\\\"lookup\\\":\\\"service\\\"},{\\\"__typename\\\":\\\"LiteralProp\\\",\\\"name\\\":\\\"service\\\",\\\"value\\\":\\\"commercial\\\"},{\\\"__typename\\\":\\\"StoreReader\\\",\\\"name\\\":\\\"variant\\\",\\\"store\\\":\\\"global-navigation\\\",\\\"lookup\\\":\\\"variant\\\"}]},{\\\"name\\\":\\\"product-navigation\\\",\\\"importance\\\":\\\"SECONDARY\\\",\\\"hasFetcher\\\":true,\\\"props\\\":[{\\\"__typename\\\":\\\"LiteralProp\\\",\\\"name\\\":\\\"assetUri\\\",\\\"value\\\":\\\"/sport/football/premier-league/top-scorers\\\"},{\\\"__typename\\\":\\\"LiteralProp\\\",\\\"name\\\":\\\"product\\\",\\\"value\\\":\\\"sport\\\"},{\\\"__typename\\\":\\\"LiteralProp\\\",\\\"name\\\":\\\"country\\\",\\\"value\\\":\\\"in\\\"},{\\\"__typename\\\":\\\"LiteralProp\\\",\\\"name\\\":\\\"showProductNavigation\\\",\\\"value\\\":true},{\\\"__typename\\\":\\\"LiteralProp\\\",\\\"name\\\":\\\"onlyShowSecondaryNav\\\",\\\"value\\\":false},{\\\"__typename\\\":\\\"LiteralProp\\\",\\\"name\\\":\\\"fixedSecondaryNavigation\\\",\\\"value\\\":false}]}]}],\\\"additionalProperties\\\":{}},{\\\"name\\\":\\\"hero\\\",\\\"landmarks\\\":[],\\\"additionalProperties\\\":{}},{\\\"name\\\":\\\"standard\\\",\\\"landmarks\\\":[{\\\"element\\\":\\\"main\\\",\\\"containers\\\":[{\\\"name\\\":\\\"sign-in-prompt\\\",\\\"importance\\\":\\\"TERTIARY\\\",\\\"hasFetcher\\\":false,\\\"props\\\":[{\\\"__typename\\\":\\\"StoreReader\\\",\\\"name\\\":\\\"signInPrompt\\\",\\\"lookup\\\":\\\"signInPrompt\\\",\\\"store\\\":\\\"bbcAccount\\\"},{\\\"__typename\\\":\\\"StoreReader\\\",\\\"name\\\":\\\"pageType\\\",\\\"lookup\\\":\\\"pageType\\\",\\\"store\\\":\\\"bbcAccount\\\"},{\\\"__typename\\\":\\\"StoreReader\\\",\\\"name\\\":\\\"service\\\",\\\"lookup\\\":\\\"service\\\",\\\"store\\\":\\\"bbcAccount\\\"},{\\\"__typename\\\":\\\"StoreReader\\\",\\\"name\\\":\\\"signInPromptCustomisation\\\",\\\"lookup\\\":\\\"options\\\",\\\"store\\\":\\\"bbcAccountSignInPromptCustomisation\\\"},{\\\"__typename\\\":\\\"LiteralProp\\\",\\\"name\\\":\\\"useExperimentCountingLogic\\\",\\\"value\\\":false},{\\\"__typename\\\":\\\"LiteralProp\\\",\\\"name\\\":\\\"disableAutomaticSignInPrompt\\\",\\\"value\\\":false},{\\\"__typename\\\":\\\"StoreWriter\\\",\\\"name\\\":\\\"setSignInPrompt\\\",\\\"lookup\\\":\\\"signInPrompt\\\",\\\"store\\\":\\\"bbcAccount\\\"}]},{\\\"name\\\":\\\"football-top-scorers\\\",\\\"importance\\\":\\\"PRIMARY\\\",\\\"hasFetcher\\\":true,\\\"layout\\\":{\\\"name\\\":\\\"Wrap\\\"},\\\"fetchParams\\\":[{\\\"__typename\\\":\\\"LiteralProp\\\",\\\"name\\\":\\\"urn\\\",\\\"value\\\":\\\"urn:bbc:sportsdata:football:tournament:premier-league\\\"},{\\\"__typename\\\":\\\"QueryParam\\\",\\\"name\\\":\\\"searchTerm\\\",\\\"lookup\\\":\\\"q\\\"}],\\\"props\\\":[{\\\"__typename\\\":\\\"LiteralProp\\\",\\\"name\\\":\\\"headingText\\\",\\\"value\\\":\\\"Premier League Top Scorers\\\"},{\\\"__typename\\\":\\\"LiteralProp\\\",\\\"name\\\":\\\"searchBaseUrl\\\",\\\"value\\\":\\\"https://search.api.bbci.co.uk\\\"}]}]}],\\\"additionalProperties\\\":{}},{\\\"name\\\":\\\"bottom\\\",\\\"landmarks\\\":[{\\\"element\\\":\\\"footer\\\",\\\"containers\\\":[{\\\"name\\\":\\\"global-footer\\\",\\\"importance\\\":\\\"PRIMARY\\\",\\\"hasFetcher\\\":true,\\\"props\\\":[],\\\"fetchParams\\\":[{\\\"__typename\\\":\\\"LiteralProp\\\",\\\"name\\\":\\\"country\\\",\\\"value\\\":\\\"in\\\"},{\\\"__typename\\\":\\\"LiteralProp\\\",\\\"name\\\":\\\"language\\\",\\\"value\\\":\\\"en-GB\\\"},{\\\"__typename\\\":\\\"RouteParam\\\",\\\"name\\\":\\\"service\\\",\\\"lookup\\\":\\\"service\\\"},{\\\"__typename\\\":\\\"LiteralProp\\\",\\\"name\\\":\\\"service\\\",\\\"value\\\":\\\"commercial\\\"},{\\\"__typename\\\":\\\"StoreReader\\\",\\\"name\\\":\\\"variant\\\",\\\"store\\\":\\\"global-navigation\\\",\\\"lookup\\\":\\\"variant\\\"}]}]}],\\\"additionalProperties\\\":{}}]},\\\"levers\\\":{\\\"servicePalette\\\":\\\"sportLight\\\",\\\"corePalette\\\":\\\"light\\\",\\\"fontPalette\\\":\\\"sansSimple\\\"},\\\"stores\\\":[{\\\"name\\\":\\\"analytics\\\",\\\"type\\\":\\\"InMemory\\\",\\\"initialState\\\":{\\\"props\\\":[{\\\"__typename\\\":\\\"LiteralProp\\\",\\\"name\\\":\\\"page\\\",\\\"value\\\":{\\\"name\\\":\\\"sport.football.premier_league.top_scorers.page\\\",\\\"destination\\\":\\\"SPORT_GNL\\\",\\\"producer\\\":\\\"SPORT\\\",\\\"section\\\":\\\"football::top_scorers\\\",\\\"contentType\\\":\\\"sports-data\\\",\\\"language\\\":\\\"en\\\",\\\"additionalProperties\\\":{\\\"app_name\\\":\\\"sport-gnl-web\\\",\\\"app_type\\\":\\\"responsive\\\"}}},{\\\"__typename\\\":\\\"LiteralProp\\\",\\\"name\\\":\\\"title\\\",\\\"value\\\":\\\"Premier League Top Scorers - BBC Sport\\\"},{\\\"__typename\\\":\\\"LiteralProp\\\",\\\"name\\\":\\\"sections\\\",\\\"value\\\":[\\\"sport\\\",\\\"sport-football-top-scorers\\\"]}]}},{\\\"name\\\":\\\"userLocationData\\\",\\\"type\\\":\\\"InMemory\\\",\\\"initialState\\\":{\\\"props\\\":[{\\\"__typename\\\":\\\"LiteralProp\\\",\\\"name\\\":\\\"userLocationData\\\",\\\"value\\\":{}}]}},{\\\"name\\\":\\\"bbcAccount\\\",\\\"type\\\":\\\"InMemory\\\",\\\"initialState\\\":{\\\"props\\\":[{\\\"__typename\\\":\\\"LiteralProp\\\",\\\"name\\\":\\\"signInPrompt\\\",\\\"value\\\":{\\\"show\\\":false,\\\"userOrigin\\\":null,\\\"ptrt\\\":null}},{\\\"__typename\\\":\\\"LiteralProp\\\",\\\"name\\\":\\\"pageType\\\",\\\"value\\\":\\\"content\\\"},{\\\"__typename\\\":\\\"LiteralProp\\\",\\\"name\\\":\\\"service\\\"}]}},{\\\"name\\\":\\\"bbcAccountSignInPromptCustomisation\\\",\\\"type\\\":\\\"InMemory\\\",\\\"initialState\\\":{\\\"props\\\":[{\\\"__typename\\\":\\\"LiteralProp\\\",\\\"name\\\":\\\"options\\\",\\\"value\\\":{\\\"customImages\\\":null,\\\"title\\\":null,\\\"subTitle\\\":null}}]}}]},\\\"addons\\\":[{\\\"name\\\":\\\"analytics\\\",\\\"importance\\\":\\\"TERTIARY\\\",\\\"props\\\":[{\\\"__typename\\\":\\\"StoreReader\\\",\\\"name\\\":\\\"page\\\",\\\"lookup\\\":\\\"page\\\",\\\"store\\\":\\\"analytics\\\"},{\\\"__typename\\\":\\\"StoreReader\\\",\\\"name\\\":\\\"title\\\",\\\"lookup\\\":\\\"title\\\",\\\"store\\\":\\\"analytics\\\"},{\\\"__typename\\\":\\\"StoreReader\\\",\\\"name\\\":\\\"sections\\\",\\\"lookup\\\":\\\"sections\\\",\\\"store\\\":\\\"analytics\\\"},{\\\"__typename\\\":\\\"StoreReader\\\",\\\"name\\\":\\\"type\\\",\\\"lookup\\\":\\\"type\\\",\\\"store\\\":\\\"analytics\\\"},{\\\"__typename\\\":\\\"StoreReader\\\",\\\"name\\\":\\\"isUkCombined\\\",\\\"lookup\\\":\\\"userLocationData.isUkCombined\\\",\\\"store\\\":\\\"userLocationData\\\"},{\\\"__typename\\\":\\\"StoreReader\\\",\\\"name\\\":\\\"skipLocationCheck\\\",\\\"lookup\\\":\\\"userLocationData.error\\\",\\\"store\\\":\\\"userLocationData\\\"},{\\\"__typename\\\":\\\"StoreReader\\\",\\\"name\\\":\\\"authors\\\",\\\"lookup\\\":\\\"authors\\\",\\\"store\\\":\\\"analytics\\\"},{\\\"__typename\\\":\\\"LiteralProp\\\",\\\"name\\\":\\\"isAppRoute\\\",\\\"value\\\":false}]},{\\\"name\\\":\\\"international-redirect\\\",\\\"importance\\\":\\\"TERTIARY\\\",\\\"props\\\":[{\\\"__typename\\\":\\\"StoreWriter\\\",\\\"name\\\":\\\"setUserLocationData\\\",\\\"lookup\\\":\\\"userLocationData\\\",\\\"store\\\":\\\"userLocationData\\\"},{\\\"__typename\\\":\\\"LiteralProp\\\",\\\"name\\\":\\\"env\\\",\\\"value\\\":\\\"live\\\"},{\\\"__typename\\\":\\\"LiteralProp\\\",\\\"name\\\":\\\"country\\\",\\\"value\\\":\\\"in\\\"},{\\\"__typename\\\":\\\"LiteralProp\\\",\\\"name\\\":\\\"ctxSwitcher\\\"}]},{\\\"name\\\":\\\"document-metadata\\\",\\\"importance\\\":\\\"PRIMARY\\\",\\\"props\\\":[{\\\"__typename\\\":\\\"LiteralProp\\\",\\\"name\\\":\\\"title\\\",\\\"value\\\":\\\"Premier League Top Scorers - BBC Sport\\\"},{\\\"__typename\\\":\\\"LiteralProp\\\",\\\"name\\\":\\\"description\\\",\\\"value\\\":\\\"Premier League top scorers. Showing assists, time on pitch and the shots on and off target.\\\"},{\\\"__typename\\\":\\\"LiteralProp\\\",\\\"name\\\":\\\"metaTags\\\",\\\"value\\\":[]},{\\\"__typename\\\":\\\"LiteralProp\\\",\\\"name\\\":\\\"linkTags\\\",\\\"value\\\":[{\\\"rel\\\":\\\"canonical\\\",\\\"href\\\":\\\"https://www.bbc.co.uk/sport/football/premier-league/top-scorers\\\"},{\\\"hrefLang\\\":\\\"en-gb\\\",\\\"href\\\":\\\"https://www.bbc.co.uk/sport/football/premier-league/top-scorers\\\",\\\"rel\\\":\\\"alternate\\\"},{\\\"hrefLang\\\":\\\"en\\\",\\\"href\\\":\\\"https://www.bbc.com/sport/football/premier-league/top-scorers\\\",\\\"rel\\\":\\\"alternate\\\"}]},{\\\"__typename\\\":\\\"LiteralProp\\\",\\\"name\\\":\\\"openGraph\\\",\\\"value\\\":{\\\"og:description\\\":\\\"Premier League top scorers. Showing assists, time on pitch and the shots on and off target.\\\",\\\"og:image\\\":\\\"https://static.files.bbci.co.uk/core/website/assets/static/sport/bbc-sport-logo.0da9386782.png\\\",\\\"og:site_name\\\":\\\"BBC Sport\\\",\\\"og:title\\\":\\\"Premier League Top Scorers - BBC Sport\\\",\\\"og:type\\\":\\\"article\\\",\\\"og:url\\\":\\\"https://www.bbc.co.uk/sport/football/premier-league/top-scorers\\\"}},{\\\"__typename\\\":\\\"LiteralProp\\\",\\\"name\\\":\\\"twitterCard\\\",\\\"value\\\":{\\\"twitter:card\\\":\\\"summary\\\",\\\"twitter:creator\\\":\\\"@BBCSport\\\",\\\"twitter:site\\\":\\\"@BBCSport\\\",\\\"twitter:title\\\":\\\"Premier League Top Scorers - BBC Sport\\\",\\\"twitter:description\\\":\\\"Premier League top scorers. Showing assists, time on pitch and the shots on and off target.\\\",\\\"twitter:url\\\":\\\"https://www.bbc.co.uk/sport/football/premier-league/top-scorers\\\"}},{\\\"__typename\\\":\\\"TemplateProp\\\",\\\"name\\\":\\\"manifestUrl\\\",\\\"template\\\":\\\"${staticBaseUrl}/${manifestName}\\\",\\\"templateProps\\\":[{\\\"__typename\\\":\\\"ConfigProp\\\",\\\"name\\\":\\\"manifestName\\\",\\\"lookup\\\":\\\"manifestName\\\"},{\\\"__typename\\\":\\\"ConfigProp\\\",\\\"name\\\":\\\"staticBaseUrl\\\",\\\"lookup\\\":\\\"staticBaseUrl\\\"}]},{\\\"__typename\\\":\\\"LiteralProp\\\",\\\"name\\\":\\\"serviceIcons\\\",\\\"value\\\":\\\"sport\\\"}]},{\\\"name\\\":\\\"web-vitals\\\",\\\"importance\\\":\\\"TERTIARY\\\",\\\"props\\\":[{\\\"__typename\\\":\\\"LiteralProp\\\",\\\"name\\\":\\\"reportParams\\\",\\\"value\\\":{\\\"pageType\\\":\\\"webcore-sportdata\\\"}}]}],\\\"analytics\\\":{\\\"page\\\":{\\\"name\\\":\\\"sport.football.premier_league.top_scorers.page\\\",\\\"destination\\\":\\\"SPORT_GNL\\\",\\\"producer\\\":\\\"SPORT\\\",\\\"section\\\":\\\"football::top_scorers\\\",\\\"contentType\\\":\\\"sports-data\\\",\\\"language\\\":\\\"en\\\",\\\"additionalProperties\\\":{\\\"app_name\\\":\\\"sport-gnl-web\\\",\\\"app_type\\\":\\\"responsive\\\"}},\\\"title\\\":\\\"Premier League Top Scorers - BBC Sport\\\",\\\"sections\\\":[\\\"sport\\\",\\\"sport-football-top-scorers\\\"]},\\\"path\\\":\\\"/sport/football/premier-league/top-scorers\\\"},\\\"stores\\\":{\\\"analytics\\\":{\\\"page\\\":{\\\"name\\\":\\\"sport.football.premier_league.top_scorers.page\\\",\\\"destination\\\":\\\"SPORT_GNL\\\",\\\"producer\\\":\\\"SPORT\\\",\\\"section\\\":\\\"football::top_scorers\\\",\\\"contentType\\\":\\\"sports-data\\\",\\\"language\\\":\\\"en\\\",\\\"additionalProperties\\\":{\\\"app_name\\\":\\\"sport-gnl-web\\\",\\\"app_type\\\":\\\"responsive\\\"}},\\\"title\\\":\\\"Premier League Top Scorers - BBC Sport\\\",\\\"sections\\\":[\\\"sport\\\",\\\"sport-football-top-scorers\\\"]},\\\"userLocationData\\\":{\\\"userLocationData\\\":{}},\\\"bbcAccount\\\":{\\\"signInPrompt\\\":{\\\"show\\\":false,\\\"userOrigin\\\":null,\\\"ptrt\\\":null},\\\"pageType\\\":\\\"content\\\"},\\\"bbcAccountSignInPromptCustomisation\\\":{\\\"options\\\":{\\\"customImages\\\":null,\\\"title\\\":null,\\\"subTitle\\\":null}}},\\\"route\\\":\\\"/sport/football/:tournament/top-scorers\\\"}\";\n",
      "  </script>\n",
      "  <script nonce=\"jnqaEHPArl8n5WE6NzRvA0rCjhgbi0wsgfq82t1QogMUxL8hVT\">\n",
      "   window.__REQUEST_CONTEXT__=\"{\\\"queryStringParameters\\\":{},\\\"headers\\\":{\\\"user-agent\\\":\\\"Belfrage\\\",\\\"signedin\\\":\\\"no\\\",\\\"language\\\":\\\"en-GB\\\",\\\"is_uk\\\":false,\\\"is_commercial\\\":\\\"true\\\",\\\"ctx-route-spec\\\":\\\"SportDataFootballTopScorersWebcore.Webcore\\\",\\\"ctx-dark-mode-preference\\\":\\\"on\\\",\\\"country\\\":\\\"in\\\",\\\"belfrage-time\\\":\\\"2025-07-25T05:12:18.805774Z\\\",\\\"bbc-host\\\":\\\"www.bbc.com\\\",\\\"accept-encoding\\\":\\\"gzip\\\",\\\"host\\\":\\\"www.bbc.com\\\",\\\"env\\\":\\\"live\\\",\\\"nonce\\\":\\\"jnqaEHPArl8n5WE6NzRvA0rCjhgbi0wsgfq82t1QogMUxL8hVT\\\"},\\\"isAppRoute\\\":false}\";\n",
      "  </script>\n",
      "  <script nonce=\"jnqaEHPArl8n5WE6NzRvA0rCjhgbi0wsgfq82t1QogMUxL8hVT\">\n",
      "   window.__ENVIRONMENT_VARIABLES__=\"{\\\"disableChartbeat\\\":false,\\\"reportingEndpoint\\\":\\\"https://webcore.bbc-reporting-api.app/report-endpoint\\\",\\\"webVitalsSampleRate\\\":20}\";\n",
      "  </script>\n",
      "  <script crossorigin=\"anonymous\" id=\"__LOADABLE_REQUIRED_CHUNKS__\" nonce=\"jnqaEHPArl8n5WE6NzRvA0rCjhgbi0wsgfq82t1QogMUxL8hVT\" type=\"application/json\">\n",
      "   [774,1463,7897,7167,7053,8926,4140,8549,6593,9693,4636,7119,9423,8309,2854,3744,9754,5866]\n",
      "  </script>\n",
      "  <script crossorigin=\"anonymous\" id=\"__LOADABLE_REQUIRED_CHUNKS___ext\" nonce=\"jnqaEHPArl8n5WE6NzRvA0rCjhgbi0wsgfq82t1QogMUxL8hVT\" type=\"application/json\">\n",
      "   {\"namedChunks\":[\"website-containers-global-navigation-index-js\",\"design-system-svgs-account-index-jsx\",\"design-system-svgs-actions-index-jsx\",\"website-containers-product-navigation-index-js\",\"design-system-svgs-logo-index-jsx\",\"design-system-svgs-arrows-index-jsx\",\"website-containers-football-top-scorers-index-js\",\"website-containers-global-footer-index-js\",\"website-addons-document-metadata-index-jsx\"]}\n",
      "  </script>\n",
      "  <script async=\"\" crossorigin=\"anonymous\" data-chunk=\"pwa\" nonce=\"jnqaEHPArl8n5WE6NzRvA0rCjhgbi0wsgfq82t1QogMUxL8hVT\" src=\"https://static.files.bbci.co.uk/core/bundle-vendor-optimizely.bb273ac971fa6741913f.js\" type=\"module\">\n",
      "  </script>\n",
      "  <script async=\"\" crossorigin=\"anonymous\" data-chunk=\"pwa\" nonce=\"jnqaEHPArl8n5WE6NzRvA0rCjhgbi0wsgfq82t1QogMUxL8hVT\" src=\"https://static.files.bbci.co.uk/core/bundle-defaultVendors.33ee44542d90824559fd.js\" type=\"module\">\n",
      "  </script>\n",
      "  <script async=\"\" crossorigin=\"anonymous\" data-chunk=\"pwa\" nonce=\"jnqaEHPArl8n5WE6NzRvA0rCjhgbi0wsgfq82t1QogMUxL8hVT\" src=\"https://static.files.bbci.co.uk/core/bundle-component-tabs.8bf9ce5cd55a84fff29d.js\" type=\"module\">\n",
      "  </script>\n",
      "  <script async=\"\" crossorigin=\"anonymous\" data-chunk=\"pwa\" nonce=\"jnqaEHPArl8n5WE6NzRvA0rCjhgbi0wsgfq82t1QogMUxL8hVT\" src=\"https://static.files.bbci.co.uk/core/bundle-gel.677ddd28b429cb3da1ab.js\" type=\"module\">\n",
      "  </script>\n",
      "  <script async=\"\" crossorigin=\"anonymous\" data-chunk=\"pwa\" nonce=\"jnqaEHPArl8n5WE6NzRvA0rCjhgbi0wsgfq82t1QogMUxL8hVT\" src=\"https://static.files.bbci.co.uk/core/bundle-website.1482b102e4fff77f2f39.js\" type=\"module\">\n",
      "  </script>\n",
      "  <script async=\"\" crossorigin=\"anonymous\" data-chunk=\"pwa\" nonce=\"jnqaEHPArl8n5WE6NzRvA0rCjhgbi0wsgfq82t1QogMUxL8hVT\" src=\"https://static.files.bbci.co.uk/core/bundle-base-website.35a4fe7de687daa39e4a.js\" type=\"module\">\n",
      "  </script>\n",
      "  <script async=\"\" crossorigin=\"anonymous\" data-chunk=\"pwa\" nonce=\"jnqaEHPArl8n5WE6NzRvA0rCjhgbi0wsgfq82t1QogMUxL8hVT\" src=\"https://static.files.bbci.co.uk/core/bundle-framework.19ebb2a7ec9fbe194784.js\" type=\"module\">\n",
      "  </script>\n",
      "  <script async=\"\" crossorigin=\"anonymous\" data-chunk=\"pwa\" nonce=\"jnqaEHPArl8n5WE6NzRvA0rCjhgbi0wsgfq82t1QogMUxL8hVT\" src=\"https://static.files.bbci.co.uk/core/bundle-pwa.c068715d4394342e7e7e.js\" type=\"module\">\n",
      "  </script>\n",
      "  <script async=\"\" crossorigin=\"anonymous\" data-chunk=\"website-containers-global-navigation-index-js\" nonce=\"jnqaEHPArl8n5WE6NzRvA0rCjhgbi0wsgfq82t1QogMUxL8hVT\" src=\"https://static.files.bbci.co.uk/core/bundle-component-call-to-action-link.65a6b6326fd726d63feb.js\" type=\"module\">\n",
      "  </script>\n",
      "  <script async=\"\" crossorigin=\"anonymous\" data-chunk=\"website-containers-global-navigation-index-js\" nonce=\"jnqaEHPArl8n5WE6NzRvA0rCjhgbi0wsgfq82t1QogMUxL8hVT\" src=\"https://static.files.bbci.co.uk/core/bundle-component-global-navigation.f71c7e43546ed2a686cf.js\" type=\"module\">\n",
      "  </script>\n",
      "  <script async=\"\" crossorigin=\"anonymous\" data-chunk=\"website-containers-global-navigation-index-js\" nonce=\"jnqaEHPArl8n5WE6NzRvA0rCjhgbi0wsgfq82t1QogMUxL8hVT\" src=\"https://static.files.bbci.co.uk/core/bundle-global-navigation.b75e3c9d21d7f25f4967.js\" type=\"module\">\n",
      "  </script>\n",
      "  <script async=\"\" crossorigin=\"anonymous\" data-chunk=\"website-containers-product-navigation-index-js\" nonce=\"jnqaEHPArl8n5WE6NzRvA0rCjhgbi0wsgfq82t1QogMUxL8hVT\" src=\"https://static.files.bbci.co.uk/core/bundle-component-product-navigation.9a62ba42f3237134f9c4.js\" type=\"module\">\n",
      "  </script>\n",
      "  <script async=\"\" crossorigin=\"anonymous\" data-chunk=\"website-containers-product-navigation-index-js\" nonce=\"jnqaEHPArl8n5WE6NzRvA0rCjhgbi0wsgfq82t1QogMUxL8hVT\" src=\"https://static.files.bbci.co.uk/core/bundle-component-masthead.8755ed248f76996832f7.js\" type=\"module\">\n",
      "  </script>\n",
      "  <script async=\"\" crossorigin=\"anonymous\" data-chunk=\"website-containers-product-navigation-index-js\" nonce=\"jnqaEHPArl8n5WE6NzRvA0rCjhgbi0wsgfq82t1QogMUxL8hVT\" src=\"https://static.files.bbci.co.uk/core/bundle-product-navigation.04c19a061f6eb9ef080c.js\" type=\"module\">\n",
      "  </script>\n",
      "  <script async=\"\" crossorigin=\"anonymous\" data-chunk=\"website-containers-football-top-scorers-index-js\" nonce=\"jnqaEHPArl8n5WE6NzRvA0rCjhgbi0wsgfq82t1QogMUxL8hVT\" src=\"https://static.files.bbci.co.uk/core/bundle-component-sport-badge.4ccd6c634a09d14b83b4.js\" type=\"module\">\n",
      "  </script>\n",
      "  <script async=\"\" crossorigin=\"anonymous\" data-chunk=\"website-containers-football-top-scorers-index-js\" nonce=\"jnqaEHPArl8n5WE6NzRvA0rCjhgbi0wsgfq82t1QogMUxL8hVT\" src=\"https://static.files.bbci.co.uk/core/bundle-component-sport-table.220ad3e76575ffb4f543.js\" type=\"module\">\n",
      "  </script>\n",
      "  <script async=\"\" crossorigin=\"anonymous\" data-chunk=\"website-containers-football-top-scorers-index-js\" nonce=\"jnqaEHPArl8n5WE6NzRvA0rCjhgbi0wsgfq82t1QogMUxL8hVT\" src=\"https://static.files.bbci.co.uk/core/bundle-component-combobox.758d2a7d7a531d8afd66.js\" type=\"module\">\n",
      "  </script>\n",
      "  <script async=\"\" crossorigin=\"anonymous\" data-chunk=\"website-containers-football-top-scorers-index-js\" nonce=\"jnqaEHPArl8n5WE6NzRvA0rCjhgbi0wsgfq82t1QogMUxL8hVT\" src=\"https://static.files.bbci.co.uk/core/bundle-football-top-scorers.6067879f7793f7d23337.js\" type=\"module\">\n",
      "  </script>\n",
      "  <script async=\"\" crossorigin=\"anonymous\" data-chunk=\"website-containers-global-footer-index-js\" nonce=\"jnqaEHPArl8n5WE6NzRvA0rCjhgbi0wsgfq82t1QogMUxL8hVT\" src=\"https://static.files.bbci.co.uk/core/bundle-global-footer.fe1ca1d69282f97e4f4d.js\" type=\"module\">\n",
      "  </script>\n",
      " </body>\n",
      "</html>\n",
      "\n"
     ]
    }
   ],
   "source": [
    "print(soup.prettify())"
   ]
  },
  {
   "cell_type": "code",
   "execution_count": 58,
   "id": "48b45789-6af7-45ed-a59f-be0c00786774",
   "metadata": {},
   "outputs": [
    {
     "data": {
      "text/plain": [
       "[<a class=\"ssrcss-col7sy-NavigationLink-LogoLink eki2hvo11\" href=\"https://www.bbc.com\"><span class=\"ssrcss-13kjque-LogoIconWrapper eki2hvo6\"><svg fill=\"currentColor\" height=\"32\" viewbox=\"0 0 112 32\" width=\"112\" xmlns=\"http://www.w3.org/2000/svg\"><path d=\"M111.99999,4.44444577e-05 L111.99999,32.0000444 L79.9999905,32.0000444 L79.9999905,4.44444577e-05 L111.99999,4.44444577e-05 Z M72.0000119,-3.55271368e-15 L72.0000119,32 L40.0000119,32 L40.0000119,-3.55271368e-15 L72.0000119,-3.55271368e-15 Z M32,-3.55271368e-15 L32,32 L-1.13686838e-13,32 L-1.13686838e-13,-3.55271368e-15 L32,-3.55271368e-15 Z M97.469329,6.80826869 C96.0294397,6.80826869 94.7294393,7.02226876 93.5693278,7.44982444 C92.4089942,7.87782457 91.4137717,8.49471364 90.5841047,9.30049166 C89.7538823,10.1067141 89.1188821,11.07327 88.6785486,12.199937 C88.2378818,13.3269373 88.0177706,14.5896043 88.0177706,15.9876048 C88.0177706,17.4188274 88.2296596,18.7062722 88.6531042,19.8493837 C89.0763265,20.9929396 89.6861045,21.9591621 90.482438,22.748829 C91.2784383,23.5383848 92.2522163,24.1430516 93.4042167,24.5624962 C94.5558837,24.9819408 95.8516619,25.1917186 97.2914401,25.1917186 C98.3752182,25.1917186 99.4086629,25.072163 100.391219,24.8338296 C101.37333,24.5956073 102.237108,24.2706072 102.982664,23.8592738 L102.982664,23.8592738 L102.982664,20.4292727 C101.40733,21.4001619 99.6881074,21.8851621 97.8251069,21.8851621 C96.6054399,21.8851621 95.567884,21.6549398 94.7126615,21.194273 C93.8572168,20.7338284 93.2049944,20.0633837 92.7564387,19.1831613 C92.3073275,18.3032721 92.0831052,17.2380496 92.0831052,15.9876048 C92.0831052,14.7377155 92.3156608,13.6766041 92.7816609,12.8044927 C93.2474389,11.9327147 93.916328,11.2664922 94.7888838,10.8058254 C95.6609951,10.3453809 96.715551,10.1148252 97.9521069,10.1148252 C98.8496628,10.1148252 99.7052186,10.2342697 100.518108,10.4726031 C101.331219,10.7112699 102.084664,11.0609366 102.779442,11.5212701 L102.779442,11.5212701 L102.779442,8.01738016 C102.017219,7.62260227 101.191441,7.32260218 100.302219,7.11671323 C99.4129963,6.91126872 98.4685515,6.80826869 97.469329,6.80826869 Z M55.7552388,7.00000208 L49.0000146,7.00000208 L49.0000146,25.0000021 L56.1713501,25.0000021 C57.590906,25.0000021 58.8063508,24.7903407 59.8181289,24.3706739 C60.8297959,23.9513405 61.6087961,23.3553403 62.1555741,22.5832289 C62.7020187,21.8114509 62.9754632,20.8882284 62.9754632,19.8140059 C62.9754632,18.7232278 62.6941298,17.7960053 62.1312407,17.0321162 C61.5681294,16.2686715 60.7563514,15.7104491 59.6957955,15.3580046 C60.4625736,14.9891156 61.0420182,14.4894488 61.4335738,13.8601152 C61.8252406,13.2307817 62.0210185,12.4881148 62.0210185,11.6321146 C62.0210185,10.1385586 61.4742405,8.99311379 60.3812402,8.19578022 C59.2877954,7.39889109 57.745795,7.00000208 55.7552388,7.00000208 L55.7552388,7.00000208 Z M15.7552269,7.00000208 L9.00000268,7.00000208 L9.00000268,25.0000021 L16.1713381,25.0000021 C17.5908941,25.0000021 18.8062278,24.7903407 19.8182281,24.3706739 C20.8296729,23.9513405 21.6087842,23.3553403 22.1555621,22.5832289 C22.7021179,21.8114509 22.9755624,20.8882284 22.9755624,19.8140059 C22.9755624,18.7232278 22.6941179,17.7960053 22.1311177,17.0321162 C21.5682286,16.2686715 20.7563395,15.7104491 19.6957836,15.3580046 C20.4625616,14.9891156 21.0418952,14.4894488 21.4335619,13.8601152 C21.8252287,13.2307817 22.0210066,12.4881148 22.0210066,11.6321146 C22.0210066,10.1385586 21.4741175,8.99311379 20.3811172,8.19578022 C19.2877835,7.39889109 17.7457831,7.00000208 15.7552269,7.00000208 L15.7552269,7.00000208 Z M55.8775833,17.2209385 C58.1128062,17.2209385 59.2308065,18.0434943 59.2308065,19.6881614 C59.2308065,20.4602728 58.9369175,21.0518285 58.3496951,21.4629397 C57.7622505,21.8743843 56.9216947,22.0797177 55.8286944,22.0797177 L55.8286944,22.0797177 L52.6469157,22.0797177 L52.6469157,17.2209385 Z M15.8775714,17.2209385 C18.1129054,17.2209385 19.2307946,18.0434943 19.2307946,19.6881614 C19.2307946,20.4602728 18.9370167,21.0518285 18.3496832,21.4629397 C17.7622386,21.8743843 16.9216828,22.0797177 15.8286825,22.0797177 L15.8286825,22.0797177 L12.6469038,22.0797177 L12.6469038,17.2209385 Z M55.412572,9.92028073 C57.3541282,9.92028073 58.3252396,10.6338365 58.3252396,12.0600591 C58.3252396,12.7988371 58.0763506,13.373504 57.5786838,13.7846152 C57.0807948,14.1960598 56.3587946,14.4013932 55.412572,14.4013932 L55.412572,14.4013932 L52.6469046,14.4013932 L52.6469046,9.92028073 Z M15.4125601,9.92028073 C17.3541163,9.92028073 18.3252277,10.6338365 18.3252277,12.0600591 C18.3252277,12.7988371 18.0762276,13.373504 17.5786719,13.7846152 C17.0807829,14.1960598 16.3587826,14.4013932 15.4125601,14.4013932 L15.4125601,14.4013932 L12.6468927,14.4013932 L12.6468927,9.92028073 Z\"></path></svg><span class=\"visually-hidden ssrcss-1f39n02-VisuallyHidden e16en2lz0\">BBC Homepage</span></span></a>,\n",
       " <a class=\"ssrcss-1ubr254-AccessibilityLink e1d16uym0\" href=\"#main-heading\">Skip to content</a>,\n",
       " <a class=\"ssrcss-1ubr254-AccessibilityLink e1d16uym0\" href=\"https://www.bbc.co.uk/accessibility/\">Accessibility Help</a>,\n",
       " <a aria-hidden=\"true\" class=\"ssrcss-11dv7o-NavigationLink-AccountLink eki2hvo10\" hidden=\"\" href=\"https://account.bbc.com/account?lang=en-GB&amp;ptrt=https%3A%2F%2Fwww.bbc.com%2Fsport%2Ffootball%2Fpremier-league%2Ftop-scorers&amp;userOrigin=SPORT_GNL\"><span class=\"ssrcss-1oeiyy4-ForYouIconWrapper e1jj8uav3\"><svg aria-hidden=\"true\" class=\"ssrcss-xi5oyi-StyledIcon e161cein1\" focusable=\"false\" height=\"1em\" viewbox=\"0 0 32 32\" width=\"1em\"><path d=\"M16 23c-3.3 0-5.8-2.5-5.8-5.8s2.5-5.8 5.8-5.8c3.2 0 5.8 2.5 5.8 5.8S19.2 23 16 23m15-5.7c0-8.4-6.6-15-15-15-8.5 0-15 6.6-15 15 0 5.2 2.5 9.8 6.4 12.4 1.9-2.8 5-4.6 8.6-4.6s6.7 1.8 8.6 4.6C28.5 27 31 22.5 31 17.3\"></path></svg></span><span class=\"ssrcss-bvzllz-AccountText e1jj8uav2\">Your account</span></a>,\n",
       " <a class=\"ssrcss-15owa93-NavigationLink eki2hvo14\" href=\"https://www.bbc.com\"><span class=\"ssrcss-132qwvs-NavItemHoverState eki2hvo15\">Home</span></a>,\n",
       " <a class=\"ssrcss-15owa93-NavigationLink eki2hvo14\" href=\"https://www.bbc.com/news\"><span class=\"ssrcss-132qwvs-NavItemHoverState eki2hvo15\">News</span></a>,\n",
       " <a class=\"ssrcss-15owa93-NavigationLink eki2hvo14\" href=\"https://www.bbc.com/sport\"><span class=\"ssrcss-132qwvs-NavItemHoverState eki2hvo15\">Sport</span></a>,\n",
       " <a class=\"ssrcss-15owa93-NavigationLink eki2hvo14\" href=\"https://www.bbc.com/business\"><span class=\"ssrcss-132qwvs-NavItemHoverState eki2hvo15\">Business</span></a>,\n",
       " <a class=\"ssrcss-15owa93-NavigationLink eki2hvo14\" href=\"https://www.bbc.com/innovation\"><span class=\"ssrcss-132qwvs-NavItemHoverState eki2hvo15\">Innovation</span></a>,\n",
       " <a class=\"ssrcss-15owa93-NavigationLink eki2hvo14\" href=\"https://www.bbc.com/culture\"><span class=\"ssrcss-132qwvs-NavItemHoverState eki2hvo15\">Culture</span></a>,\n",
       " <a class=\"ssrcss-15owa93-NavigationLink eki2hvo14\" href=\"https://www.bbc.com/travel\"><span class=\"ssrcss-132qwvs-NavItemHoverState eki2hvo15\">Travel</span></a>,\n",
       " <a class=\"ssrcss-15owa93-NavigationLink eki2hvo14\" href=\"https://www.bbc.com/future-planet\"><span class=\"ssrcss-132qwvs-NavItemHoverState eki2hvo15\">Earth</span></a>,\n",
       " <a class=\"ssrcss-15owa93-NavigationLink eki2hvo14\" href=\"https://www.bbc.com/audio\"><span class=\"ssrcss-132qwvs-NavItemHoverState eki2hvo15\">Audio</span></a>,\n",
       " <a class=\"ssrcss-15owa93-NavigationLink eki2hvo14\" href=\"https://www.bbc.com/video\"><span class=\"ssrcss-132qwvs-NavItemHoverState eki2hvo15\">Video</span></a>,\n",
       " <a class=\"ssrcss-15owa93-NavigationLink eki2hvo14\" href=\"https://www.bbc.com/live\"><span class=\"ssrcss-132qwvs-NavItemHoverState eki2hvo15\">Live</span></a>,\n",
       " <a class=\"ssrcss-1oqvpc8-NavigationLink-MenuToggleControlLink eki2hvo1\" href=\"#global-navigation-more-menu\"><span class=\"ssrcss-14kc44w-NavItemHoverState eki2hvo15\"><span class=\"ssrcss-13dpa8i-DotsMenuIconWrapper eki2hvo2\"><svg fill=\"currentColor\" height=\"4\" viewbox=\"0 0 20 4\" width=\"20\" xmlns=\"http://www.w3.org/2000/svg\"><g transform=\"translate(-14.000000, -22.000000)\"><path d=\"M18,22 L18,26 L14,26 L14,22 L18,22 Z M34,22 L34,26 L30,26 L30,22 L34,22 Z M26,22 L26,26 L22,26 L22,22 L26,22 Z\"></path></g></svg><span class=\"visually-hidden ssrcss-1f39n02-VisuallyHidden e16en2lz0\">More menu</span></span></span></a>,\n",
       " <a class=\"ssrcss-1oqvpc8-NavigationLink-MenuToggleControlLink eki2hvo1\" href=\"#global-navigation-more-menu\"><span class=\"ssrcss-132qwvs-NavItemHoverState eki2hvo15\"><span class=\"ssrcss-1myt22i-BurgerMenuIconWrapper eki2hvo3\"><svg fill=\"currentColor\" height=\"1.375em\" version=\"1.1\" viewbox=\"0 0 24 22\" width=\"1.5em\" xmlns=\"http://www.w3.org/2000/svg\"><path d=\"M24,18 L24,22 L0,22 L0,18 L24,18 Z M24,9 L24,13 L0,13 L0,9 L24,9 Z M24,0 L24,4 L0,4 L0,0 L24,0 Z\"></path></svg><span class=\"visually-hidden ssrcss-1f39n02-VisuallyHidden e16en2lz0\">More menu</span></span></span></a>,\n",
       " <a class=\"ssrcss-rrztoo-NavigationLink-SearchLink eki2hvo13\" href=\"https://www.bbc.co.uk/search?d=SPORT_GNL\"><span class=\"ssrcss-1lc3dkf-IconWrapper-SearchIconWrapper eki2hvo4\"><svg aria-hidden=\"true\" class=\"ssrcss-xi5oyi-StyledIcon e161cein1\" focusable=\"false\" height=\"1em\" viewbox=\"0 0 32 32\" width=\"1em\"><path d=\"m30.6 28.1-8.3-8.3c1.5-2 2.4-4.4 2.4-7.2C24.7 6 19.6 1 13 1S1.4 6.1 1.4 12.7 6.5 24.3 13 24.3c2.3 0 4.4-.6 6.2-1.8l8.5 8.5zM4 12.6c0-5.2 3.9-9.1 9-9.1s9 3.9 9 9.1-3.9 9.1-9 9.1-9-3.9-9-9.1\"></path></svg></span><span class=\"ssrcss-1rstd29-SearchText eki2hvo12\">Search BBC</span></a>,\n",
       " <a class=\"ssrcss-kffy1u-MenuLink e2z809s2\" href=\"https://www.bbc.com\">Home</a>,\n",
       " <a class=\"ssrcss-kffy1u-MenuLink e2z809s2\" href=\"https://www.bbc.com/news\">News</a>,\n",
       " <a class=\"ssrcss-kffy1u-MenuLink e2z809s2\" href=\"https://www.bbc.com/sport\">Sport</a>,\n",
       " <a class=\"ssrcss-kffy1u-MenuLink e2z809s2\" href=\"https://www.bbc.com/business\">Business</a>,\n",
       " <a class=\"ssrcss-kffy1u-MenuLink e2z809s2\" href=\"https://www.bbc.com/innovation\">Innovation</a>,\n",
       " <a class=\"ssrcss-kffy1u-MenuLink e2z809s2\" href=\"https://www.bbc.com/culture\">Culture</a>,\n",
       " <a class=\"ssrcss-kffy1u-MenuLink e2z809s2\" href=\"https://www.bbc.com/travel\">Travel</a>,\n",
       " <a class=\"ssrcss-kffy1u-MenuLink e2z809s2\" href=\"https://www.bbc.com/future-planet\">Earth</a>,\n",
       " <a class=\"ssrcss-kffy1u-MenuLink e2z809s2\" href=\"https://www.bbc.com/audio\">Audio</a>,\n",
       " <a class=\"ssrcss-kffy1u-MenuLink e2z809s2\" href=\"https://www.bbc.com/video\">Video</a>,\n",
       " <a class=\"ssrcss-kffy1u-MenuLink e2z809s2\" href=\"https://www.bbc.com/live\">Live</a>,\n",
       " <a class=\"ssrcss-1maygca-CallToActionLink esxl4sy1\" href=\"#more-menu-button\"><span class=\"ssrcss-1hfawy1-IconWrapper esxl4sy0\" data-testid=\"actions:close\"><svg aria-hidden=\"true\" class=\"ssrcss-xi5oyi-StyledIcon e161cein1\" focusable=\"false\" height=\"1em\" viewbox=\"0 0 32 32\" width=\"1em\"><path d=\"m30 4.6-2.8-2.8L2 27.4l2.8 2.8zM4.8 1.8 1.9 4.7l25.2 25.5 2.9-2.9z\"></path></svg><span class=\"visually-hidden ssrcss-1f39n02-VisuallyHidden e16en2lz0\"><span class=\"call-to-action-link-text-wrapper\">Close menu</span></span></span></a>,\n",
       " <a class=\"ssrcss-1vyfvn-LogoLink esbu9dd4\" href=\"/sport\"><svg aria-hidden=\"true\" class=\"ssrcss-18958r2-LogoIcon esbu9dd7\" focusable=\"false\" preserveaspectratio=\"xMinYMid meet\" role=\"presentation\" viewbox=\"0 0 762 170\" xmlns=\"http://www.w3.org/2000/svg\"><path d=\"M53.168 170c-8.976 0-17.837-.989-26.584-2.966-8.747-1.978-17.152-5.097-25.215-9.356v-31.49c16.278 9.888 33.544 14.832 51.799 14.832 10.344 0 18.217-1.75 23.617-5.248 5.4-3.5 8.1-8.367 8.1-14.604 0-4.716-1.33-8.405-3.992-11.067-2.663-2.663-6.2-4.792-10.611-6.39-4.412-1.597-9.356-3.08-14.832-4.45-8.976-2.129-16.886-4.563-23.732-7.301-6.846-2.739-12.626-5.971-17.342-9.698C9.66 78.535 6.085 74.047 3.65 68.799 1.217 63.55 0 57.275 0 49.973 0 39.63 2.624 30.73 7.872 23.275c5.249-7.454 12.665-13.197 22.249-17.228C39.705 2.016 51.114 0 64.349 0c8.671 0 17.19.989 25.557 2.966 8.367 1.978 15.897 4.64 22.59 7.987v31.034c-6.693-4.108-14.261-7.302-22.704-9.584-8.443-2.282-16.924-3.423-25.443-3.423-9.28 0-16.468 1.597-21.564 4.792-5.096 3.194-7.644 7.758-7.644 13.691 0 4.26 1.217 7.644 3.65 10.154 2.435 2.51 5.896 4.564 10.384 6.162 4.487 1.597 9.774 3.156 15.859 4.677 7.758 1.978 14.984 4.146 21.677 6.504 6.694 2.358 12.589 5.362 17.685 9.013 5.096 3.651 9.051 8.29 11.866 13.92 2.814 5.628 4.221 12.55 4.221 20.765 0 10.8-2.662 20.042-7.986 27.725-5.325 7.682-13.007 13.539-23.047 17.57C79.41 167.984 67.316 170 53.168 170zm94.241-3.423V3.423h58.645c20.993 0 37.118 4.64 48.376 13.92 11.257 9.279 16.885 22.59 16.885 39.932 0 11.41-2.548 21.108-7.644 29.094-5.096 7.987-12.512 14.072-22.248 18.255-9.736 4.184-21.602 6.275-35.598 6.275h-23.731v55.678h-34.685zm34.685-83.288H204c10.345 0 18.217-2.092 23.617-6.276 5.4-4.183 8.101-10.762 8.101-19.738 0-8.975-2.7-15.593-8.1-19.852-5.401-4.26-13.197-6.39-23.39-6.39h-22.134V83.29zM371.49 0c12.322 0 23.465 1.978 33.43 5.933 9.964 3.955 18.483 9.622 25.557 17 7.073 7.378 12.512 16.277 16.315 26.698 3.803 10.42 5.705 22.172 5.705 35.255 0 12.93-1.902 24.644-5.705 35.14-3.803 10.498-9.242 19.473-16.315 26.927-7.074 7.454-15.593 13.159-25.558 17.114-9.964 3.955-21.107 5.933-33.43 5.933-12.321 0-23.464-1.978-33.429-5.933-9.964-3.955-18.483-9.66-25.557-17.114-7.074-7.454-12.512-16.43-16.315-26.926-3.803-10.497-5.705-22.21-5.705-35.141 0-13.083 1.902-24.834 5.705-35.255 3.803-10.42 9.241-19.32 16.315-26.698 7.074-7.378 15.593-13.045 25.557-17C348.025 1.978 359.168 0 371.49 0zm0 139.423c9.28 0 17.266-2.168 23.96-6.504 6.693-4.335 11.79-10.534 15.288-18.597 3.5-8.063 5.249-17.875 5.249-29.436 0-11.562-1.75-21.374-5.249-29.436-3.499-8.063-8.595-14.224-15.288-18.484-6.694-4.26-14.68-6.389-23.96-6.389-9.28 0-17.266 2.13-23.96 6.39-6.693 4.259-11.79 10.42-15.288 18.483-3.5 8.062-5.249 17.874-5.249 29.436 0 11.561 1.75 21.373 5.249 29.436 3.499 8.063 8.595 14.262 15.288 18.597 6.694 4.336 14.68 6.504 23.96 6.504zm143.53-32.175v59.33h-34.684V3.422h59.557c21.45 0 37.917 4.487 49.402 13.463 11.486 8.975 17.228 21.83 17.228 38.564 0 10.8-2.548 20.004-7.644 27.61-5.096 7.607-12.36 13.463-21.792 17.57a2893.49 2893.49 0 0 1 20.309 32.518 1848.856 1848.856 0 0 1 20.08 33.43h-40.389a1619.556 1619.556 0 0 0-34-59.33H515.02zm0-27.61h22.819c10.8 0 19.016-1.94 24.644-5.82 5.629-3.878 8.443-10.001 8.443-18.368 0-8.367-2.776-14.528-8.329-18.484-5.552-3.955-13.729-5.932-24.53-5.932H515.02v48.604zM623.866 3.423H761.69V34H710.35v132.577h-35.14V34h-51.343V3.423z\"></path></svg><span class=\"visually-hidden ssrcss-1f39n02-VisuallyHidden e16en2lz0\">BBC Sport</span></a>,\n",
       " <a class=\"ssrcss-ckisij-StyledToggle ekfn8591\" href=\"/sport/all-sports\"><span class=\"ssrcss-uq8y1d-IconWrapper ekfn8590\" data-testid=\"actions:list-view-text\"><svg aria-hidden=\"true\" class=\"ssrcss-xi5oyi-StyledIcon e161cein1\" focusable=\"false\" height=\"1em\" viewbox=\"0 0 32 32\" width=\"1em\"><path d=\"M1 7.5h30V1.9H1zm0 22.6h30v-5.6H1zm0-11.3h30v-5.6H1z\"></path></svg></span>Menu</a>,\n",
       " <a class=\"ssrcss-162z3cq-StyledLink eis6szr2\" href=\"/sport\"><span class=\"ssrcss-1u47p8g-LinkTextContainer eis6szr1\">Home</span></a>,\n",
       " <a class=\"ssrcss-t8swvy-StyledLink eis6szr2\" href=\"/sport/football\"><span class=\"ssrcss-1u47p8g-LinkTextContainer eis6szr1\">Football</span></a>,\n",
       " <a class=\"ssrcss-162z3cq-StyledLink eis6szr2\" href=\"/sport/cricket\"><span class=\"ssrcss-1u47p8g-LinkTextContainer eis6szr1\">Cricket</span></a>,\n",
       " <a class=\"ssrcss-162z3cq-StyledLink eis6szr2\" href=\"/sport/formula1\"><span class=\"ssrcss-1u47p8g-LinkTextContainer eis6szr1\">Formula 1</span></a>,\n",
       " <a class=\"ssrcss-162z3cq-StyledLink eis6szr2\" href=\"/sport/rugby-union\"><span class=\"ssrcss-1u47p8g-LinkTextContainer eis6szr1\">Rugby U</span></a>,\n",
       " <a class=\"ssrcss-162z3cq-StyledLink eis6szr2\" href=\"/sport/tennis\"><span class=\"ssrcss-1u47p8g-LinkTextContainer eis6szr1\">Tennis</span></a>,\n",
       " <a class=\"ssrcss-162z3cq-StyledLink eis6szr2\" href=\"/sport/golf\"><span class=\"ssrcss-1u47p8g-LinkTextContainer eis6szr1\">Golf</span></a>,\n",
       " <a class=\"ssrcss-162z3cq-StyledLink eis6szr2\" href=\"/sport/athletics\"><span class=\"ssrcss-1u47p8g-LinkTextContainer eis6szr1\">Athletics</span></a>,\n",
       " <a class=\"ssrcss-162z3cq-StyledLink eis6szr2\" href=\"/sport/football/womens-european-championship\"><span class=\"ssrcss-1u47p8g-LinkTextContainer eis6szr1\">Euro 2025</span></a>,\n",
       " <a class=\"ssrcss-162z3cq-StyledLink eis6szr2\" href=\"/sport/cycling\"><span class=\"ssrcss-1u47p8g-LinkTextContainer eis6szr1\">Cycling</span></a>,\n",
       " <a class=\"ssrcss-ckisij-StyledToggle ekfn8591\" href=\"/sport/all-sports\"><span class=\"ssrcss-uq8y1d-IconWrapper ekfn8590\" data-testid=\"actions:list-view-text\"><svg aria-hidden=\"true\" class=\"ssrcss-xi5oyi-StyledIcon e161cein1\" focusable=\"false\" height=\"1em\" viewbox=\"0 0 32 32\" width=\"1em\"><path d=\"M1 7.5h30V1.9H1zm0 22.6h30v-5.6H1zm0-11.3h30v-5.6H1z\"></path></svg></span>More</a>,\n",
       " <a class=\"ssrcss-1bzy3wo-StyledLink eis6szr2\" href=\"/sport/american-football\"><span class=\"ssrcss-i9csl0-LinkTextContainer eis6szr1\">American Football</span></a>,\n",
       " <a class=\"ssrcss-1bzy3wo-StyledLink eis6szr2\" href=\"/sport/athletics\"><span class=\"ssrcss-i9csl0-LinkTextContainer eis6szr1\">Athletics</span></a>,\n",
       " <a class=\"ssrcss-1bzy3wo-StyledLink eis6szr2\" href=\"/sport/basketball\"><span class=\"ssrcss-i9csl0-LinkTextContainer eis6szr1\">Basketball</span></a>,\n",
       " <a class=\"ssrcss-1bzy3wo-StyledLink eis6szr2\" href=\"/sport/boxing\"><span class=\"ssrcss-i9csl0-LinkTextContainer eis6szr1\">Boxing</span></a>,\n",
       " <a class=\"ssrcss-1bzy3wo-StyledLink eis6szr2\" href=\"/sport/cricket\"><span class=\"ssrcss-i9csl0-LinkTextContainer eis6szr1\">Cricket</span></a>,\n",
       " <a class=\"ssrcss-1bzy3wo-StyledLink eis6szr2\" href=\"/sport/cycling\"><span class=\"ssrcss-i9csl0-LinkTextContainer eis6szr1\">Cycling</span></a>,\n",
       " <a class=\"ssrcss-1bzy3wo-StyledLink eis6szr2\" href=\"/sport/darts\"><span class=\"ssrcss-i9csl0-LinkTextContainer eis6szr1\">Darts</span></a>,\n",
       " <a class=\"ssrcss-1bzy3wo-StyledLink eis6szr2\" href=\"/sport/disability-sport\"><span class=\"ssrcss-i9csl0-LinkTextContainer eis6szr1\">Disability Sport</span></a>,\n",
       " <a class=\"ssrcss-1bzy3wo-StyledLink eis6szr2\" href=\"/sport/football\"><span class=\"ssrcss-i9csl0-LinkTextContainer eis6szr1\">Football</span></a>,\n",
       " <a class=\"ssrcss-1bzy3wo-StyledLink eis6szr2\" href=\"/sport/formula1\"><span class=\"ssrcss-i9csl0-LinkTextContainer eis6szr1\">Formula 1</span></a>,\n",
       " <a class=\"ssrcss-1bzy3wo-StyledLink eis6szr2\" href=\"/sport/northern-ireland/gaelic-games\"><span class=\"ssrcss-i9csl0-LinkTextContainer eis6szr1\">Gaelic Games</span></a>,\n",
       " <a class=\"ssrcss-1bzy3wo-StyledLink eis6szr2\" href=\"/sport/golf\"><span class=\"ssrcss-i9csl0-LinkTextContainer eis6szr1\">Golf</span></a>,\n",
       " <a class=\"ssrcss-1bzy3wo-StyledLink eis6szr2\" href=\"/sport/gymnastics\"><span class=\"ssrcss-i9csl0-LinkTextContainer eis6szr1\">Gymnastics</span></a>,\n",
       " <a class=\"ssrcss-1bzy3wo-StyledLink eis6szr2\" href=\"/sport/horse-racing\"><span class=\"ssrcss-i9csl0-LinkTextContainer eis6szr1\">Horse Racing</span></a>,\n",
       " <a class=\"ssrcss-1bzy3wo-StyledLink eis6szr2\" href=\"/sport/mixed-martial-arts\"><span class=\"ssrcss-i9csl0-LinkTextContainer eis6szr1\">Mixed Martial Arts</span></a>,\n",
       " <a class=\"ssrcss-1bzy3wo-StyledLink eis6szr2\" href=\"/sport/motorsport\"><span class=\"ssrcss-i9csl0-LinkTextContainer eis6szr1\">Motorsport</span></a>,\n",
       " <a class=\"ssrcss-1bzy3wo-StyledLink eis6szr2\" href=\"/sport/netball\"><span class=\"ssrcss-i9csl0-LinkTextContainer eis6szr1\">Netball</span></a>,\n",
       " <a class=\"ssrcss-1bzy3wo-StyledLink eis6szr2\" href=\"/sport/olympics\"><span class=\"ssrcss-i9csl0-LinkTextContainer eis6szr1\">Olympic Sports</span></a>,\n",
       " <a class=\"ssrcss-1bzy3wo-StyledLink eis6szr2\" href=\"/sport/rugby-league\"><span class=\"ssrcss-i9csl0-LinkTextContainer eis6szr1\">Rugby League</span></a>,\n",
       " <a class=\"ssrcss-1bzy3wo-StyledLink eis6szr2\" href=\"/sport/rugby-union\"><span class=\"ssrcss-i9csl0-LinkTextContainer eis6szr1\">Rugby Union</span></a>,\n",
       " <a class=\"ssrcss-1bzy3wo-StyledLink eis6szr2\" href=\"/sport/snooker\"><span class=\"ssrcss-i9csl0-LinkTextContainer eis6szr1\">Snooker</span></a>,\n",
       " <a class=\"ssrcss-1bzy3wo-StyledLink eis6szr2\" href=\"/sport/swimming\"><span class=\"ssrcss-i9csl0-LinkTextContainer eis6szr1\">Swimming</span></a>,\n",
       " <a class=\"ssrcss-1bzy3wo-StyledLink eis6szr2\" href=\"/sport/tennis\"><span class=\"ssrcss-i9csl0-LinkTextContainer eis6szr1\">Tennis</span></a>,\n",
       " <a class=\"ssrcss-1bzy3wo-StyledLink eis6szr2\" href=\"/sport/winter-sports\"><span class=\"ssrcss-i9csl0-LinkTextContainer eis6szr1\">Winter Sports</span></a>,\n",
       " <a class=\"ssrcss-1bzy3wo-StyledLink eis6szr2\" href=\"/sport/all-sports\"><span class=\"ssrcss-i9csl0-LinkTextContainer eis6szr1\">Full Sports A-Z</span></a>,\n",
       " <a class=\"ssrcss-1bzy3wo-StyledLink eis6szr2\" href=\"/sport/england\"><span class=\"ssrcss-i9csl0-LinkTextContainer eis6szr1\">England</span></a>,\n",
       " <a class=\"ssrcss-1bzy3wo-StyledLink eis6szr2\" href=\"/sport/scotland\"><span class=\"ssrcss-i9csl0-LinkTextContainer eis6szr1\">Scotland</span></a>,\n",
       " <a class=\"ssrcss-1bzy3wo-StyledLink eis6szr2\" href=\"/sport/wales\"><span class=\"ssrcss-i9csl0-LinkTextContainer eis6szr1\">Wales</span></a>,\n",
       " <a class=\"ssrcss-1bzy3wo-StyledLink eis6szr2\" href=\"/sport/northern-ireland\"><span class=\"ssrcss-i9csl0-LinkTextContainer eis6szr1\">Northern Ireland</span></a>,\n",
       " <a class=\"ssrcss-1bzy3wo-StyledLink eis6szr2\" href=\"/sport/15890345\"><span class=\"ssrcss-i9csl0-LinkTextContainer eis6szr1\">News Feeds</span></a>,\n",
       " <a class=\"ssrcss-1bzy3wo-StyledLink eis6szr2\" href=\"/sport/15561348\"><span class=\"ssrcss-i9csl0-LinkTextContainer eis6szr1\">Help &amp; FAQs</span></a>,\n",
       " <a class=\"ssrcss-13wbrke-StyledLink eis6szr2\" href=\"/sport/football/premier-league\"><span class=\"ssrcss-1mstwv3-LinkTextContainer eis6szr1\">Premier League</span><div class=\"ssrcss-p4fm83-IconContainer eis6szr0\" data-testid=\"arrows:chevron-right\"><svg aria-hidden=\"true\" class=\"ssrcss-xi5oyi-StyledIcon e161cein1\" focusable=\"false\" height=\"1em\" viewbox=\"0 0 32 32\" width=\"1em\"><path d=\"M21.6 14.3 5.5 31h6.4l14.6-15L11.9 1H5.5l16.1 16.7z\"></path></svg></div></a>,\n",
       " <a class=\"ssrcss-13wbrke-StyledLink eis6szr2\" href=\"/sport/football/premier-league/scores-fixtures\"><span class=\"ssrcss-1mstwv3-LinkTextContainer eis6szr1\">Scores &amp; Fixtures</span></a>,\n",
       " <a class=\"ssrcss-13wbrke-StyledLink eis6szr2\" href=\"/sport/football/premier-league/table\"><span class=\"ssrcss-1mstwv3-LinkTextContainer eis6szr1\">Table</span></a>,\n",
       " <a class=\"ssrcss-1ncu3vb-StyledLink eis6szr2\" href=\"/sport/football/premier-league/top-scorers\"><span class=\"ssrcss-1mstwv3-LinkTextContainer eis6szr1\">Top Scorers</span></a>,\n",
       " <a class=\"ssrcss-29l7i3-Link-NavigationLink e130hpyp0\" href=\"https://www.bbc.com\">Home</a>,\n",
       " <a class=\"ssrcss-29l7i3-Link-NavigationLink e130hpyp0\" href=\"https://www.bbc.com/news\">News</a>,\n",
       " <a class=\"ssrcss-29l7i3-Link-NavigationLink e130hpyp0\" href=\"https://www.bbc.com/sport\">Sport</a>,\n",
       " <a class=\"ssrcss-29l7i3-Link-NavigationLink e130hpyp0\" href=\"https://www.bbc.com/business\">Business</a>,\n",
       " <a class=\"ssrcss-29l7i3-Link-NavigationLink e130hpyp0\" href=\"https://www.bbc.com/innovation\">Innovation</a>,\n",
       " <a class=\"ssrcss-29l7i3-Link-NavigationLink e130hpyp0\" href=\"https://www.bbc.com/culture\">Culture</a>,\n",
       " <a class=\"ssrcss-29l7i3-Link-NavigationLink e130hpyp0\" href=\"https://www.bbc.com/travel\">Travel</a>,\n",
       " <a class=\"ssrcss-29l7i3-Link-NavigationLink e130hpyp0\" href=\"https://www.bbc.com/future-planet\">Earth</a>,\n",
       " <a class=\"ssrcss-29l7i3-Link-NavigationLink e130hpyp0\" href=\"https://www.bbc.com/audio\">Audio</a>,\n",
       " <a class=\"ssrcss-29l7i3-Link-NavigationLink e130hpyp0\" href=\"https://www.bbc.com/video\">Video</a>,\n",
       " <a class=\"ssrcss-29l7i3-Link-NavigationLink e130hpyp0\" href=\"https://www.bbc.com/live\">Live</a>,\n",
       " <a class=\"ssrcss-1d9p81h-Link-LegalLink e1nhpvv71\" href=\"https://www.bbc.com/pages/terms-of-use\">Terms of Use</a>,\n",
       " <a class=\"ssrcss-1d9p81h-Link-LegalLink e1nhpvv71\" href=\"https://www.bbc.co.uk/aboutthebbc\">About the BBC</a>,\n",
       " <a class=\"ssrcss-1d9p81h-Link-LegalLink e1nhpvv71\" href=\"https://www.bbc.com/pages/privacy-policy\">Privacy Policy</a>,\n",
       " <a class=\"ssrcss-1d9p81h-Link-LegalLink e1nhpvv71\" href=\"https://www.bbc.com/usingthebbc/cookies\">Cookies</a>,\n",
       " <a class=\"ssrcss-1d9p81h-Link-LegalLink e1nhpvv71\" href=\"https://www.bbc.co.uk/accessibility\">Accessibility Help</a>,\n",
       " <a class=\"ssrcss-1d9p81h-Link-LegalLink e1nhpvv71\" href=\"https://www.bbc.co.uk/iplayer/guidance\">Parental Guidance</a>,\n",
       " <a class=\"ssrcss-1d9p81h-Link-LegalLink e1nhpvv71\" href=\"https://www.bbc.co.uk/contact\">Contact the BBC</a>,\n",
       " <a class=\"ssrcss-1d9p81h-Link-LegalLink e1nhpvv71\" href=\"https://www.bbc.co.uk/bbcnewsletter\">BBC emails for you</a>,\n",
       " <a class=\"ssrcss-1d9p81h-Link-LegalLink e1nhpvv71\" href=\"https://www.bbc.com/advertisingcontact/\">Advertise with us</a>,\n",
       " <a class=\"ssrcss-bosb8n-Link e14mg4ud0\" href=\"https://www.bbc.co.uk/editorialguidelines/guidance/feeds-and-links\">Read about our approach to external linking.</a>]"
      ]
     },
     "execution_count": 58,
     "metadata": {},
     "output_type": "execute_result"
    }
   ],
   "source": [
    "soup.find_all('a')"
   ]
  },
  {
   "cell_type": "code",
   "execution_count": null,
   "id": "62ffc84e-a1a6-44d8-a436-72e230507151",
   "metadata": {},
   "outputs": [],
   "source": []
  }
 ],
 "metadata": {
  "kernelspec": {
   "display_name": "Web Scraping",
   "language": "python",
   "name": "web_scraping"
  },
  "language_info": {
   "codemirror_mode": {
    "name": "ipython",
    "version": 3
   },
   "file_extension": ".py",
   "mimetype": "text/x-python",
   "name": "python",
   "nbconvert_exporter": "python",
   "pygments_lexer": "ipython3",
   "version": "3.13.5"
  },
  "widgets": {
   "application/vnd.jupyter.widget-state+json": {
    "state": {},
    "version_major": 2,
    "version_minor": 0
   }
  }
 },
 "nbformat": 4,
 "nbformat_minor": 5
}
